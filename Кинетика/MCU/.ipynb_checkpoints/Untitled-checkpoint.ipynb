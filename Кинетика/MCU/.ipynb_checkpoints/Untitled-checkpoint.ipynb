{
 "cells": [
  {
   "cell_type": "code",
   "execution_count": 28,
   "id": "bea140f7-5043-40fb-b0bc-ab8703801505",
   "metadata": {},
   "outputs": [],
   "source": [
    "f=open(\"VVER_Danya.txt\",\"r\",encoding = 'utf-8')\n",
    "t=f.readlines()\n",
    "f.close()\n",
    "s=0\n",
    "t[12]=t[12][:5]+\"0.000911\"+\"                 \\n\"\n",
    "f = open(\"demofile2.txt\", \"w\")\n",
    "for i in t:\n",
    "    f.write(i)\n",
    "f.close()"
   ]
  },
  {
   "cell_type": "code",
   "execution_count": 34,
   "id": "04bf28c8-82ae-4819-af5d-a082ec6f3ecc",
   "metadata": {},
   "outputs": [
    {
     "name": "stdout",
     "output_type": "stream",
     "text": [
      "error: input data file C:\\Users\\1\\Desktop\\7 cannot be found\n",
      "\n"
     ]
    }
   ],
   "source": [
    "#print(t)\n",
    "import os\n",
    "file=r\"mcu5 f C:\\Users\\1\\Desktop\\7 семестр\\Нерешенные задачи\\Кинетика\\MCU\\demofile2.txt\"\n",
    "stream = os.popen(file)\n",
    "r=stream.read()\n",
    "print(r)"
   ]
  },
  {
   "cell_type": "code",
   "execution_count": null,
   "id": "0bee62f7-c1ea-4809-aa87-7c9134df8707",
   "metadata": {},
   "outputs": [],
   "source": []
  }
 ],
 "metadata": {
  "kernelspec": {
   "display_name": "Python 3 (ipykernel)",
   "language": "python",
   "name": "python3"
  },
  "language_info": {
   "codemirror_mode": {
    "name": "ipython",
    "version": 3
   },
   "file_extension": ".py",
   "mimetype": "text/x-python",
   "name": "python",
   "nbconvert_exporter": "python",
   "pygments_lexer": "ipython3",
   "version": "3.8.7"
  }
 },
 "nbformat": 4,
 "nbformat_minor": 5
}
