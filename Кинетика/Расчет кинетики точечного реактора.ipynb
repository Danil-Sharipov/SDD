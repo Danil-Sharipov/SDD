{
 "cells": [
  {
   "cell_type": "markdown",
   "id": "e2350e35",
   "metadata": {
    "tags": []
   },
   "source": [
    "# Исходные данные"
   ]
  },
  {
   "cell_type": "code",
   "execution_count": 1,
   "id": "37ab7151",
   "metadata": {},
   "outputs": [],
   "source": [
    "import sympy\n",
    "import IPython.display as disp\n",
    "from iapws import IAPWS97\n",
    "import pandas as pd\n",
    "import math\n",
    "import random\n",
    "import pyvista\n",
    "import numpy\n",
    "from ansys.mapdl.core import launch_mapdl\n",
    "def fr(st,pos):\n",
    "    if pos==True:\n",
    "        return sympy.symbols(st, real=True, positive=True) \n",
    "    else:\n",
    "        return sympy.symbols(st, real=True) \n",
    "Q_p=fr(\"Q_p\",True)#МВт\n",
    "q_v=fr(\"q_v\",True)#МВт/м^2\n",
    "T_p=fr(\"T_p\",True)#компания реактора в часах\n",
    "P_1=fr(\"P_1\",True)\n",
    "P_1f=16#МПа\n",
    "t_aver=fr(\"t_aver\",True)\n",
    "t_averf=307+273#K\n",
    "#тип ТВС-2М\n",
    "t_U=fr(\"t_U\",True)\n",
    "t_Uf=890+273.15\n",
    "d_FE_out=fr(\"d_FE_out\",True)\n",
    "d_FE_outf=9.1/1000\n",
    "d_f=fr(\"d_f\",True)\n",
    "d_ff=7.6/1000\n",
    "S_FE=fr(\"S_FE\",True)\n",
    "S_FEf=12.75/1000\n",
    "H_frac_D=fr(\"H_frac_D\",True)\n",
    "H_frac_Df=1\n",
    "h_k=fr(\"h_k\",True)\n",
    "h_kf=235/1000\n",
    "n_p=fr(\"n_p\",True)\n",
    "n_pf=18\n",
    "d_p=fr(\"d_p\",True)\n",
    "d_pf=13/1000\n",
    "b_p=fr(\"b_p\",True)\n",
    "b_pf=1/1000\n",
    "d_c=fr(\"d_c\",True)\n",
    "d_cf=10.3/1000\n",
    "b_c=fr(\"b_c\",True)\n",
    "b_cf=0.65/1000\n",
    "nf=fr(\"nf\",True)\n",
    "nff=4\n",
    "d_FE_in=fr(\"d_FE_in\",True)\n",
    "d_FE_inf=7.73/1000\n",
    "m=fr(\"m\",True)\n",
    "mf=21\n",
    "#______________________________________________________________________\n",
    "\n",
    "b_ceil=fr(\"𝛿_ceil\",True)\n",
    "b_ceilf=2/1000#межкассетный зазор\n",
    "#чехла нет"
   ]
  },
  {
   "cell_type": "code",
   "execution_count": 2,
   "id": "67be3677-b8c8-4abb-bac0-6660b08df4c3",
   "metadata": {},
   "outputs": [],
   "source": [
    "import numpy as np\n",
    "df=pd.read_excel('G.xlsx',index_col=[0],parse_dates=[0])"
   ]
  },
  {
   "cell_type": "markdown",
   "id": "676d49a4-25cb-43ec-942e-7c628cb3d1d4",
   "metadata": {
    "tags": []
   },
   "source": [
    "## Расчет геометрических характеристик"
   ]
  },
  {
   "cell_type": "code",
   "execution_count": 3,
   "id": "ba50ef32",
   "metadata": {},
   "outputs": [],
   "source": [
    "data=pd.DataFrame(columns=[\"Name\",\"Num\"])\n",
    "pi=sympy.pi\n",
    "graph={Q_p: 1399,q_v:83,T_p:7000,P_1:P_1f,t_aver:t_averf,t_U:t_Uf,d_FE_out:d_FE_outf,\n",
    "                        d_f:d_ff,S_FE:S_FEf,H_frac_D:H_frac_Df,h_k:h_kf,n_p:n_pf,d_p:d_pf,b_p:b_pf,\n",
    "                       d_c:d_cf,b_c:b_cf,nf:nff,d_FE_in:d_FE_inf,b_ceil:b_ceilf,m:mf}\n",
    "data=pd.DataFrame(columns=[\"Name\",\"Num\"])\n",
    "def find_dens(t):\n",
    "    s=0\n",
    "    for i in range(len(denstab)):\n",
    "        s+=denstab[i]*t**i\n",
    "    return s\n",
    "for i in graph:\n",
    "    data=pd.concat([data,pd.DataFrame([[i,graph[i]]],columns=[\"Name\",\"Num\"])])\n",
    "def Pow(a,b,ev=False):\n",
    "    return sympy.Pow(a,sympy.simplify(b),evaluate=ev)\n",
    "transfer_data=True\n",
    "transfer_data2=True\n",
    "Showing=True\n",
    "def constant(n):\n",
    "    return sympy.simplify(str(n))\n",
    "def add_in_table(st,num,calc=True,QU=3,show=True):\n",
    "    global data\n",
    "    xxx=sympy.symbols(st, real=True, positive=True) \n",
    "    eq=sympy.Eq(xxx,num,evaluate=False)\n",
    "    if show==True and Showing==True:\n",
    "        disp.display(eq)\n",
    "    #print(graph)\n",
    "    num2=num\n",
    "    try:\n",
    "        num=num.evalf(subs=graph)\n",
    "    except Exception:\n",
    "        num=constant(num)\n",
    "    graph.update({xxx:num})\n",
    "    if transfer_data==True:\n",
    "        data=pd.concat([data,pd.DataFrame([[st,num]],columns=[\"Name\",\"Num\"])])\n",
    "    if calc==True and Showing==True:\n",
    "        eq=sympy.Eq(xxx,sympy.N(num,QU))\n",
    "        disp.display(eq)\n",
    "    if transfer_data2==True:\n",
    "        return xxx\n",
    "    else:\n",
    "        return num2\n",
    "def line(n):\n",
    "    for i in range(n):\n",
    "        print(\"________________________________________________________________________________________________________\")\n",
    "        "
   ]
  },
  {
   "cell_type": "code",
   "execution_count": 4,
   "id": "38af409e-714a-4c80-b0e3-39871b375031",
   "metadata": {},
   "outputs": [
    {
     "data": {
      "text/latex": [
       "$\\displaystyle V = \\frac{Q_{p}}{q_{v}}$"
      ],
      "text/plain": [
       "Eq(V, Q_p/q_v)"
      ]
     },
     "metadata": {},
     "output_type": "display_data"
    },
    {
     "data": {
      "text/latex": [
       "$\\displaystyle V = 16.9$"
      ],
      "text/plain": [
       "Eq(V, 16.9)"
      ]
     },
     "metadata": {},
     "output_type": "display_data"
    },
    {
     "data": {
      "text/latex": [
       "$\\displaystyle D = \\sqrt[3]{\\frac{4 V}{\\pi}}$"
      ],
      "text/plain": [
       "Eq(D, (4*V/pi)**(1/3))"
      ]
     },
     "metadata": {},
     "output_type": "display_data"
    },
    {
     "data": {
      "text/latex": [
       "$\\displaystyle D = 2.779$"
      ],
      "text/plain": [
       "Eq(D, 2.779)"
      ]
     },
     "metadata": {},
     "output_type": "display_data"
    },
    {
     "data": {
      "text/latex": [
       "$\\displaystyle F_{k} = \\frac{\\sqrt{3} \\left(h_{k} + 𝛿_{ceil}\\right)^{2}}{2}$"
      ],
      "text/plain": [
       "Eq(F_k, sqrt(3)*(h_k + 𝛿_ceil)**2/2)"
      ]
     },
     "metadata": {},
     "output_type": "display_data"
    },
    {
     "data": {
      "text/latex": [
       "$\\displaystyle F_{k} = 0.0486$"
      ],
      "text/plain": [
       "Eq(F_k, 0.0486)"
      ]
     },
     "metadata": {},
     "output_type": "display_data"
    },
    {
     "data": {
      "text/latex": [
       "$\\displaystyle N_{ceil f} = \\frac{\\pi D^{2}}{4 F_{k}}$"
      ],
      "text/plain": [
       "Eq(N_ceil_f, pi*D**2/(4*F_k))"
      ]
     },
     "metadata": {},
     "output_type": "display_data"
    },
    {
     "data": {
      "text/latex": [
       "$\\displaystyle N_{ceil f} = 125.0$"
      ],
      "text/plain": [
       "Eq(N_ceil_f, 125.0)"
      ]
     },
     "metadata": {},
     "output_type": "display_data"
    },
    {
     "data": {
      "text/latex": [
       "Из предположения:"
      ],
      "text/plain": [
       "<IPython.core.display.Latex object>"
      ]
     },
     "metadata": {},
     "output_type": "display_data"
    },
    {
     "data": {
      "text/latex": [
       "$\\displaystyle n = \\frac{- \\frac{h_{k}}{2} + \\frac{\\sqrt{9 D^{2} - 3 h_{k}^{2}}}{6}}{h_{k} + 𝛿_{ceil}}$"
      ],
      "text/plain": [
       "Eq(n, (-h_k/2 + sqrt(9*D**2 - 3*h_k**2)/6)/(h_k + 𝛿_ceil))"
      ]
     },
     "metadata": {},
     "output_type": "display_data"
    },
    {
     "data": {
      "text/latex": [
       "$\\displaystyle n = 5.36$"
      ],
      "text/plain": [
       "Eq(n, 5.36)"
      ]
     },
     "metadata": {},
     "output_type": "display_data"
    },
    {
     "data": {
      "text/latex": [
       "$\\displaystyle n = 5$"
      ],
      "text/plain": [
       "Eq(n, 5)"
      ]
     },
     "metadata": {},
     "output_type": "display_data"
    },
    {
     "data": {
      "text/latex": [
       "$\\displaystyle n_{ceil} = 3 n^{2} + 3 n + 1$"
      ],
      "text/plain": [
       "Eq(n_ceil, 3*n**2 + 3*n + 1)"
      ]
     },
     "metadata": {},
     "output_type": "display_data"
    },
    {
     "data": {
      "text/latex": [
       "$\\displaystyle n_{ceil} = 91.0$"
      ],
      "text/plain": [
       "Eq(n_ceil, 91.0)"
      ]
     },
     "metadata": {},
     "output_type": "display_data"
    },
    {
     "data": {
      "text/latex": [
       "Из Эпюры:"
      ],
      "text/plain": [
       "<IPython.core.display.Latex object>"
      ]
     },
     "metadata": {},
     "output_type": "display_data"
    },
    {
     "data": {
      "text/latex": [
       "$\\displaystyle n_{ceil} = 109$"
      ],
      "text/plain": [
       "Eq(n_ceil, 109)"
      ]
     },
     "metadata": {},
     "output_type": "display_data"
    },
    {
     "data": {
      "text/latex": [
       "$\\displaystyle K = \\frac{n_{ceil}}{N_{ceil f}}$"
      ],
      "text/plain": [
       "Eq(K, n_ceil/N_ceil_f)"
      ]
     },
     "metadata": {},
     "output_type": "display_data"
    },
    {
     "data": {
      "text/latex": [
       "$\\displaystyle K = 0.874$"
      ],
      "text/plain": [
       "Eq(K, 0.874)"
      ]
     },
     "metadata": {},
     "output_type": "display_data"
    },
    {
     "data": {
      "text/latex": [
       "$\\displaystyle n_{FE} = \\frac{3 m^{2}}{4} - n_{p} - \\frac{3}{4}$"
      ],
      "text/plain": [
       "Eq(n_FE, 3*m**2/4 - n_p - 3/4)"
      ]
     },
     "metadata": {},
     "output_type": "display_data"
    },
    {
     "data": {
      "text/latex": [
       "$\\displaystyle n_{FE} = 312.0$"
      ],
      "text/plain": [
       "Eq(n_FE, 312.0)"
      ]
     },
     "metadata": {},
     "output_type": "display_data"
    },
    {
     "data": {
      "text/latex": [
       "$\\displaystyle F_{ceil} = \\frac{\\sqrt{3} S_{FE}^{2}}{2}$"
      ],
      "text/plain": [
       "Eq(F_ceil, sqrt(3)*S_FE**2/2)"
      ]
     },
     "metadata": {},
     "output_type": "display_data"
    },
    {
     "data": {
      "text/latex": [
       "$\\displaystyle F_{ceil} = 0.000141$"
      ],
      "text/plain": [
       "Eq(F_ceil, 0.000141)"
      ]
     },
     "metadata": {},
     "output_type": "display_data"
    },
    {
     "data": {
      "text/latex": [
       "$\\displaystyle F_{fuel} = \\frac{\\pi d_{f}^{2}}{4}$"
      ],
      "text/plain": [
       "Eq(F_fuel, pi*d_f**2/4)"
      ]
     },
     "metadata": {},
     "output_type": "display_data"
    },
    {
     "data": {
      "text/latex": [
       "$\\displaystyle F_{fuel} = 4.54 \\cdot 10^{-5}$"
      ],
      "text/plain": [
       "Eq(F_fuel, 4.54e-5)"
      ]
     },
     "metadata": {},
     "output_type": "display_data"
    },
    {
     "data": {
      "text/latex": [
       "$\\displaystyle F_{shell} = \\frac{\\pi \\left(- d_{FE in}^{2} + d_{FE out}^{2}\\right)}{4}$"
      ],
      "text/plain": [
       "Eq(F_shell, pi*(-d_FE_in**2 + d_FE_out**2)/4)"
      ]
     },
     "metadata": {},
     "output_type": "display_data"
    },
    {
     "data": {
      "text/latex": [
       "$\\displaystyle F_{shell} = 1.81 \\cdot 10^{-5}$"
      ],
      "text/plain": [
       "Eq(F_shell, 1.81e-5)"
      ]
     },
     "metadata": {},
     "output_type": "display_data"
    },
    {
     "data": {
      "text/latex": [
       "$\\displaystyle F_{HE} = \\frac{\\pi \\left(d_{FE in}^{2} - d_{f}^{2}\\right)}{4}$"
      ],
      "text/plain": [
       "Eq(F_HE, pi*(d_FE_in**2 - d_f**2)/4)"
      ]
     },
     "metadata": {},
     "output_type": "display_data"
    },
    {
     "data": {
      "text/latex": [
       "$\\displaystyle F_{HE} = 1.57 \\cdot 10^{-6}$"
      ],
      "text/plain": [
       "Eq(F_HE, 1.57e-6)"
      ]
     },
     "metadata": {},
     "output_type": "display_data"
    },
    {
     "data": {
      "text/latex": [
       "$\\displaystyle F_{moder} = - F_{HE} + F_{ceil} - F_{fuel} - F_{shell}$"
      ],
      "text/plain": [
       "Eq(F_moder, -F_HE + F_ceil - F_fuel - F_shell)"
      ]
     },
     "metadata": {},
     "output_type": "display_data"
    },
    {
     "data": {
      "text/latex": [
       "$\\displaystyle F_{moder} = 7.57 \\cdot 10^{-5}$"
      ],
      "text/plain": [
       "Eq(F_moder, 7.57e-5)"
      ]
     },
     "metadata": {},
     "output_type": "display_data"
    },
    {
     "data": {
      "text/latex": [
       "$\\displaystyle W = \\frac{F_{moder}}{F_{fuel}}$"
      ],
      "text/plain": [
       "Eq(W, F_moder/F_fuel)"
      ]
     },
     "metadata": {},
     "output_type": "display_data"
    },
    {
     "data": {
      "text/latex": [
       "$\\displaystyle W = 1.67$"
      ],
      "text/plain": [
       "Eq(W, 1.67)"
      ]
     },
     "metadata": {},
     "output_type": "display_data"
    },
    {
     "data": {
      "text/latex": [
       "$\\displaystyle n_{rod} = \\frac{3 m^{2}}{4} + \\frac{1}{4}$"
      ],
      "text/plain": [
       "Eq(n_rod, 3*m**2/4 + 1/4)"
      ]
     },
     "metadata": {},
     "output_type": "display_data"
    },
    {
     "data": {
      "text/latex": [
       "$\\displaystyle n_{rod} = 331.0$"
      ],
      "text/plain": [
       "Eq(n_rod, 331.0)"
      ]
     },
     "metadata": {},
     "output_type": "display_data"
    },
    {
     "data": {
      "text/latex": [
       "$\\displaystyle F_{MK} = \\frac{\\sqrt{3} a n_{FE} \\left(h_{k}^{2} - \\left(h_{k} - 2 𝛿_{ceil}\\right)^{2}\\right)}{2} + \\frac{\\sqrt{3} \\left(- h_{k}^{2} + \\left(h_{k} + 𝛿_{ceil}\\right)^{2}\\right)}{2}$"
      ],
      "text/plain": [
       "Eq(F_MK, sqrt(3)*a*n_FE*(h_k**2 - (h_k - 2*𝛿_ceil)**2)/2 + sqrt(3)*(-h_k**2 + (h_k + 𝛿_ceil)**2)/2)"
      ]
     },
     "metadata": {},
     "output_type": "display_data"
    },
    {
     "data": {
      "text/latex": [
       "$\\displaystyle F_{MK} = 0.00132$"
      ],
      "text/plain": [
       "Eq(F_MK, 0.00132)"
      ]
     },
     "metadata": {},
     "output_type": "display_data"
    },
    {
     "data": {
      "text/latex": [
       "$\\displaystyle f_{cm} = F_{shell} n_{FE} + \\frac{\\pi n_{p} \\left(d_{p}^{2} - \\left(- 2 b_{p} + d_{p}\\right)^{2}\\right)}{4} + \\frac{\\pi \\left(d_{c}^{2} - \\left(- 2 b_{c} + d_{c}\\right)^{2}\\right)}{4}$"
      ],
      "text/plain": [
       "Eq(f_cm, F_shell*n_FE + pi*n_p*(d_p**2 - (-2*b_p + d_p)**2)/4 + pi*(d_c**2 - (-2*b_c + d_c)**2)/4)"
      ]
     },
     "metadata": {},
     "output_type": "display_data"
    },
    {
     "data": {
      "text/latex": [
       "$\\displaystyle f_{cm} = 0.00635$"
      ],
      "text/plain": [
       "Eq(f_cm, 0.00635)"
      ]
     },
     "metadata": {},
     "output_type": "display_data"
    },
    {
     "data": {
      "text/latex": [
       "$\\displaystyle f_{cmE} = \\frac{f_{cm}}{n_{FE}}$"
      ],
      "text/plain": [
       "Eq(f_cmE, f_cm/n_FE)"
      ]
     },
     "metadata": {},
     "output_type": "display_data"
    },
    {
     "data": {
      "text/latex": [
       "$\\displaystyle f_{cmE} = 2.03 \\cdot 10^{-5}$"
      ],
      "text/plain": [
       "Eq(f_cmE, 2.03e-5)"
      ]
     },
     "metadata": {},
     "output_type": "display_data"
    },
    {
     "data": {
      "text/latex": [
       "$\\displaystyle f_{moderE} = \\frac{F_{MK} - \\frac{\\pi d_{FE out}^{2} n_{FE}}{4} - \\frac{\\pi d_{c}^{2}}{4} - \\frac{\\pi d_{p}^{2} n_{p}}{4} + \\frac{\\sqrt{3} h_{k}^{2}}{2}}{n_{FE}}$"
      ],
      "text/plain": [
       "Eq(f_moderE, (F_MK - pi*d_FE_out**2*n_FE/4 - pi*d_c**2/4 - pi*d_p**2*n_p/4 + sqrt(3)*h_k**2/2)/n_FE)"
      ]
     },
     "metadata": {},
     "output_type": "display_data"
    },
    {
     "data": {
      "text/latex": [
       "$\\displaystyle f_{moderE} = 8.46 \\cdot 10^{-5}$"
      ],
      "text/plain": [
       "Eq(f_moderE, 8.46e-5)"
      ]
     },
     "metadata": {},
     "output_type": "display_data"
    },
    {
     "data": {
      "text/latex": [
       "$\\displaystyle f_{1} = F_{HE} + f_{cmE} + f_{moderE}$"
      ],
      "text/plain": [
       "Eq(f_1, F_HE + f_cmE + f_moderE)"
      ]
     },
     "metadata": {},
     "output_type": "display_data"
    },
    {
     "data": {
      "text/latex": [
       "$\\displaystyle f_{1} = 0.000106$"
      ],
      "text/plain": [
       "Eq(f_1, 0.000106)"
      ]
     },
     "metadata": {},
     "output_type": "display_data"
    },
    {
     "data": {
      "text/latex": [
       "$\\displaystyle f_{E} = F_{fuel} + f_{1}$"
      ],
      "text/plain": [
       "Eq(f_E, F_fuel + f_1)"
      ]
     },
     "metadata": {},
     "output_type": "display_data"
    },
    {
     "data": {
      "text/latex": [
       "$\\displaystyle f_{E} = 0.000152$"
      ],
      "text/plain": [
       "Eq(f_E, 0.000152)"
      ]
     },
     "metadata": {},
     "output_type": "display_data"
    },
    {
     "data": {
      "text/latex": [
       "$\\displaystyle R_{E} = \\frac{\\sqrt{f_{E}}}{\\sqrt{\\pi}}$"
      ],
      "text/plain": [
       "Eq(R_E, sqrt(f_E)/sqrt(pi))"
      ]
     },
     "metadata": {},
     "output_type": "display_data"
    },
    {
     "data": {
      "text/latex": [
       "$\\displaystyle R_{E} = 0.00695$"
      ],
      "text/plain": [
       "Eq(R_E, 0.00695)"
      ]
     },
     "metadata": {},
     "output_type": "display_data"
    }
   ],
   "source": [
    "transfer_data=True\n",
    "transfer_data2=True\n",
    "V=add_in_table(\"V\",Q_p/q_v)\n",
    "#print(graph)\n",
    "D=add_in_table(\"D\",Pow((4*V/pi),\"1/3\"),QU=4)\n",
    "F_k=add_in_table(\"F_k\",sympy.sqrt(3)/2*Pow((h_k+b_ceil),\"2\"))\n",
    "N_ceil=add_in_table(\"N_ceil_f\",sympy.pi*Pow(D,\"2\")/4/F_k)\n",
    "disp.display(disp.Latex(\"Из предположения:\"))\n",
    "n_cas=sympy.symbols(\"n_cas\", real=True, positive=True)\n",
    "n=add_in_table(\"n\",sympy.solvers.solve(sympy.sqrt((n_cas*(h_k+b_ceil)+h_k/2)**2+(h_k/2/sympy.sqrt(3))**2)-D/2,n_cas,evaluate=False)[1])#.evalf(subs=graph)\n",
    "graph[n]=math.floor(graph[n])\n",
    "disp.display(sympy.Eq(n,graph[n]))\n",
    "#Есть формула под другой вариант геометрии см. листинг расчетов МРИК\n",
    "n_casset=add_in_table(\"n_ceil\",3*n**2+3*n+1)\n",
    "disp.display(disp.Latex(\"Из Эпюры:\"))\n",
    "graph[n_casset]=109\n",
    "disp.display(sympy.Eq(n_casset,graph[n_casset]))\n",
    "K=add_in_table(\"K\",n_casset/N_ceil)\n",
    "n_FE=add_in_table(\"n_FE\",sympy.Rational(3,4)*(m**2-1)-n_p)\n",
    "F_ceil=add_in_table(\"F_ceil\",sympy.sqrt(3)/2*S_FE**2)\n",
    "F_fuel=add_in_table(\"F_fuel\",d_f**2/4*sympy.pi)\n",
    "F_shell=add_in_table(\"F_shell\",sympy.pi/4*(-d_FE_in**2+d_FE_out**2))\n",
    "F_HE=add_in_table(\"F_HE\",sympy.pi/4*(-d_f**2+d_FE_in**2))\n",
    "F_moder=add_in_table(\"F_moder\",F_ceil-F_fuel-F_shell-F_HE)\n",
    "W=add_in_table(\"W\",F_moder/F_fuel)\n",
    "n_rod=add_in_table(\"n_rod\",(m**2*3+1)/4)\n",
    "a=add_in_table(\"a\",sympy.Rational(1,1000),calc=False,show=False)\n",
    "F_MK=add_in_table(\"F_MK\",sympy.sqrt(3)/2*((h_k+b_ceil)**2-(h_k)**2)+a*sympy.sqrt(3)/2*(-(h_k-2*b_ceil)**2+(h_k)**2)*n_FE)\n",
    "f_cm=add_in_table(\"f_cm\",F_shell*n_FE+pi/4*(d_c**2-(d_c-2*b_c)**2)+pi/4*(d_p**2-(d_p-2*b_p)**2)*n_p)\n",
    "f_cmE=add_in_table(\"f_cmE\",f_cm/n_FE)\n",
    "f_moderE=add_in_table(\"f_moderE\",(sympy.sqrt(3)/2*h_k**2-n_FE*sympy.pi/4*d_FE_out**2-sympy.pi/4*d_c**2-n_p*sympy.pi/4*d_p**2+F_MK)/n_FE)\n",
    "f_1=add_in_table(\"f_1\",f_cmE+F_HE+f_moderE)\n",
    "f_E=add_in_table('f_E',F_fuel+f_1)\n",
    "R_E=add_in_table('R_E',sympy.sqrt(f_E/sympy.pi))\n",
    "\n"
   ]
  },
  {
   "cell_type": "code",
   "execution_count": 5,
   "id": "ff140846-2dd0-4812-87be-7173c830df5d",
   "metadata": {},
   "outputs": [],
   "source": [
    "transfer_data=True\n",
    "transfer_data2=True\n",
    "N_a= add_in_table(\"N_a\",sympy.Rational('6.022140857') * Pow(10,\"23\",ev=True),calc=False,show=False)\n",
    "#\n",
    "graph_copy=graph.copy()\n",
    "transfer_data=True\n",
    "transfer_data2=True\n",
    "Showing=True\n",
    "def main(xi=None,Temp=False,TTT=t_averf,VAR=None,cold=True,mas=None):\n",
    "    global graph, graph_copy\n",
    "    graph=graph_copy.copy()\n",
    "    x=sympy.symbols(\"X\", real=True, positive=True)\n",
    "    if xi!=None:\n",
    "        if Showing==True:\n",
    "            eq=sympy.Eq(x,xi)\n",
    "            disp.display(eq)\n",
    "        graph.update({x:xi})\n",
    "    #sigma_a\n",
    "    sigma_a5_0=add_in_table(\"σ_a5_0\",Pow(10,\"-24\")*680.9,calc=False,show=False)\n",
    "    sigma_a8_0=add_in_table(\"σ_a8_0\",Pow(10,\"-24\")*2.71,calc=False,show=False)\n",
    "    sigma_aZr_0=add_in_table(\"σ_aZr_0\",Pow(10,\"-24\")*0.185,calc=False,show=False)\n",
    "    sigma_aO2_0=add_in_table(\"σ_aO2_0\",Pow(10,\"-24\")*0.00027,calc=False,show=False)\n",
    "    sigma_ass_0=add_in_table(\"σ_ass_0\",Pow(10,\"-24\")*2.87,calc=False,show=False)\n",
    "    sigma_aHe_0=add_in_table(\"σ_aHe_0\",Pow(10,\"-24\")*0.007,calc=False,show=False)\n",
    "    sigma_aH2O_0=add_in_table(\"σ_aH2O_0\",Pow(10,\"-24\")*0.66,calc=False,show=False)\n",
    "    \n",
    "    sigma_s5=add_in_table(\"σ_s5\",Pow(10,\"-24\")*13.8,calc=False)\n",
    "    sigma_s8=add_in_table(\"σ_s8\",Pow(10,\"-24\")*8.9,calc=False)\n",
    "    sigma_sZr=add_in_table(\"σ_sZr\",Pow(10,\"-24\")*6.4,calc=False)\n",
    "    sigma_sO2=add_in_table(\"σ_sO2\",Pow(10,\"-24\")*3.76,calc=False)\n",
    "    sigma_sss=add_in_table(\"σ_sss\",Pow(10,\"-24\")*11.0,calc=False)\n",
    "    sigma_sHe=add_in_table(\"σ_sHe\",Pow(10,\"-24\")*0.8,calc=False)\n",
    "    sigma_sH2O=add_in_table(\"σ_sH2O\",Pow(10,\"-24\")*103.0,calc=False)\n",
    "\n",
    "    sigma_f5_0=add_in_table(\"σ_f5_0\",Pow(10,\"-24\")*583.5,calc=False,show=False)\n",
    "    \n",
    "    T_0=add_in_table(\"T_0\",constant(293.2),calc=False,show=False)\n",
    "    if Temp==False:\n",
    "        disp.display(disp.Latex(\"Для холодного реактора:\"))\n",
    "        disp.display(sympy.Eq(T_0,graph[T_0]))\n",
    "        sigma_a5=add_in_table(\"σ_a5\",sigma_a5_0,show=False)\n",
    "        sigma_a8=add_in_table(\"σ_a8\",sigma_a8_0,show=False)\n",
    "        sigma_aZr=add_in_table(\"σ_aZr\",sigma_aZr_0,show=False)\n",
    "        sigma_aO2=add_in_table(\"σ_aO2\",sigma_aO2_0,show=False)\n",
    "        sigma_ass=add_in_table(\"σ_ass\",sigma_ass_0,show=False)\n",
    "        sigma_aHe=add_in_table(\"σ_aHe\",sigma_aHe_0,show=False)\n",
    "        sigma_aH2O=add_in_table(\"σ_aH2O\",sigma_aH2O_0,show=False)\n",
    "        dens_H2O=add_in_table(\"ρ_H2O\",constant(1),calc=False)\n",
    "        sigma_f5=add_in_table(\"σ_f5\",sigma_f5_0,show=False)\n",
    "        \n",
    "        Sigma_ksi_sH2O=add_in_table(\"Σξ_sH2O\",1.35,calc=False)\n",
    "        Sigma_ksi_sHe=add_in_table(\"Σξ_sHe\",9.11e-6,calc=False)\n",
    "        Sigma_ksi_scm=add_in_table(\"Σξ_scm\",0.0283,calc=False)\n",
    "        T=add_in_table(\"T\",T_0,show=False,calc=False)\n",
    "    elif Temp==True:\n",
    "        if VAR!=-1:\n",
    "            T=add_in_table(\"T\",TTT,calc=False)\n",
    "        if VAR==-1:\n",
    "            T=sympy.symbols(\"T\")\n",
    "        if cold==True:\n",
    "            dens_H2O=add_in_table(\"ρ_H2O\",constant(1),calc=False)\n",
    "        else:\n",
    "            try:\n",
    "                dens_H2O=add_in_table(\"ρ_H2O\",constant(IAPWS97(P=P_1f,T=t_averf).rho)/1000,calc=False)\n",
    "            except Exception:\n",
    "                dens_H2O=add_in_table(\"ρ_H2O\",find_dens(T))\n",
    "    \n",
    "        def ggg(a=True,t=None,U=True):\n",
    "            try:\n",
    "                tt=t.evalf(subs=graph)\n",
    "            except Exception:\n",
    "                tt=t\n",
    "            df2=pd.DataFrame([[np.nan,np.nan,np.nan,np.nan]],columns=[\"ga5\",\"gf5\",\"ga9\",\"gf9\"],index=[tt])\n",
    "            df2.index.name=\"T\"\n",
    "            df3=df.append(df2).sort_index().interpolate()\n",
    "            #print(df3)\n",
    "            if a==True:\n",
    "                if U==True:\n",
    "                    return df3.loc[tt,\"ga5\"]\n",
    "                else:\n",
    "                    return df3.loc[tt,\"ga9\"]\n",
    "            else:\n",
    "                if U==True:\n",
    "                    return df3.loc[tt,\"gf5\"]\n",
    "                else:\n",
    "                    return df3.loc[tt,\"gf9\"]\n",
    "        g_a_5=add_in_table(\"g_a_5\",ggg(a=True,t=TTT),show=False)#тут \n",
    "        g_f_5=add_in_table(\"g_f_5\",ggg(a=False,t=TTT),show=False)#тут\n",
    "        sigma_a5=add_in_table(\"σ_a5\",g_a_5*sympy.sqrt(sympy.pi)/2*sympy.sqrt(T_0/T)*sigma_a5_0)\n",
    "        sigma_a8=add_in_table(\"σ_a8\",sympy.sqrt(sympy.pi)/2*sympy.sqrt(T_0/T)*sigma_a8_0)\n",
    "        sigma_aZr=add_in_table(\"σ_aZr\",sympy.sqrt(sympy.pi)/2*sympy.sqrt(T_0/T)*sigma_aZr_0)\n",
    "        sigma_aO2=add_in_table(\"σ_aO2\",sympy.sqrt(sympy.pi)/2*sympy.sqrt(T_0/T)*sigma_aO2_0)\n",
    "        sigma_aHe=add_in_table(\"σ_aHe\",sympy.sqrt(sympy.pi)/2*sympy.sqrt(T_0/T)*sigma_aHe_0)\n",
    "        sigma_aH2O=add_in_table(\"σ_aH2O\",sympy.sqrt(sympy.pi)/2*sympy.sqrt(T_0/T)*sigma_aH2O_0)\n",
    "        sigma_f5=add_in_table(\"σ_f5\",g_f_5*sympy.sqrt(sympy.pi)/2*sympy.sqrt(T_0/T)*sigma_f5_0)\n",
    "        sigma_ass=add_in_table(\"σ_ass\",sympy.sqrt(sympy.pi)/2*sympy.sqrt(T_0/T)*sigma_ass_0)\n",
    "        \n",
    "        Sigma_ksi_sH2O=add_in_table(\"Σξ_sH2O\",1.35*dens_H2O,show=False)\n",
    "        Sigma_ksi_sHe=add_in_table(\"Σξ_sHe\",9.11e-6,calc=False)\n",
    "        Sigma_ksi_scm=add_in_table(\"Σξ_scm\",0.0283,calc=False)\n",
    "    A_H2O=add_in_table(\"A_H2O\",constant(18),calc=False)\n",
    "    N_H2O=add_in_table(\"N_H2O\",N_a*dens_H2O/A_H2O)\n",
    "    \n",
    "    dens_UO2=add_in_table(\"ρ_UO2\",constant(10),calc=False)\n",
    "    A_UO2=add_in_table(\"A_UO2\",constant(270.7),calc=False)\n",
    "    N_UO2=add_in_table(\"N_UO2\",N_a*dens_UO2/A_UO2)\n",
    "    N_U=add_in_table(\"N_U\",N_UO2)\n",
    "    N_O=add_in_table(\"N_O\",2*N_UO2)\n",
    "    N_5=add_in_table(\"N_5\",x*N_U)\n",
    "    N_8=add_in_table(\"N_8\",(1-x)*N_U)\n",
    "    N_ss=add_in_table(\"N_ss\",0.08978*1e24,calc=False)\n",
    "    \n",
    "    dens_Zr=add_in_table(\"ρ_Zr\",constant(6.4),calc=False)\n",
    "    A_Zr=add_in_table(\"A_Zr\",constant(91.22),calc=False)\n",
    "    N_Zr=add_in_table(\"N_Zr\",N_a*dens_Zr/A_Zr)\n",
    "    \n",
    "    dens_He=add_in_table(\"ρ_He\",Pow(10,\"-5\")*17.8,calc=False)\n",
    "    A_He=add_in_table(\"A_He\",constant(4.003),calc=False)\n",
    "    N_He=add_in_table(\"N_He\",N_a*dens_He/A_He)\n",
    "    \n",
    "    H=add_in_table(\"H\",D)\n",
    "    m_UO2=add_in_table(\"m_UO2\",F_fuel*H*n_FE*n_casset*dens_UO2*1000)\n",
    "    A_8=add_in_table(\"A_8\",constant(238),calc=False)\n",
    "    A_5=add_in_table(\"A_5\",constant(235),calc=False)\n",
    "    m_5=add_in_table(\"m_5\",m_UO2*A_8/A_UO2/(1+(1-x)/x*A_8/A_5))\n",
    "    Sigma_a5=add_in_table(\"Σ_a5\",N_5*sigma_a5)\n",
    "    Sigma_s5=add_in_table(\"Σ_s5\",N_5*sigma_s5)\n",
    "    Sigma_f5=add_in_table(\"Σ_f5\",N_5*sigma_f5)\n",
    "    \n",
    "    Sigma_a8=add_in_table(\"Σ_a8\",N_8*sigma_a8)\n",
    "    Sigma_s8=add_in_table(\"Σ_s8\",N_8*sigma_s8)\n",
    "    \n",
    "    Sigma_aO2=add_in_table(\"Σ_aO2\",N_O*sigma_aO2)\n",
    "    Sigma_sO2=add_in_table(\"Σ_sO2\",N_O*sigma_sO2)\n",
    "    \n",
    "    Sigma_acm=add_in_table(\"Σ_acm\",0.2*N_Zr*sigma_aZr+0.8*N_ss*sigma_ass,show=False)\n",
    "    Sigma_scm=add_in_table(\"Σ_scm\",0.2*N_Zr*sigma_sZr+0.8*N_ss*sigma_sss,show=False)\n",
    "    \n",
    "    Sigma_aHe=add_in_table(\"Σ_aHe\",N_He*sigma_aHe)\n",
    "    Sigma_sHe=add_in_table(\"Σ_sHe\",N_He*sigma_sHe)\n",
    "    \n",
    "    Sigma_aH2O=add_in_table(\"Σ_aH2O\",N_H2O*sigma_aH2O)\n",
    "    Sigma_sH2O=add_in_table(\"Σ_sH2O\",N_H2O*sigma_sH2O)\n",
    "    \n",
    "    Sigma_a_0=add_in_table(\"Sigma_a_0\",Sigma_a5+Sigma_a8+Sigma_aO2)\n",
    "    Sigma_s_0=add_in_table(\"Sigma_s_0\",Sigma_s5+Sigma_s8+Sigma_sO2)\n",
    "    \n",
    "    Sigma_a_1=add_in_table(\"Sigma_a_1\",(Sigma_acm*f_cmE+F_HE*Sigma_aHe+f_moderE*Sigma_aH2O)/(f_1))\n",
    "    Sigma_s_1=add_in_table(\"Sigma_s_1\",(Sigma_scm*f_cmE+F_HE*Sigma_sHe+f_moderE*Sigma_sH2O)/(f_1))\n",
    "    \n",
    "    Sigma_ksi_s_1=add_in_table(\"Σξ_s_1\",(Sigma_ksi_scm*f_cmE+F_HE*Sigma_ksi_sHe+f_moderE*Sigma_ksi_sH2O)/(f_1))\n",
    "    if VAR==None or VAR==-1:\n",
    "        if cold==False:\n",
    "            T_H=add_in_table(\"T_H\",t_aver*(1+1.7*(Sigma_a_0*F_fuel+Sigma_a_1*f_1)/(Sigma_ksi_s_1*f_1)))#K\n",
    "        elif cold==True:\n",
    "            T_H=add_in_table(\"T_H\",T_0*(1+1.7*(Sigma_a_0*F_fuel+Sigma_a_1*f_1)/(Sigma_ksi_s_1*f_1)))#K\n",
    "        if VAR==-1:\n",
    "            return sympy.re(sympy.solvers.solve(T_H.evalf(subs=graph)-T,T)[0])\n",
    "    if VAR==1 or VAR==44:\n",
    "        omega5=add_in_table(\"omega_5\",2/3/A_5,show=True)\n",
    "        Sigma_trs5=add_in_table(\"Sigma_trs5\",Sigma_s5*(1-omega5))\n",
    "        Sigma_tr5=add_in_table(\"Sigma_tr5\",Sigma_trs5+Sigma_a5)\n",
    "        \n",
    "        omega8=add_in_table(\"omega_8\",2/3/A_8,show=True)\n",
    "        Sigma_trs8=add_in_table(\"Sigma_trs8\",Sigma_s8*(1-omega8))\n",
    "        Sigma_tr8=add_in_table(\"Sigma_tr8\",Sigma_trs8+Sigma_a8)\n",
    "        \n",
    "        omegaO2=add_in_table(\"omega_O2\",2/3/32,show=False)\n",
    "        Sigma_trsO2=add_in_table(\"Sigma_trsO2\",Sigma_sO2*(1-omegaO2))\n",
    "        Sigma_trO2=add_in_table(\"Sigma_trO2\",Sigma_trsO2+Sigma_aO2)\n",
    "        \n",
    "        omegacm=add_in_table(\"omega_8\",2/3/62.50446506,show=True)#ПРОВЕРИТЬ\n",
    "        Sigma_trscm=add_in_table(\"Sigma_trscm\",Sigma_scm*(1-omegacm))\n",
    "        Sigma_trcm=add_in_table(\"Sigma_trcm\",Sigma_trscm+Sigma_acm)\n",
    "        \n",
    "        omegaHe=add_in_table(\"omega_He\",2/3/A_He,show=True)\n",
    "        Sigma_trsHe=add_in_table(\"Sigma_trsHe\",Sigma_sHe*(1-omegaHe))\n",
    "        Sigma_trHe=add_in_table(\"Sigma_trHe\",Sigma_trsHe+Sigma_aHe)\n",
    "        Sigma_trH2O=add_in_table(\"Sigma_trH2O\",(dens_H2O/2.72)**2*293/T*sympy.sqrt(1+0.0614*T/293)/1.0614*1/3/Sigma_aH2O)\n",
    "        \n",
    "        Sigma_tr0=add_in_table(\"Sigma_tr0\",Sigma_tr5+Sigma_tr8+Sigma_trO2)\n",
    "        Sigma_tr1=add_in_table(\"Sigma_tr1\",(Sigma_trcm*f_cmE+F_HE*Sigma_trHe+f_moderE*Sigma_trH2O)/(f_cmE+F_HE+f_moderE))\n",
    "        nu_f5=add_in_table(\"nu_f5\",2.416,calc=False)\n",
    "    if VAR==1 or VAR==44:\n",
    "        eta=add_in_table(\"eta\",nu_f5*Sigma_f5/Sigma_a_0)\n",
    "    if VAR==2 or VAR==3:\n",
    "        nu_f5=add_in_table(\"nu_f5\",2.416,calc=False)\n",
    "        E_f=add_in_table(\"E_f\",3.2*1e-17)\n",
    "        V_fuel=add_in_table(\"V_fuel\",F_fuel/f_E*V)\n",
    "        T_k=add_in_table(\"T_k\",nf*T_p*3600)\n",
    "        Fi=add_in_table(\"Phi\",Q_p*1e-6/sigma_f5/N_5/E_f/V_fuel)\n",
    "        z=add_in_table(\"z\",Fi*T_k*sigma_f5)\n",
    "        \n",
    "        N_5end=add_in_table(\"N_5end\",N_5*sympy.exp(-z))\n",
    "        sigma_a9_0=add_in_table(\"sigma_a9_0\",1011.2*1e-24,calc=False)\n",
    "        sigma_f9_0=add_in_table(\"sigma_f9_0\",744.07*1e-24,calc=False)\n",
    "        sigma_s9=add_in_table(\"sigma_s9\",7.7*1e-24,calc=False)\n",
    "        g_a_9=add_in_table(\"g_a_9\",ggg(a=True,t=TTT,U=False),show=False)#тут \n",
    "        g_f_9=add_in_table(\"g_f_9\",ggg(a=False,t=TTT,U=False),show=False)\n",
    "        sigma_a9=add_in_table(\"σ_a9\",g_a_9*sympy.sqrt(sympy.pi)/2*sympy.sqrt(T_0/T)*sigma_a9_0)\n",
    "        sigma_f9=add_in_table(\"σ_f9\",g_f_9*sympy.sqrt(sympy.pi)/2*sympy.sqrt(T_0/T)*sigma_f9_0)\n",
    "        \n",
    "        epsilon_start=add_in_table(\"epsilon_start\",mas[0],show=False)\n",
    "        varphi_start=add_in_table(\"varphi_start\",mas[1],show=False)\n",
    "        nu_f9=add_in_table(\"nu_f9\",2.862,show=False)\n",
    "        aaa=add_in_table(\"aaa\",sigma_a9/sigma_a5*(1-epsilon_start*(1-varphi_start)*nu_f9*sigma_f9/sigma_a9))\n",
    "        N_9=add_in_table(\"N_9\",N_8*sigma_a8/sigma_a5/aaa*(1-sympy.exp(-aaa*z))+nu_f5*sigma_f5*epsilon_start*(1-varphi_start)*N_5/sigma_a5/(aaa-1)*(sympy.exp(-z)-sympy.exp(-aaa*z)))\n",
    "        N_slag=add_in_table(\"N_slag\",z*(N_5end+N_9*sigma_f9/sigma_a5))\n",
    "        C_slag=add_in_table(\"C_slag\",N_slag/N_5)\n",
    "        sigma_aslag=add_in_table(\"sigma_aslag\",(85.65-112*C_slag+1.52*C_slag**2)*1e-24*sympy.Heaviside(C_slag.evalf(subs=graph),H0=1)-(85.65-112*C_slag+1.52*C_slag**2)*1e-24*sympy.Heaviside(C_slag.evalf(subs=graph)-0.4,H0=1)+(50-22.4*C_slag)*1e-24*sympy.Heaviside(C_slag.evalf(subs=graph)-0.4,H0=1)-(50-22.4*C_slag)*1e-24*sympy.Heaviside(C_slag.evalf(subs=graph)-0.8,H0=1)+(47-6.25*C_slag-12.5*C_slag**2)*1e-24*sympy.Heaviside(C_slag.evalf(subs=graph)-0.8,H0=1)-(47-6.25*C_slag-12.5*C_slag**2)*1e-24*sympy.Heaviside(C_slag.evalf(subs=graph)-1,H0=0))\n",
    "        sigma_aXe_0=add_in_table(\"sigma_aXe_0\",2650000*1e-24)\n",
    "        sigma_aXe=add_in_table(\"sigma_aXe\",sympy.sqrt(sympy.pi)/2*sigma_aXe_0*sympy.sqrt(T_0/T))\n",
    "        gamma_Xe=add_in_table(\"gamma_Xe\",0.003,show=False)\n",
    "        gamma_I=add_in_table(\"gamma_I\",0.06,show=False)\n",
    "        lambda_Xe=add_in_table(\"lambda_Xe\",2.1*1e-5,show=False)\n",
    "        N_Xe=add_in_table(\"N_Xe\",(gamma_Xe+gamma_I)*sigma_f5*N_5end*Fi/(lambda_Xe+sigma_aXe*Fi))\n",
    "        \n",
    "        sigma_aSm_0=add_in_table(\"sigma_aSm_0\",41000*1e-24)\n",
    "        sigma_aSm=add_in_table(\"sigma_aSm\",sympy.sqrt(sympy.pi)/2*sigma_aSm_0*sympy.sqrt(T_0/T))\n",
    "        gamma_Sm=add_in_table(\"gamma_Sm\",0.013,show=False)\n",
    "        \n",
    "        N_Sm=add_in_table(\"N_Sm\",gamma_Sm*sigma_f5*N_5end/sigma_aSm)\n",
    "        del graph[Sigma_a5]\n",
    "        Sigma_a5=add_in_table(\"Σ_a5\",N_5end*sigma_a5)\n",
    "\n",
    "        del graph[Sigma_f5]\n",
    "        Sigma_f5=add_in_table(\"Σ_f5\",N_5end*sigma_f5)\n",
    "        Sigma_a9=add_in_table(\"Σ_a9\",N_9*sigma_a9)\n",
    "        Sigma_s9=add_in_table(\"Σ_s9\",N_9*sigma_s9)\n",
    "        Sigma_f9=add_in_table(\"Σ_f9\",N_9*sigma_f9)\n",
    "        Sigma_aslag=add_in_table(\"Σ_aslag\",N_slag*sigma_aslag)\n",
    "        Sigma_aXe=add_in_table(\"Σ_aXe\",N_Xe*sigma_aXe)\n",
    "        Sigma_aSm=add_in_table(\"Σ_aSm\",N_Sm*sigma_aSm)\n",
    "        del graph[Sigma_a_0]\n",
    "        Sigma_a_0=add_in_table(\"Sigma_a_0\",Sigma_a5+Sigma_a8+Sigma_aO2+Sigma_a9+Sigma_aslag+Sigma_aXe+Sigma_aSm)\n",
    "        \n",
    "        omega5=add_in_table(\"omega_5\",2/3/A_5,show=True)\n",
    "        Sigma_trs5=add_in_table(\"Sigma_trs5\",Sigma_s5*(1-omega5))\n",
    "        Sigma_tr5=add_in_table(\"Sigma_tr5\",Sigma_trs5+Sigma_a5)\n",
    "        \n",
    "        omega8=add_in_table(\"omega_8\",2/3/A_8,show=True)\n",
    "        Sigma_trs8=add_in_table(\"Sigma_trs8\",Sigma_s8*(1-omega8))\n",
    "        Sigma_tr8=add_in_table(\"Sigma_tr8\",Sigma_trs8+Sigma_a8)\n",
    "        \n",
    "        omegaO2=add_in_table(\"omega_O2\",2/3/32,show=False)\n",
    "        Sigma_trsO2=add_in_table(\"Sigma_trsO2\",Sigma_sO2*(1-omegaO2))\n",
    "        Sigma_trO2=add_in_table(\"Sigma_trO2\",Sigma_trsO2+Sigma_aO2)\n",
    "        \n",
    "        omegacm=add_in_table(\"omega_8\",2/3/62.50446506,show=True)#ПРОВЕРИТЬ\n",
    "        Sigma_trscm=add_in_table(\"Sigma_trscm\",Sigma_scm*(1-omegacm))#60.644\n",
    "        Sigma_trcm=add_in_table(\"Sigma_trcm\",Sigma_trscm+Sigma_acm)\n",
    "        \n",
    "        omegaHe=add_in_table(\"omega_He\",2/3/A_He,show=True)\n",
    "        Sigma_trsHe=add_in_table(\"Sigma_trsHe\",Sigma_sHe*(1-omegaHe))\n",
    "        Sigma_trHe=add_in_table(\"Sigma_trHe\",Sigma_trsHe+Sigma_aHe)\n",
    "        \n",
    "        A_9=add_in_table(\"A_9\",239)\n",
    "        omega9=add_in_table(\"omega_9\",2/3/A_9,show=True)\n",
    "        Sigma_trs9=add_in_table(\"Sigma_trs9\",Sigma_s9*(1-omega9))\n",
    "        Sigma_tr9=add_in_table(\"Sigma_tr9\",Sigma_trs9+Sigma_a9)        \n",
    "        \n",
    "        Sigma_trH2O=add_in_table(\"Sigma_trH2O\",(dens_H2O/2.72)**2*293/T*sympy.sqrt(1+0.0614*T/293)/1.0614*1/3/Sigma_aH2O)\n",
    "        \n",
    "        Sigma_tr0=add_in_table(\"Sigma_tr0\",Sigma_tr5+Sigma_tr8+Sigma_trO2+Sigma_tr9+Sigma_aslag+Sigma_aXe+Sigma_aSm)\n",
    "        Sigma_tr1=add_in_table(\"Sigma_tr1\",(Sigma_trcm*f_cmE+F_HE*Sigma_trHe+f_moderE*Sigma_trH2O)/(f_1))\n",
    "        eta=add_in_table(\"eta\",(Sigma_f5*nu_f5+Sigma_f9*nu_f9)/Sigma_a_0)\n",
    "    if VAR==1 or VAR==2 or VAR==44:\n",
    "        if VAR==1 or VAR==44:\n",
    "            mu_0=add_in_table(\"mu_0\",1+0.27*d_f*(N_5+N_8)*1e-24*100,QU=6)\n",
    "        \n",
    "            P=add_in_table(\"P\",0.154*dens_H2O*f_moderE/(N_5+N_8)/1e-24/F_fuel)\n",
    "            epsilon=add_in_table(\"epsilon\",(1.34+P*mu_0)/(1+P))\n",
    "        \n",
    "            S_s=add_in_table(\"S_s\",sympy.pi*d_f*H*1e4)\n",
    "            M_8=add_in_table(\"M_8\",N_8*sympy.pi*d_f**2/4*1e6*H*A_8/N_a)\n",
    "            PP_t=add_in_table(\"П_т\",0.77+0.0135*sympy.sqrt(t_U))\n",
    "            I_ef=add_in_table(\"I_ef\",4.9+20.7*sympy.sqrt(S_s/M_8)*PP_t)\n",
    "            varphi=add_in_table(\"varphi\",sympy.exp(-F_fuel/f_1/Sigma_ksi_s_1*N_8*1e-24*I_ef))\n",
    "        if VAR==2:\n",
    "            epsilon=add_in_table(\"epsilon\",epsilon_start,show=False)\n",
    "            varphi=add_in_table(\"varphi\",varphi_start,show=False)\n",
    "        A=add_in_table(\"A\",0.2707*(d_f*100/2*Sigma_tr0)+0.1796*(d_f*100/2*Sigma_tr0)**2)\n",
    "        a_forQ=add_in_table(\"a_forQ\",0.067*(d_f*100/2*Sigma_tr0)-0.0037*(d_f*100/2*Sigma_tr0)**2)\n",
    "        b=add_in_table(\"b\",(0.046*(d_f*100/2*Sigma_tr0)-0.02*(d_f*100/2*Sigma_tr0)**2)-(0.046*(d_f*100/2*Sigma_tr0)-0.02*(d_f*100/2*Sigma_tr0)**2)*sympy.Heaviside((d_f*100*Sigma_tr0/2),H0=0)+0.027*sympy.Heaviside((d_f*100*Sigma_tr0/2),H0=0))\n",
    "        Q_0=add_in_table(\"Q_0\",1+Sigma_a_0/Sigma_tr0*A*(1+a_forQ*Sigma_s_0/Sigma_tr0+b*(Sigma_s_0/Sigma_tr0)**2))#a or s\n",
    "        q_0=add_in_table(\"q_0\",Q_0*Sigma_a_1/Sigma_a_0*f_1/F_fuel)\n",
    "        L_1=add_in_table(\"L_1\",sympy.sqrt(1/3/Sigma_a_1/Sigma_tr1))\n",
    "        psi=add_in_table(\"psi\",2*R_E/d_f)\n",
    "        q_1=add_in_table(\"q_1\",0.5*(R_E*100/L_1)**2*(psi**2/(psi**2-1)*sympy.log(psi)-3/4+1/4/psi))\n",
    "        q=add_in_table(\"q\",q_0+q_1)\n",
    "        theta=add_in_table(\"theta\",1/(1+q))\n",
    "            \n",
    "        K_inf=add_in_table(\"K_inf\",theta*varphi*epsilon*eta)\n",
    "        \n",
    "        tau_H2O=add_in_table(\"tau_H2O\",31.4)\n",
    "        tau_t=add_in_table(\"tau_t\",tau_H2O*(1+1/W+f_cmE/f_moderE)**2/(dens_H2O+0.82/W+0.4*f_cmE/f_moderE)**2)\n",
    "        L_0=add_in_table(\"L_0\",sympy.sqrt(1/3/Sigma_a_0/Sigma_tr0))\n",
    "        L2=add_in_table(\"L^2\",L_0**2*theta+(1-theta)*L_1**2)\n",
    "        M2=add_in_table(\"M^2\",L2+tau_t)\n",
    "        delta_eff=add_in_table(\"delta_eff\",7.2+0.1*(M2-40))\n",
    "        H_eff=add_in_table(\"H_eff\",H*100+2*delta_eff)\n",
    "        R_eff=add_in_table(\"R_eff\",D/2*100+delta_eff)\n",
    "        B2=add_in_table(\"B^2\",(sympy.pi/H_eff)**2+(2.405/R_eff)**2)\n",
    "        P_mod=add_in_table(\"P_mod\",sympy.exp(-B2*tau_t))\n",
    "        P_dif=add_in_table(\"P_dif\",1/(1+L2*B2))\n",
    "        K_eff=add_in_table(\"K_eff\",K_inf*P_mod*P_dif,QU=6)\n",
    "    return graph\n",
    "    line(3)\n",
    "    \n",
    "\n"
   ]
  },
  {
   "cell_type": "markdown",
   "id": "36e744bd-a942-495e-b835-62b63c7df3d8",
   "metadata": {
    "tags": []
   },
   "source": [
    "## Расчет эффективной температуры нейтронного газа"
   ]
  },
  {
   "cell_type": "code",
   "execution_count": 6,
   "id": "50325e5f-c9e3-41a9-b69d-236b800702e7",
   "metadata": {},
   "outputs": [
    {
     "data": {
      "text/latex": [
       "$\\displaystyle X = 0.03$"
      ],
      "text/plain": [
       "Eq(X, 0.03)"
      ]
     },
     "metadata": {},
     "output_type": "display_data"
    },
    {
     "data": {
      "text/latex": [
       "$\\displaystyle σ_{s5} = 1.38 \\cdot 10^{-23}$"
      ],
      "text/plain": [
       "Eq(σ_s5, 1.38e-23)"
      ]
     },
     "metadata": {},
     "output_type": "display_data"
    },
    {
     "data": {
      "text/latex": [
       "$\\displaystyle σ_{s8} = 8.9 \\cdot 10^{-24}$"
      ],
      "text/plain": [
       "Eq(σ_s8, 8.9e-24)"
      ]
     },
     "metadata": {},
     "output_type": "display_data"
    },
    {
     "data": {
      "text/latex": [
       "$\\displaystyle σ_{sZr} = 6.4 \\cdot 10^{-24}$"
      ],
      "text/plain": [
       "Eq(σ_sZr, 6.4e-24)"
      ]
     },
     "metadata": {},
     "output_type": "display_data"
    },
    {
     "data": {
      "text/latex": [
       "$\\displaystyle σ_{sO2} = 3.76 \\cdot 10^{-24}$"
      ],
      "text/plain": [
       "Eq(σ_sO2, 3.76e-24)"
      ]
     },
     "metadata": {},
     "output_type": "display_data"
    },
    {
     "data": {
      "text/latex": [
       "$\\displaystyle σ_{sss} = 1.1 \\cdot 10^{-23}$"
      ],
      "text/plain": [
       "Eq(σ_sss, 1.1e-23)"
      ]
     },
     "metadata": {},
     "output_type": "display_data"
    },
    {
     "data": {
      "text/latex": [
       "$\\displaystyle σ_{sHe} = 8.0 \\cdot 10^{-25}$"
      ],
      "text/plain": [
       "Eq(σ_sHe, 8.0e-25)"
      ]
     },
     "metadata": {},
     "output_type": "display_data"
    },
    {
     "data": {
      "text/latex": [
       "$\\displaystyle σ_{sH2O} = 1.03 \\cdot 10^{-22}$"
      ],
      "text/plain": [
       "Eq(σ_sH2O, 1.03e-22)"
      ]
     },
     "metadata": {},
     "output_type": "display_data"
    },
    {
     "data": {
      "text/latex": [
       "Для холодного реактора:"
      ],
      "text/plain": [
       "<IPython.core.display.Latex object>"
      ]
     },
     "metadata": {},
     "output_type": "display_data"
    },
    {
     "data": {
      "text/latex": [
       "$\\displaystyle T_{0} = 293.2$"
      ],
      "text/plain": [
       "Eq(T_0, 293.2)"
      ]
     },
     "metadata": {},
     "output_type": "display_data"
    },
    {
     "data": {
      "text/latex": [
       "$\\displaystyle σ_{a5} = 6.81 \\cdot 10^{-22}$"
      ],
      "text/plain": [
       "Eq(σ_a5, 6.81e-22)"
      ]
     },
     "metadata": {},
     "output_type": "display_data"
    },
    {
     "data": {
      "text/latex": [
       "$\\displaystyle σ_{a8} = 2.71 \\cdot 10^{-24}$"
      ],
      "text/plain": [
       "Eq(σ_a8, 2.71e-24)"
      ]
     },
     "metadata": {},
     "output_type": "display_data"
    },
    {
     "data": {
      "text/latex": [
       "$\\displaystyle σ_{aZr} = 1.85 \\cdot 10^{-25}$"
      ],
      "text/plain": [
       "Eq(σ_aZr, 1.85e-25)"
      ]
     },
     "metadata": {},
     "output_type": "display_data"
    },
    {
     "data": {
      "text/latex": [
       "$\\displaystyle σ_{aO2} = 2.7 \\cdot 10^{-28}$"
      ],
      "text/plain": [
       "Eq(σ_aO2, 2.7e-28)"
      ]
     },
     "metadata": {},
     "output_type": "display_data"
    },
    {
     "data": {
      "text/latex": [
       "$\\displaystyle σ_{ass} = 2.87 \\cdot 10^{-24}$"
      ],
      "text/plain": [
       "Eq(σ_ass, 2.87e-24)"
      ]
     },
     "metadata": {},
     "output_type": "display_data"
    },
    {
     "data": {
      "text/latex": [
       "$\\displaystyle σ_{aHe} = 7.0 \\cdot 10^{-27}$"
      ],
      "text/plain": [
       "Eq(σ_aHe, 7.0e-27)"
      ]
     },
     "metadata": {},
     "output_type": "display_data"
    },
    {
     "data": {
      "text/latex": [
       "$\\displaystyle σ_{aH2O} = 6.6 \\cdot 10^{-25}$"
      ],
      "text/plain": [
       "Eq(σ_aH2O, 6.6e-25)"
      ]
     },
     "metadata": {},
     "output_type": "display_data"
    },
    {
     "data": {
      "text/latex": [
       "$\\displaystyle ρ_{H2O} = 1$"
      ],
      "text/plain": [
       "Eq(ρ_H2O, 1)"
      ]
     },
     "metadata": {},
     "output_type": "display_data"
    },
    {
     "data": {
      "text/latex": [
       "$\\displaystyle σ_{f5} = 5.83 \\cdot 10^{-22}$"
      ],
      "text/plain": [
       "Eq(σ_f5, 5.83e-22)"
      ]
     },
     "metadata": {},
     "output_type": "display_data"
    },
    {
     "data": {
      "text/latex": [
       "$\\displaystyle Σξ_{sH2O} = 1.35$"
      ],
      "text/plain": [
       "Eq(Σξ_sH2O, 1.35)"
      ]
     },
     "metadata": {},
     "output_type": "display_data"
    },
    {
     "data": {
      "text/latex": [
       "$\\displaystyle Σξ_{sHe} = 9.11 \\cdot 10^{-6}$"
      ],
      "text/plain": [
       "Eq(Σξ_sHe, 9.11e-6)"
      ]
     },
     "metadata": {},
     "output_type": "display_data"
    },
    {
     "data": {
      "text/latex": [
       "$\\displaystyle Σξ_{scm} = 0.0283$"
      ],
      "text/plain": [
       "Eq(Σξ_scm, 0.0283)"
      ]
     },
     "metadata": {},
     "output_type": "display_data"
    },
    {
     "data": {
      "text/latex": [
       "$\\displaystyle A_{H2O} = 18$"
      ],
      "text/plain": [
       "Eq(A_H2O, 18)"
      ]
     },
     "metadata": {},
     "output_type": "display_data"
    },
    {
     "data": {
      "text/latex": [
       "$\\displaystyle N_{H2O} = \\frac{N_{a} ρ_{H2O}}{A_{H2O}}$"
      ],
      "text/plain": [
       "Eq(N_H2O, N_a*ρ_H2O/A_H2O)"
      ]
     },
     "metadata": {},
     "output_type": "display_data"
    },
    {
     "data": {
      "text/latex": [
       "$\\displaystyle N_{H2O} = 3.35 \\cdot 10^{22}$"
      ],
      "text/plain": [
       "Eq(N_H2O, 3.35e+22)"
      ]
     },
     "metadata": {},
     "output_type": "display_data"
    },
    {
     "data": {
      "text/latex": [
       "$\\displaystyle ρ_{UO2} = 10$"
      ],
      "text/plain": [
       "Eq(ρ_UO2, 10)"
      ]
     },
     "metadata": {},
     "output_type": "display_data"
    },
    {
     "data": {
      "text/latex": [
       "$\\displaystyle A_{UO2} = 270.7$"
      ],
      "text/plain": [
       "Eq(A_UO2, 270.7)"
      ]
     },
     "metadata": {},
     "output_type": "display_data"
    },
    {
     "data": {
      "text/latex": [
       "$\\displaystyle N_{UO2} = \\frac{N_{a} ρ_{UO2}}{A_{UO2}}$"
      ],
      "text/plain": [
       "Eq(N_UO2, N_a*ρ_UO2/A_UO2)"
      ]
     },
     "metadata": {},
     "output_type": "display_data"
    },
    {
     "data": {
      "text/latex": [
       "$\\displaystyle N_{UO2} = 2.22 \\cdot 10^{22}$"
      ],
      "text/plain": [
       "Eq(N_UO2, 2.22e+22)"
      ]
     },
     "metadata": {},
     "output_type": "display_data"
    },
    {
     "data": {
      "text/latex": [
       "$\\displaystyle N_{U} = N_{UO2}$"
      ],
      "text/plain": [
       "Eq(N_U, N_UO2)"
      ]
     },
     "metadata": {},
     "output_type": "display_data"
    },
    {
     "data": {
      "text/latex": [
       "$\\displaystyle N_{U} = 2.22 \\cdot 10^{22}$"
      ],
      "text/plain": [
       "Eq(N_U, 2.22e+22)"
      ]
     },
     "metadata": {},
     "output_type": "display_data"
    },
    {
     "data": {
      "text/latex": [
       "$\\displaystyle N_{O} = 2 N_{UO2}$"
      ],
      "text/plain": [
       "Eq(N_O, 2*N_UO2)"
      ]
     },
     "metadata": {},
     "output_type": "display_data"
    },
    {
     "data": {
      "text/latex": [
       "$\\displaystyle N_{O} = 4.45 \\cdot 10^{22}$"
      ],
      "text/plain": [
       "Eq(N_O, 4.45e+22)"
      ]
     },
     "metadata": {},
     "output_type": "display_data"
    },
    {
     "data": {
      "text/latex": [
       "$\\displaystyle N_{5} = N_{U} X$"
      ],
      "text/plain": [
       "Eq(N_5, N_U*X)"
      ]
     },
     "metadata": {},
     "output_type": "display_data"
    },
    {
     "data": {
      "text/latex": [
       "$\\displaystyle N_{5} = 6.67 \\cdot 10^{20}$"
      ],
      "text/plain": [
       "Eq(N_5, 6.67e+20)"
      ]
     },
     "metadata": {},
     "output_type": "display_data"
    },
    {
     "data": {
      "text/latex": [
       "$\\displaystyle N_{8} = N_{U} \\left(1 - X\\right)$"
      ],
      "text/plain": [
       "Eq(N_8, N_U*(1 - X))"
      ]
     },
     "metadata": {},
     "output_type": "display_data"
    },
    {
     "data": {
      "text/latex": [
       "$\\displaystyle N_{8} = 2.16 \\cdot 10^{22}$"
      ],
      "text/plain": [
       "Eq(N_8, 2.16e+22)"
      ]
     },
     "metadata": {},
     "output_type": "display_data"
    },
    {
     "data": {
      "text/latex": [
       "$\\displaystyle N_{ss} = 8.978 \\cdot 10^{22}$"
      ],
      "text/plain": [
       "Eq(N_ss, 8.978e+22)"
      ]
     },
     "metadata": {},
     "output_type": "display_data"
    },
    {
     "data": {
      "text/latex": [
       "$\\displaystyle ρ_{Zr} = 6.4$"
      ],
      "text/plain": [
       "Eq(ρ_Zr, 6.4)"
      ]
     },
     "metadata": {},
     "output_type": "display_data"
    },
    {
     "data": {
      "text/latex": [
       "$\\displaystyle A_{Zr} = 91.22$"
      ],
      "text/plain": [
       "Eq(A_Zr, 91.22)"
      ]
     },
     "metadata": {},
     "output_type": "display_data"
    },
    {
     "data": {
      "text/latex": [
       "$\\displaystyle N_{Zr} = \\frac{N_{a} ρ_{Zr}}{A_{Zr}}$"
      ],
      "text/plain": [
       "Eq(N_Zr, N_a*ρ_Zr/A_Zr)"
      ]
     },
     "metadata": {},
     "output_type": "display_data"
    },
    {
     "data": {
      "text/latex": [
       "$\\displaystyle N_{Zr} = 4.23 \\cdot 10^{22}$"
      ],
      "text/plain": [
       "Eq(N_Zr, 4.23e+22)"
      ]
     },
     "metadata": {},
     "output_type": "display_data"
    },
    {
     "data": {
      "text/latex": [
       "$\\displaystyle ρ_{He} = 0.000178$"
      ],
      "text/plain": [
       "Eq(ρ_He, 0.000178)"
      ]
     },
     "metadata": {},
     "output_type": "display_data"
    },
    {
     "data": {
      "text/latex": [
       "$\\displaystyle A_{He} = 4.003$"
      ],
      "text/plain": [
       "Eq(A_He, 4.003)"
      ]
     },
     "metadata": {},
     "output_type": "display_data"
    },
    {
     "data": {
      "text/latex": [
       "$\\displaystyle N_{He} = \\frac{N_{a} ρ_{He}}{A_{He}}$"
      ],
      "text/plain": [
       "Eq(N_He, N_a*ρ_He/A_He)"
      ]
     },
     "metadata": {},
     "output_type": "display_data"
    },
    {
     "data": {
      "text/latex": [
       "$\\displaystyle N_{He} = 2.68 \\cdot 10^{19}$"
      ],
      "text/plain": [
       "Eq(N_He, 2.68e+19)"
      ]
     },
     "metadata": {},
     "output_type": "display_data"
    },
    {
     "data": {
      "text/latex": [
       "$\\displaystyle H = D$"
      ],
      "text/plain": [
       "Eq(H, D)"
      ]
     },
     "metadata": {},
     "output_type": "display_data"
    },
    {
     "data": {
      "text/latex": [
       "$\\displaystyle H = 2.78$"
      ],
      "text/plain": [
       "Eq(H, 2.78)"
      ]
     },
     "metadata": {},
     "output_type": "display_data"
    },
    {
     "data": {
      "text/latex": [
       "$\\displaystyle m_{UO2} = 1000 F_{fuel} H n_{FE} n_{ceil} ρ_{UO2}$"
      ],
      "text/plain": [
       "Eq(m_UO2, 1000*F_fuel*H*n_FE*n_ceil*ρ_UO2)"
      ]
     },
     "metadata": {},
     "output_type": "display_data"
    },
    {
     "data": {
      "text/latex": [
       "$\\displaystyle m_{UO2} = 4.29 \\cdot 10^{4}$"
      ],
      "text/plain": [
       "Eq(m_UO2, 4.29e+4)"
      ]
     },
     "metadata": {},
     "output_type": "display_data"
    },
    {
     "data": {
      "text/latex": [
       "$\\displaystyle A_{8} = 238$"
      ],
      "text/plain": [
       "Eq(A_8, 238)"
      ]
     },
     "metadata": {},
     "output_type": "display_data"
    },
    {
     "data": {
      "text/latex": [
       "$\\displaystyle A_{5} = 235$"
      ],
      "text/plain": [
       "Eq(A_5, 235)"
      ]
     },
     "metadata": {},
     "output_type": "display_data"
    },
    {
     "data": {
      "text/latex": [
       "$\\displaystyle m_{5} = \\frac{A_{8} m_{UO2}}{A_{UO2} \\cdot \\left(1 + \\frac{A_{8} \\cdot \\left(1 - X\\right)}{A_{5} X}\\right)}$"
      ],
      "text/plain": [
       "Eq(m_5, A_8*m_UO2/(A_UO2*(1 + A_8*(1 - X)/(A_5*X))))"
      ]
     },
     "metadata": {},
     "output_type": "display_data"
    },
    {
     "data": {
      "text/latex": [
       "$\\displaystyle m_{5} = 1.12 \\cdot 10^{3}$"
      ],
      "text/plain": [
       "Eq(m_5, 1.12e+3)"
      ]
     },
     "metadata": {},
     "output_type": "display_data"
    },
    {
     "data": {
      "text/latex": [
       "$\\displaystyle Σ_{a5} = N_{5} σ_{a5}$"
      ],
      "text/plain": [
       "Eq(Σ_a5, N_5*σ_a5)"
      ]
     },
     "metadata": {},
     "output_type": "display_data"
    },
    {
     "data": {
      "text/latex": [
       "$\\displaystyle Σ_{a5} = 0.454$"
      ],
      "text/plain": [
       "Eq(Σ_a5, 0.454)"
      ]
     },
     "metadata": {},
     "output_type": "display_data"
    },
    {
     "data": {
      "text/latex": [
       "$\\displaystyle Σ_{s5} = N_{5} σ_{s5}$"
      ],
      "text/plain": [
       "Eq(Σ_s5, N_5*σ_s5)"
      ]
     },
     "metadata": {},
     "output_type": "display_data"
    },
    {
     "data": {
      "text/latex": [
       "$\\displaystyle Σ_{s5} = 0.00921$"
      ],
      "text/plain": [
       "Eq(Σ_s5, 0.00921)"
      ]
     },
     "metadata": {},
     "output_type": "display_data"
    },
    {
     "data": {
      "text/latex": [
       "$\\displaystyle Σ_{f5} = N_{5} σ_{f5}$"
      ],
      "text/plain": [
       "Eq(Σ_f5, N_5*σ_f5)"
      ]
     },
     "metadata": {},
     "output_type": "display_data"
    },
    {
     "data": {
      "text/latex": [
       "$\\displaystyle Σ_{f5} = 0.389$"
      ],
      "text/plain": [
       "Eq(Σ_f5, 0.389)"
      ]
     },
     "metadata": {},
     "output_type": "display_data"
    },
    {
     "data": {
      "text/latex": [
       "$\\displaystyle Σ_{a8} = N_{8} σ_{a8}$"
      ],
      "text/plain": [
       "Eq(Σ_a8, N_8*σ_a8)"
      ]
     },
     "metadata": {},
     "output_type": "display_data"
    },
    {
     "data": {
      "text/latex": [
       "$\\displaystyle Σ_{a8} = 0.0585$"
      ],
      "text/plain": [
       "Eq(Σ_a8, 0.0585)"
      ]
     },
     "metadata": {},
     "output_type": "display_data"
    },
    {
     "data": {
      "text/latex": [
       "$\\displaystyle Σ_{s8} = N_{8} σ_{s8}$"
      ],
      "text/plain": [
       "Eq(Σ_s8, N_8*σ_s8)"
      ]
     },
     "metadata": {},
     "output_type": "display_data"
    },
    {
     "data": {
      "text/latex": [
       "$\\displaystyle Σ_{s8} = 0.192$"
      ],
      "text/plain": [
       "Eq(Σ_s8, 0.192)"
      ]
     },
     "metadata": {},
     "output_type": "display_data"
    },
    {
     "data": {
      "text/latex": [
       "$\\displaystyle Σ_{aO2} = N_{O} σ_{aO2}$"
      ],
      "text/plain": [
       "Eq(Σ_aO2, N_O*σ_aO2)"
      ]
     },
     "metadata": {},
     "output_type": "display_data"
    },
    {
     "data": {
      "text/latex": [
       "$\\displaystyle Σ_{aO2} = 1.2 \\cdot 10^{-5}$"
      ],
      "text/plain": [
       "Eq(Σ_aO2, 1.2e-5)"
      ]
     },
     "metadata": {},
     "output_type": "display_data"
    },
    {
     "data": {
      "text/latex": [
       "$\\displaystyle Σ_{sO2} = N_{O} σ_{sO2}$"
      ],
      "text/plain": [
       "Eq(Σ_sO2, N_O*σ_sO2)"
      ]
     },
     "metadata": {},
     "output_type": "display_data"
    },
    {
     "data": {
      "text/latex": [
       "$\\displaystyle Σ_{sO2} = 0.167$"
      ],
      "text/plain": [
       "Eq(Σ_sO2, 0.167)"
      ]
     },
     "metadata": {},
     "output_type": "display_data"
    },
    {
     "data": {
      "text/latex": [
       "$\\displaystyle Σ_{acm} = 0.208$"
      ],
      "text/plain": [
       "Eq(Σ_acm, 0.208)"
      ]
     },
     "metadata": {},
     "output_type": "display_data"
    },
    {
     "data": {
      "text/latex": [
       "$\\displaystyle Σ_{scm} = 0.844$"
      ],
      "text/plain": [
       "Eq(Σ_scm, 0.844)"
      ]
     },
     "metadata": {},
     "output_type": "display_data"
    },
    {
     "data": {
      "text/latex": [
       "$\\displaystyle Σ_{aHe} = N_{He} σ_{aHe}$"
      ],
      "text/plain": [
       "Eq(Σ_aHe, N_He*σ_aHe)"
      ]
     },
     "metadata": {},
     "output_type": "display_data"
    },
    {
     "data": {
      "text/latex": [
       "$\\displaystyle Σ_{aHe} = 1.87 \\cdot 10^{-7}$"
      ],
      "text/plain": [
       "Eq(Σ_aHe, 1.87e-7)"
      ]
     },
     "metadata": {},
     "output_type": "display_data"
    },
    {
     "data": {
      "text/latex": [
       "$\\displaystyle Σ_{sHe} = N_{He} σ_{sHe}$"
      ],
      "text/plain": [
       "Eq(Σ_sHe, N_He*σ_sHe)"
      ]
     },
     "metadata": {},
     "output_type": "display_data"
    },
    {
     "data": {
      "text/latex": [
       "$\\displaystyle Σ_{sHe} = 2.14 \\cdot 10^{-5}$"
      ],
      "text/plain": [
       "Eq(Σ_sHe, 2.14e-5)"
      ]
     },
     "metadata": {},
     "output_type": "display_data"
    },
    {
     "data": {
      "text/latex": [
       "$\\displaystyle Σ_{aH2O} = N_{H2O} σ_{aH2O}$"
      ],
      "text/plain": [
       "Eq(Σ_aH2O, N_H2O*σ_aH2O)"
      ]
     },
     "metadata": {},
     "output_type": "display_data"
    },
    {
     "data": {
      "text/latex": [
       "$\\displaystyle Σ_{aH2O} = 0.0221$"
      ],
      "text/plain": [
       "Eq(Σ_aH2O, 0.0221)"
      ]
     },
     "metadata": {},
     "output_type": "display_data"
    },
    {
     "data": {
      "text/latex": [
       "$\\displaystyle Σ_{sH2O} = N_{H2O} σ_{sH2O}$"
      ],
      "text/plain": [
       "Eq(Σ_sH2O, N_H2O*σ_sH2O)"
      ]
     },
     "metadata": {},
     "output_type": "display_data"
    },
    {
     "data": {
      "text/latex": [
       "$\\displaystyle Σ_{sH2O} = 3.45$"
      ],
      "text/plain": [
       "Eq(Σ_sH2O, 3.45)"
      ]
     },
     "metadata": {},
     "output_type": "display_data"
    },
    {
     "data": {
      "text/latex": [
       "$\\displaystyle \\Sigma_{a 0} = Σ_{a5} + Σ_{a8} + Σ_{aO2}$"
      ],
      "text/plain": [
       "Eq(Sigma_a_0, Σ_a5 + Σ_a8 + Σ_aO2)"
      ]
     },
     "metadata": {},
     "output_type": "display_data"
    },
    {
     "data": {
      "text/latex": [
       "$\\displaystyle \\Sigma_{a 0} = 0.513$"
      ],
      "text/plain": [
       "Eq(Sigma_a_0, 0.513)"
      ]
     },
     "metadata": {},
     "output_type": "display_data"
    },
    {
     "data": {
      "text/latex": [
       "$\\displaystyle \\Sigma_{s 0} = Σ_{s5} + Σ_{s8} + Σ_{sO2}$"
      ],
      "text/plain": [
       "Eq(Sigma_s_0, Σ_s5 + Σ_s8 + Σ_sO2)"
      ]
     },
     "metadata": {},
     "output_type": "display_data"
    },
    {
     "data": {
      "text/latex": [
       "$\\displaystyle \\Sigma_{s 0} = 0.369$"
      ],
      "text/plain": [
       "Eq(Sigma_s_0, 0.369)"
      ]
     },
     "metadata": {},
     "output_type": "display_data"
    },
    {
     "data": {
      "text/latex": [
       "$\\displaystyle \\Sigma_{a 1} = \\frac{F_{HE} Σ_{aHe} + f_{cmE} Σ_{acm} + f_{moderE} Σ_{aH2O}}{f_{1}}$"
      ],
      "text/plain": [
       "Eq(Sigma_a_1, (F_HE*Σ_aHe + f_cmE*Σ_acm + f_moderE*Σ_aH2O)/f_1)"
      ]
     },
     "metadata": {},
     "output_type": "display_data"
    },
    {
     "data": {
      "text/latex": [
       "$\\displaystyle \\Sigma_{a 1} = 0.0572$"
      ],
      "text/plain": [
       "Eq(Sigma_a_1, 0.0572)"
      ]
     },
     "metadata": {},
     "output_type": "display_data"
    },
    {
     "data": {
      "text/latex": [
       "$\\displaystyle \\Sigma_{s 1} = \\frac{F_{HE} Σ_{sHe} + f_{cmE} Σ_{scm} + f_{moderE} Σ_{sH2O}}{f_{1}}$"
      ],
      "text/plain": [
       "Eq(Sigma_s_1, (F_HE*Σ_sHe + f_cmE*Σ_scm + f_moderE*Σ_sH2O)/f_1)"
      ]
     },
     "metadata": {},
     "output_type": "display_data"
    },
    {
     "data": {
      "text/latex": [
       "$\\displaystyle \\Sigma_{s 1} = 2.9$"
      ],
      "text/plain": [
       "Eq(Sigma_s_1, 2.9)"
      ]
     },
     "metadata": {},
     "output_type": "display_data"
    },
    {
     "data": {
      "text/latex": [
       "$\\displaystyle Σξ_{s 1} = \\frac{F_{HE} Σξ_{sHe} + f_{cmE} Σξ_{scm} + f_{moderE} Σξ_{sH2O}}{f_{1}}$"
      ],
      "text/plain": [
       "Eq(Σξ_s_1, (F_HE*Σξ_sHe + f_cmE*Σξ_scm + f_moderE*Σξ_sH2O)/f_1)"
      ]
     },
     "metadata": {},
     "output_type": "display_data"
    },
    {
     "data": {
      "text/latex": [
       "$\\displaystyle Σξ_{s 1} = 1.08$"
      ],
      "text/plain": [
       "Eq(Σξ_s_1, 1.08)"
      ]
     },
     "metadata": {},
     "output_type": "display_data"
    },
    {
     "data": {
      "text/latex": [
       "$\\displaystyle T_{H} = T_{0} \\cdot \\left(1 + \\frac{1.7 F_{fuel} \\Sigma_{a 0} + 1.7 \\Sigma_{a 1} f_{1}}{f_{1} Σξ_{s 1}}\\right)$"
      ],
      "text/plain": [
       "Eq(T_H, T_0*(1 + (1.7*F_fuel*Sigma_a_0 + 1.7*Sigma_a_1*f_1)/(f_1*Σξ_s_1)))"
      ]
     },
     "metadata": {},
     "output_type": "display_data"
    },
    {
     "data": {
      "text/latex": [
       "$\\displaystyle T_{H} = 421.0$"
      ],
      "text/plain": [
       "Eq(T_H, 421.0)"
      ]
     },
     "metadata": {},
     "output_type": "display_data"
    },
    {
     "data": {
      "text/latex": [
       "$\\displaystyle X = 0.03$"
      ],
      "text/plain": [
       "Eq(X, 0.03)"
      ]
     },
     "metadata": {},
     "output_type": "display_data"
    },
    {
     "data": {
      "text/latex": [
       "$\\displaystyle σ_{s5} = 1.38 \\cdot 10^{-23}$"
      ],
      "text/plain": [
       "Eq(σ_s5, 1.38e-23)"
      ]
     },
     "metadata": {},
     "output_type": "display_data"
    },
    {
     "data": {
      "text/latex": [
       "$\\displaystyle σ_{s8} = 8.9 \\cdot 10^{-24}$"
      ],
      "text/plain": [
       "Eq(σ_s8, 8.9e-24)"
      ]
     },
     "metadata": {},
     "output_type": "display_data"
    },
    {
     "data": {
      "text/latex": [
       "$\\displaystyle σ_{sZr} = 6.4 \\cdot 10^{-24}$"
      ],
      "text/plain": [
       "Eq(σ_sZr, 6.4e-24)"
      ]
     },
     "metadata": {},
     "output_type": "display_data"
    },
    {
     "data": {
      "text/latex": [
       "$\\displaystyle σ_{sO2} = 3.76 \\cdot 10^{-24}$"
      ],
      "text/plain": [
       "Eq(σ_sO2, 3.76e-24)"
      ]
     },
     "metadata": {},
     "output_type": "display_data"
    },
    {
     "data": {
      "text/latex": [
       "$\\displaystyle σ_{sss} = 1.1 \\cdot 10^{-23}$"
      ],
      "text/plain": [
       "Eq(σ_sss, 1.1e-23)"
      ]
     },
     "metadata": {},
     "output_type": "display_data"
    },
    {
     "data": {
      "text/latex": [
       "$\\displaystyle σ_{sHe} = 8.0 \\cdot 10^{-25}$"
      ],
      "text/plain": [
       "Eq(σ_sHe, 8.0e-25)"
      ]
     },
     "metadata": {},
     "output_type": "display_data"
    },
    {
     "data": {
      "text/latex": [
       "$\\displaystyle σ_{sH2O} = 1.03 \\cdot 10^{-22}$"
      ],
      "text/plain": [
       "Eq(σ_sH2O, 1.03e-22)"
      ]
     },
     "metadata": {},
     "output_type": "display_data"
    },
    {
     "data": {
      "text/latex": [
       "$\\displaystyle T = 760.726293809075$"
      ],
      "text/plain": [
       "Eq(T, 760.726293809075)"
      ]
     },
     "metadata": {},
     "output_type": "display_data"
    },
    {
     "data": {
      "text/latex": [
       "$\\displaystyle ρ_{H2O} = 0.7129422625882127$"
      ],
      "text/plain": [
       "Eq(ρ_H2O, 0.7129422625882127)"
      ]
     },
     "metadata": {},
     "output_type": "display_data"
    },
    {
     "data": {
      "text/latex": [
       "$\\displaystyle g_{a 5} = 0.926$"
      ],
      "text/plain": [
       "Eq(g_a_5, 0.926)"
      ]
     },
     "metadata": {},
     "output_type": "display_data"
    },
    {
     "data": {
      "text/latex": [
       "$\\displaystyle g_{f 5} = 0.916$"
      ],
      "text/plain": [
       "Eq(g_f_5, 0.916)"
      ]
     },
     "metadata": {},
     "output_type": "display_data"
    },
    {
     "data": {
      "text/latex": [
       "$\\displaystyle σ_{a5} = \\frac{\\sqrt{\\pi} \\sqrt{T_{0}} g_{a 5} σ_{a5 0}}{2 \\sqrt{T}}$"
      ],
      "text/plain": [
       "Eq(σ_a5, sqrt(pi)*sqrt(T_0)*g_a_5*σ_a5_0/(2*sqrt(T)))"
      ]
     },
     "metadata": {},
     "output_type": "display_data"
    },
    {
     "data": {
      "text/latex": [
       "$\\displaystyle σ_{a5} = 3.47 \\cdot 10^{-22}$"
      ],
      "text/plain": [
       "Eq(σ_a5, 3.47e-22)"
      ]
     },
     "metadata": {},
     "output_type": "display_data"
    },
    {
     "data": {
      "text/latex": [
       "$\\displaystyle σ_{a8} = \\frac{\\sqrt{\\pi} \\sqrt{T_{0}} σ_{a8 0}}{2 \\sqrt{T}}$"
      ],
      "text/plain": [
       "Eq(σ_a8, sqrt(pi)*sqrt(T_0)*σ_a8_0/(2*sqrt(T)))"
      ]
     },
     "metadata": {},
     "output_type": "display_data"
    },
    {
     "data": {
      "text/latex": [
       "$\\displaystyle σ_{a8} = 1.49 \\cdot 10^{-24}$"
      ],
      "text/plain": [
       "Eq(σ_a8, 1.49e-24)"
      ]
     },
     "metadata": {},
     "output_type": "display_data"
    },
    {
     "data": {
      "text/latex": [
       "$\\displaystyle σ_{aZr} = \\frac{\\sqrt{\\pi} \\sqrt{T_{0}} σ_{aZr 0}}{2 \\sqrt{T}}$"
      ],
      "text/plain": [
       "Eq(σ_aZr, sqrt(pi)*sqrt(T_0)*σ_aZr_0/(2*sqrt(T)))"
      ]
     },
     "metadata": {},
     "output_type": "display_data"
    },
    {
     "data": {
      "text/latex": [
       "$\\displaystyle σ_{aZr} = 1.02 \\cdot 10^{-25}$"
      ],
      "text/plain": [
       "Eq(σ_aZr, 1.02e-25)"
      ]
     },
     "metadata": {},
     "output_type": "display_data"
    },
    {
     "data": {
      "text/latex": [
       "$\\displaystyle σ_{aO2} = \\frac{\\sqrt{\\pi} \\sqrt{T_{0}} σ_{aO2 0}}{2 \\sqrt{T}}$"
      ],
      "text/plain": [
       "Eq(σ_aO2, sqrt(pi)*sqrt(T_0)*σ_aO2_0/(2*sqrt(T)))"
      ]
     },
     "metadata": {},
     "output_type": "display_data"
    },
    {
     "data": {
      "text/latex": [
       "$\\displaystyle σ_{aO2} = 1.49 \\cdot 10^{-28}$"
      ],
      "text/plain": [
       "Eq(σ_aO2, 1.49e-28)"
      ]
     },
     "metadata": {},
     "output_type": "display_data"
    },
    {
     "data": {
      "text/latex": [
       "$\\displaystyle σ_{aHe} = \\frac{\\sqrt{\\pi} \\sqrt{T_{0}} σ_{aHe 0}}{2 \\sqrt{T}}$"
      ],
      "text/plain": [
       "Eq(σ_aHe, sqrt(pi)*sqrt(T_0)*σ_aHe_0/(2*sqrt(T)))"
      ]
     },
     "metadata": {},
     "output_type": "display_data"
    },
    {
     "data": {
      "text/latex": [
       "$\\displaystyle σ_{aHe} = 3.85 \\cdot 10^{-27}$"
      ],
      "text/plain": [
       "Eq(σ_aHe, 3.85e-27)"
      ]
     },
     "metadata": {},
     "output_type": "display_data"
    },
    {
     "data": {
      "text/latex": [
       "$\\displaystyle σ_{aH2O} = \\frac{\\sqrt{\\pi} \\sqrt{T_{0}} σ_{aH2O 0}}{2 \\sqrt{T}}$"
      ],
      "text/plain": [
       "Eq(σ_aH2O, sqrt(pi)*sqrt(T_0)*σ_aH2O_0/(2*sqrt(T)))"
      ]
     },
     "metadata": {},
     "output_type": "display_data"
    },
    {
     "data": {
      "text/latex": [
       "$\\displaystyle σ_{aH2O} = 3.63 \\cdot 10^{-25}$"
      ],
      "text/plain": [
       "Eq(σ_aH2O, 3.63e-25)"
      ]
     },
     "metadata": {},
     "output_type": "display_data"
    },
    {
     "data": {
      "text/latex": [
       "$\\displaystyle σ_{f5} = \\frac{\\sqrt{\\pi} \\sqrt{T_{0}} g_{f 5} σ_{f5 0}}{2 \\sqrt{T}}$"
      ],
      "text/plain": [
       "Eq(σ_f5, sqrt(pi)*sqrt(T_0)*g_f_5*σ_f5_0/(2*sqrt(T)))"
      ]
     },
     "metadata": {},
     "output_type": "display_data"
    },
    {
     "data": {
      "text/latex": [
       "$\\displaystyle σ_{f5} = 2.94 \\cdot 10^{-22}$"
      ],
      "text/plain": [
       "Eq(σ_f5, 2.94e-22)"
      ]
     },
     "metadata": {},
     "output_type": "display_data"
    },
    {
     "data": {
      "text/latex": [
       "$\\displaystyle σ_{ass} = \\frac{\\sqrt{\\pi} \\sqrt{T_{0}} σ_{ass 0}}{2 \\sqrt{T}}$"
      ],
      "text/plain": [
       "Eq(σ_ass, sqrt(pi)*sqrt(T_0)*σ_ass_0/(2*sqrt(T)))"
      ]
     },
     "metadata": {},
     "output_type": "display_data"
    },
    {
     "data": {
      "text/latex": [
       "$\\displaystyle σ_{ass} = 1.58 \\cdot 10^{-24}$"
      ],
      "text/plain": [
       "Eq(σ_ass, 1.58e-24)"
      ]
     },
     "metadata": {},
     "output_type": "display_data"
    },
    {
     "data": {
      "text/latex": [
       "$\\displaystyle Σξ_{sH2O} = 0.963$"
      ],
      "text/plain": [
       "Eq(Σξ_sH2O, 0.963)"
      ]
     },
     "metadata": {},
     "output_type": "display_data"
    },
    {
     "data": {
      "text/latex": [
       "$\\displaystyle Σξ_{sHe} = 9.11 \\cdot 10^{-6}$"
      ],
      "text/plain": [
       "Eq(Σξ_sHe, 9.11e-6)"
      ]
     },
     "metadata": {},
     "output_type": "display_data"
    },
    {
     "data": {
      "text/latex": [
       "$\\displaystyle Σξ_{scm} = 0.0283$"
      ],
      "text/plain": [
       "Eq(Σξ_scm, 0.0283)"
      ]
     },
     "metadata": {},
     "output_type": "display_data"
    },
    {
     "data": {
      "text/latex": [
       "$\\displaystyle A_{H2O} = 18$"
      ],
      "text/plain": [
       "Eq(A_H2O, 18)"
      ]
     },
     "metadata": {},
     "output_type": "display_data"
    },
    {
     "data": {
      "text/latex": [
       "$\\displaystyle N_{H2O} = \\frac{N_{a} ρ_{H2O}}{A_{H2O}}$"
      ],
      "text/plain": [
       "Eq(N_H2O, N_a*ρ_H2O/A_H2O)"
      ]
     },
     "metadata": {},
     "output_type": "display_data"
    },
    {
     "data": {
      "text/latex": [
       "$\\displaystyle N_{H2O} = 2.39 \\cdot 10^{22}$"
      ],
      "text/plain": [
       "Eq(N_H2O, 2.39e+22)"
      ]
     },
     "metadata": {},
     "output_type": "display_data"
    },
    {
     "data": {
      "text/latex": [
       "$\\displaystyle ρ_{UO2} = 10$"
      ],
      "text/plain": [
       "Eq(ρ_UO2, 10)"
      ]
     },
     "metadata": {},
     "output_type": "display_data"
    },
    {
     "data": {
      "text/latex": [
       "$\\displaystyle A_{UO2} = 270.7$"
      ],
      "text/plain": [
       "Eq(A_UO2, 270.7)"
      ]
     },
     "metadata": {},
     "output_type": "display_data"
    },
    {
     "data": {
      "text/latex": [
       "$\\displaystyle N_{UO2} = \\frac{N_{a} ρ_{UO2}}{A_{UO2}}$"
      ],
      "text/plain": [
       "Eq(N_UO2, N_a*ρ_UO2/A_UO2)"
      ]
     },
     "metadata": {},
     "output_type": "display_data"
    },
    {
     "data": {
      "text/latex": [
       "$\\displaystyle N_{UO2} = 2.22 \\cdot 10^{22}$"
      ],
      "text/plain": [
       "Eq(N_UO2, 2.22e+22)"
      ]
     },
     "metadata": {},
     "output_type": "display_data"
    },
    {
     "data": {
      "text/latex": [
       "$\\displaystyle N_{U} = N_{UO2}$"
      ],
      "text/plain": [
       "Eq(N_U, N_UO2)"
      ]
     },
     "metadata": {},
     "output_type": "display_data"
    },
    {
     "data": {
      "text/latex": [
       "$\\displaystyle N_{U} = 2.22 \\cdot 10^{22}$"
      ],
      "text/plain": [
       "Eq(N_U, 2.22e+22)"
      ]
     },
     "metadata": {},
     "output_type": "display_data"
    },
    {
     "data": {
      "text/latex": [
       "$\\displaystyle N_{O} = 2 N_{UO2}$"
      ],
      "text/plain": [
       "Eq(N_O, 2*N_UO2)"
      ]
     },
     "metadata": {},
     "output_type": "display_data"
    },
    {
     "data": {
      "text/latex": [
       "$\\displaystyle N_{O} = 4.45 \\cdot 10^{22}$"
      ],
      "text/plain": [
       "Eq(N_O, 4.45e+22)"
      ]
     },
     "metadata": {},
     "output_type": "display_data"
    },
    {
     "data": {
      "text/latex": [
       "$\\displaystyle N_{5} = N_{U} X$"
      ],
      "text/plain": [
       "Eq(N_5, N_U*X)"
      ]
     },
     "metadata": {},
     "output_type": "display_data"
    },
    {
     "data": {
      "text/latex": [
       "$\\displaystyle N_{5} = 6.67 \\cdot 10^{20}$"
      ],
      "text/plain": [
       "Eq(N_5, 6.67e+20)"
      ]
     },
     "metadata": {},
     "output_type": "display_data"
    },
    {
     "data": {
      "text/latex": [
       "$\\displaystyle N_{8} = N_{U} \\left(1 - X\\right)$"
      ],
      "text/plain": [
       "Eq(N_8, N_U*(1 - X))"
      ]
     },
     "metadata": {},
     "output_type": "display_data"
    },
    {
     "data": {
      "text/latex": [
       "$\\displaystyle N_{8} = 2.16 \\cdot 10^{22}$"
      ],
      "text/plain": [
       "Eq(N_8, 2.16e+22)"
      ]
     },
     "metadata": {},
     "output_type": "display_data"
    },
    {
     "data": {
      "text/latex": [
       "$\\displaystyle N_{ss} = 8.978 \\cdot 10^{22}$"
      ],
      "text/plain": [
       "Eq(N_ss, 8.978e+22)"
      ]
     },
     "metadata": {},
     "output_type": "display_data"
    },
    {
     "data": {
      "text/latex": [
       "$\\displaystyle ρ_{Zr} = 6.4$"
      ],
      "text/plain": [
       "Eq(ρ_Zr, 6.4)"
      ]
     },
     "metadata": {},
     "output_type": "display_data"
    },
    {
     "data": {
      "text/latex": [
       "$\\displaystyle A_{Zr} = 91.22$"
      ],
      "text/plain": [
       "Eq(A_Zr, 91.22)"
      ]
     },
     "metadata": {},
     "output_type": "display_data"
    },
    {
     "data": {
      "text/latex": [
       "$\\displaystyle N_{Zr} = \\frac{N_{a} ρ_{Zr}}{A_{Zr}}$"
      ],
      "text/plain": [
       "Eq(N_Zr, N_a*ρ_Zr/A_Zr)"
      ]
     },
     "metadata": {},
     "output_type": "display_data"
    },
    {
     "data": {
      "text/latex": [
       "$\\displaystyle N_{Zr} = 4.23 \\cdot 10^{22}$"
      ],
      "text/plain": [
       "Eq(N_Zr, 4.23e+22)"
      ]
     },
     "metadata": {},
     "output_type": "display_data"
    },
    {
     "data": {
      "text/latex": [
       "$\\displaystyle ρ_{He} = 0.000178$"
      ],
      "text/plain": [
       "Eq(ρ_He, 0.000178)"
      ]
     },
     "metadata": {},
     "output_type": "display_data"
    },
    {
     "data": {
      "text/latex": [
       "$\\displaystyle A_{He} = 4.003$"
      ],
      "text/plain": [
       "Eq(A_He, 4.003)"
      ]
     },
     "metadata": {},
     "output_type": "display_data"
    },
    {
     "data": {
      "text/latex": [
       "$\\displaystyle N_{He} = \\frac{N_{a} ρ_{He}}{A_{He}}$"
      ],
      "text/plain": [
       "Eq(N_He, N_a*ρ_He/A_He)"
      ]
     },
     "metadata": {},
     "output_type": "display_data"
    },
    {
     "data": {
      "text/latex": [
       "$\\displaystyle N_{He} = 2.68 \\cdot 10^{19}$"
      ],
      "text/plain": [
       "Eq(N_He, 2.68e+19)"
      ]
     },
     "metadata": {},
     "output_type": "display_data"
    },
    {
     "data": {
      "text/latex": [
       "$\\displaystyle H = D$"
      ],
      "text/plain": [
       "Eq(H, D)"
      ]
     },
     "metadata": {},
     "output_type": "display_data"
    },
    {
     "data": {
      "text/latex": [
       "$\\displaystyle H = 2.78$"
      ],
      "text/plain": [
       "Eq(H, 2.78)"
      ]
     },
     "metadata": {},
     "output_type": "display_data"
    },
    {
     "data": {
      "text/latex": [
       "$\\displaystyle m_{UO2} = 1000 F_{fuel} H n_{FE} n_{ceil} ρ_{UO2}$"
      ],
      "text/plain": [
       "Eq(m_UO2, 1000*F_fuel*H*n_FE*n_ceil*ρ_UO2)"
      ]
     },
     "metadata": {},
     "output_type": "display_data"
    },
    {
     "data": {
      "text/latex": [
       "$\\displaystyle m_{UO2} = 4.29 \\cdot 10^{4}$"
      ],
      "text/plain": [
       "Eq(m_UO2, 4.29e+4)"
      ]
     },
     "metadata": {},
     "output_type": "display_data"
    },
    {
     "data": {
      "text/latex": [
       "$\\displaystyle A_{8} = 238$"
      ],
      "text/plain": [
       "Eq(A_8, 238)"
      ]
     },
     "metadata": {},
     "output_type": "display_data"
    },
    {
     "data": {
      "text/latex": [
       "$\\displaystyle A_{5} = 235$"
      ],
      "text/plain": [
       "Eq(A_5, 235)"
      ]
     },
     "metadata": {},
     "output_type": "display_data"
    },
    {
     "data": {
      "text/latex": [
       "$\\displaystyle m_{5} = \\frac{A_{8} m_{UO2}}{A_{UO2} \\cdot \\left(1 + \\frac{A_{8} \\cdot \\left(1 - X\\right)}{A_{5} X}\\right)}$"
      ],
      "text/plain": [
       "Eq(m_5, A_8*m_UO2/(A_UO2*(1 + A_8*(1 - X)/(A_5*X))))"
      ]
     },
     "metadata": {},
     "output_type": "display_data"
    },
    {
     "data": {
      "text/latex": [
       "$\\displaystyle m_{5} = 1.12 \\cdot 10^{3}$"
      ],
      "text/plain": [
       "Eq(m_5, 1.12e+3)"
      ]
     },
     "metadata": {},
     "output_type": "display_data"
    },
    {
     "data": {
      "text/latex": [
       "$\\displaystyle Σ_{a5} = N_{5} σ_{a5}$"
      ],
      "text/plain": [
       "Eq(Σ_a5, N_5*σ_a5)"
      ]
     },
     "metadata": {},
     "output_type": "display_data"
    },
    {
     "data": {
      "text/latex": [
       "$\\displaystyle Σ_{a5} = 0.232$"
      ],
      "text/plain": [
       "Eq(Σ_a5, 0.232)"
      ]
     },
     "metadata": {},
     "output_type": "display_data"
    },
    {
     "data": {
      "text/latex": [
       "$\\displaystyle Σ_{s5} = N_{5} σ_{s5}$"
      ],
      "text/plain": [
       "Eq(Σ_s5, N_5*σ_s5)"
      ]
     },
     "metadata": {},
     "output_type": "display_data"
    },
    {
     "data": {
      "text/latex": [
       "$\\displaystyle Σ_{s5} = 0.00921$"
      ],
      "text/plain": [
       "Eq(Σ_s5, 0.00921)"
      ]
     },
     "metadata": {},
     "output_type": "display_data"
    },
    {
     "data": {
      "text/latex": [
       "$\\displaystyle Σ_{f5} = N_{5} σ_{f5}$"
      ],
      "text/plain": [
       "Eq(Σ_f5, N_5*σ_f5)"
      ]
     },
     "metadata": {},
     "output_type": "display_data"
    },
    {
     "data": {
      "text/latex": [
       "$\\displaystyle Σ_{f5} = 0.196$"
      ],
      "text/plain": [
       "Eq(Σ_f5, 0.196)"
      ]
     },
     "metadata": {},
     "output_type": "display_data"
    },
    {
     "data": {
      "text/latex": [
       "$\\displaystyle Σ_{a8} = N_{8} σ_{a8}$"
      ],
      "text/plain": [
       "Eq(Σ_a8, N_8*σ_a8)"
      ]
     },
     "metadata": {},
     "output_type": "display_data"
    },
    {
     "data": {
      "text/latex": [
       "$\\displaystyle Σ_{a8} = 0.0322$"
      ],
      "text/plain": [
       "Eq(Σ_a8, 0.0322)"
      ]
     },
     "metadata": {},
     "output_type": "display_data"
    },
    {
     "data": {
      "text/latex": [
       "$\\displaystyle Σ_{s8} = N_{8} σ_{s8}$"
      ],
      "text/plain": [
       "Eq(Σ_s8, N_8*σ_s8)"
      ]
     },
     "metadata": {},
     "output_type": "display_data"
    },
    {
     "data": {
      "text/latex": [
       "$\\displaystyle Σ_{s8} = 0.192$"
      ],
      "text/plain": [
       "Eq(Σ_s8, 0.192)"
      ]
     },
     "metadata": {},
     "output_type": "display_data"
    },
    {
     "data": {
      "text/latex": [
       "$\\displaystyle Σ_{aO2} = N_{O} σ_{aO2}$"
      ],
      "text/plain": [
       "Eq(Σ_aO2, N_O*σ_aO2)"
      ]
     },
     "metadata": {},
     "output_type": "display_data"
    },
    {
     "data": {
      "text/latex": [
       "$\\displaystyle Σ_{aO2} = 6.61 \\cdot 10^{-6}$"
      ],
      "text/plain": [
       "Eq(Σ_aO2, 6.61e-6)"
      ]
     },
     "metadata": {},
     "output_type": "display_data"
    },
    {
     "data": {
      "text/latex": [
       "$\\displaystyle Σ_{sO2} = N_{O} σ_{sO2}$"
      ],
      "text/plain": [
       "Eq(Σ_sO2, N_O*σ_sO2)"
      ]
     },
     "metadata": {},
     "output_type": "display_data"
    },
    {
     "data": {
      "text/latex": [
       "$\\displaystyle Σ_{sO2} = 0.167$"
      ],
      "text/plain": [
       "Eq(Σ_sO2, 0.167)"
      ]
     },
     "metadata": {},
     "output_type": "display_data"
    },
    {
     "data": {
      "text/latex": [
       "$\\displaystyle Σ_{acm} = 0.114$"
      ],
      "text/plain": [
       "Eq(Σ_acm, 0.114)"
      ]
     },
     "metadata": {},
     "output_type": "display_data"
    },
    {
     "data": {
      "text/latex": [
       "$\\displaystyle Σ_{scm} = 0.844$"
      ],
      "text/plain": [
       "Eq(Σ_scm, 0.844)"
      ]
     },
     "metadata": {},
     "output_type": "display_data"
    },
    {
     "data": {
      "text/latex": [
       "$\\displaystyle Σ_{aHe} = N_{He} σ_{aHe}$"
      ],
      "text/plain": [
       "Eq(Σ_aHe, N_He*σ_aHe)"
      ]
     },
     "metadata": {},
     "output_type": "display_data"
    },
    {
     "data": {
      "text/latex": [
       "$\\displaystyle Σ_{aHe} = 1.03 \\cdot 10^{-7}$"
      ],
      "text/plain": [
       "Eq(Σ_aHe, 1.03e-7)"
      ]
     },
     "metadata": {},
     "output_type": "display_data"
    },
    {
     "data": {
      "text/latex": [
       "$\\displaystyle Σ_{sHe} = N_{He} σ_{sHe}$"
      ],
      "text/plain": [
       "Eq(Σ_sHe, N_He*σ_sHe)"
      ]
     },
     "metadata": {},
     "output_type": "display_data"
    },
    {
     "data": {
      "text/latex": [
       "$\\displaystyle Σ_{sHe} = 2.14 \\cdot 10^{-5}$"
      ],
      "text/plain": [
       "Eq(Σ_sHe, 2.14e-5)"
      ]
     },
     "metadata": {},
     "output_type": "display_data"
    },
    {
     "data": {
      "text/latex": [
       "$\\displaystyle Σ_{aH2O} = N_{H2O} σ_{aH2O}$"
      ],
      "text/plain": [
       "Eq(Σ_aH2O, N_H2O*σ_aH2O)"
      ]
     },
     "metadata": {},
     "output_type": "display_data"
    },
    {
     "data": {
      "text/latex": [
       "$\\displaystyle Σ_{aH2O} = 0.00866$"
      ],
      "text/plain": [
       "Eq(Σ_aH2O, 0.00866)"
      ]
     },
     "metadata": {},
     "output_type": "display_data"
    },
    {
     "data": {
      "text/latex": [
       "$\\displaystyle Σ_{sH2O} = N_{H2O} σ_{sH2O}$"
      ],
      "text/plain": [
       "Eq(Σ_sH2O, N_H2O*σ_sH2O)"
      ]
     },
     "metadata": {},
     "output_type": "display_data"
    },
    {
     "data": {
      "text/latex": [
       "$\\displaystyle Σ_{sH2O} = 2.46$"
      ],
      "text/plain": [
       "Eq(Σ_sH2O, 2.46)"
      ]
     },
     "metadata": {},
     "output_type": "display_data"
    },
    {
     "data": {
      "text/latex": [
       "$\\displaystyle \\Sigma_{a 0} = Σ_{a5} + Σ_{a8} + Σ_{aO2}$"
      ],
      "text/plain": [
       "Eq(Sigma_a_0, Σ_a5 + Σ_a8 + Σ_aO2)"
      ]
     },
     "metadata": {},
     "output_type": "display_data"
    },
    {
     "data": {
      "text/latex": [
       "$\\displaystyle \\Sigma_{a 0} = 0.264$"
      ],
      "text/plain": [
       "Eq(Sigma_a_0, 0.264)"
      ]
     },
     "metadata": {},
     "output_type": "display_data"
    },
    {
     "data": {
      "text/latex": [
       "$\\displaystyle \\Sigma_{s 0} = Σ_{s5} + Σ_{s8} + Σ_{sO2}$"
      ],
      "text/plain": [
       "Eq(Sigma_s_0, Σ_s5 + Σ_s8 + Σ_sO2)"
      ]
     },
     "metadata": {},
     "output_type": "display_data"
    },
    {
     "data": {
      "text/latex": [
       "$\\displaystyle \\Sigma_{s 0} = 0.369$"
      ],
      "text/plain": [
       "Eq(Sigma_s_0, 0.369)"
      ]
     },
     "metadata": {},
     "output_type": "display_data"
    },
    {
     "data": {
      "text/latex": [
       "$\\displaystyle \\Sigma_{a 1} = \\frac{F_{HE} Σ_{aHe} + f_{cmE} Σ_{acm} + f_{moderE} Σ_{aH2O}}{f_{1}}$"
      ],
      "text/plain": [
       "Eq(Sigma_a_1, (F_HE*Σ_aHe + f_cmE*Σ_acm + f_moderE*Σ_aH2O)/f_1)"
      ]
     },
     "metadata": {},
     "output_type": "display_data"
    },
    {
     "data": {
      "text/latex": [
       "$\\displaystyle \\Sigma_{a 1} = 0.0287$"
      ],
      "text/plain": [
       "Eq(Sigma_a_1, 0.0287)"
      ]
     },
     "metadata": {},
     "output_type": "display_data"
    },
    {
     "data": {
      "text/latex": [
       "$\\displaystyle \\Sigma_{s 1} = \\frac{F_{HE} Σ_{sHe} + f_{cmE} Σ_{scm} + f_{moderE} Σ_{sH2O}}{f_{1}}$"
      ],
      "text/plain": [
       "Eq(Sigma_s_1, (F_HE*Σ_sHe + f_cmE*Σ_scm + f_moderE*Σ_sH2O)/f_1)"
      ]
     },
     "metadata": {},
     "output_type": "display_data"
    },
    {
     "data": {
      "text/latex": [
       "$\\displaystyle \\Sigma_{s 1} = 2.11$"
      ],
      "text/plain": [
       "Eq(Sigma_s_1, 2.11)"
      ]
     },
     "metadata": {},
     "output_type": "display_data"
    },
    {
     "data": {
      "text/latex": [
       "$\\displaystyle Σξ_{s 1} = \\frac{F_{HE} Σξ_{sHe} + f_{cmE} Σξ_{scm} + f_{moderE} Σξ_{sH2O}}{f_{1}}$"
      ],
      "text/plain": [
       "Eq(Σξ_s_1, (F_HE*Σξ_sHe + f_cmE*Σξ_scm + f_moderE*Σξ_sH2O)/f_1)"
      ]
     },
     "metadata": {},
     "output_type": "display_data"
    },
    {
     "data": {
      "text/latex": [
       "$\\displaystyle Σξ_{s 1} = 0.77$"
      ],
      "text/plain": [
       "Eq(Σξ_s_1, 0.77)"
      ]
     },
     "metadata": {},
     "output_type": "display_data"
    },
    {
     "data": {
      "text/latex": [
       "$\\displaystyle T_{H} = t_{aver} \\left(1 + \\frac{1.7 F_{fuel} \\Sigma_{a 0} + 1.7 \\Sigma_{a 1} f_{1}}{f_{1} Σξ_{s 1}}\\right)$"
      ],
      "text/plain": [
       "Eq(T_H, t_aver*(1 + (1.7*F_fuel*Sigma_a_0 + 1.7*Sigma_a_1*f_1)/(f_1*Σξ_s_1)))"
      ]
     },
     "metadata": {},
     "output_type": "display_data"
    },
    {
     "data": {
      "text/latex": [
       "$\\displaystyle T_{H} = 761.0$"
      ],
      "text/plain": [
       "Eq(T_H, 761.0)"
      ]
     },
     "metadata": {},
     "output_type": "display_data"
    }
   ],
   "source": [
    "xi=0.03\n",
    "g_fc=main(xi=xi)\n",
    "def mainfh(tw=None):\n",
    "    def it(tt):\n",
    "        Showing=False\n",
    "        transfer_data=False\n",
    "        graph=graph_copy.copy()\n",
    "        tt2=main(xi=xi,Temp=True,cold=False,VAR=-1,TTT=tt)\n",
    "        if abs(tt-tt2)>1e-2:\n",
    "            return it(tt2)\n",
    "        else:\n",
    "            return tt2\n",
    "    Showing=False\n",
    "    transfer_data=False\n",
    "    graph=graph_copy.copy()\n",
    "    tt=it(main(xi=xi,Temp=True,cold=False,VAR=-1))\n",
    "    if tw==None:\n",
    "        return main(xi=xi,TTT=tt,Temp=True,cold=False)\n",
    "    else:\n",
    "        return tt\n",
    "Showing=False\n",
    "transfer_data=False\n",
    "tt=mainfh(tw=True)\n",
    "Showing=True\n",
    "transfer_data=True\n",
    "graph=graph_copy.copy()\n",
    "g_fh=main(xi=xi,TTT=tt,Temp=True,cold=False)\n"
   ]
  },
  {
   "cell_type": "markdown",
   "id": "0269f864-6f48-4017-b110-52bd9dfeda19",
   "metadata": {},
   "source": [
    "## Расчет холодного//горячего реактора на начало кампании"
   ]
  },
  {
   "cell_type": "code",
   "execution_count": 7,
   "id": "9b08c2bb-725d-4c90-9e61-eac4bf2b9597",
   "metadata": {},
   "outputs": [
    {
     "data": {
      "text/latex": [
       "$\\displaystyle X = 0.03$"
      ],
      "text/plain": [
       "Eq(X, 0.03)"
      ]
     },
     "metadata": {},
     "output_type": "display_data"
    },
    {
     "data": {
      "text/latex": [
       "$\\displaystyle σ_{s5} = 1.38 \\cdot 10^{-23}$"
      ],
      "text/plain": [
       "Eq(σ_s5, 1.38e-23)"
      ]
     },
     "metadata": {},
     "output_type": "display_data"
    },
    {
     "data": {
      "text/latex": [
       "$\\displaystyle σ_{s8} = 8.9 \\cdot 10^{-24}$"
      ],
      "text/plain": [
       "Eq(σ_s8, 8.9e-24)"
      ]
     },
     "metadata": {},
     "output_type": "display_data"
    },
    {
     "data": {
      "text/latex": [
       "$\\displaystyle σ_{sZr} = 6.4 \\cdot 10^{-24}$"
      ],
      "text/plain": [
       "Eq(σ_sZr, 6.4e-24)"
      ]
     },
     "metadata": {},
     "output_type": "display_data"
    },
    {
     "data": {
      "text/latex": [
       "$\\displaystyle σ_{sO2} = 3.76 \\cdot 10^{-24}$"
      ],
      "text/plain": [
       "Eq(σ_sO2, 3.76e-24)"
      ]
     },
     "metadata": {},
     "output_type": "display_data"
    },
    {
     "data": {
      "text/latex": [
       "$\\displaystyle σ_{sss} = 1.1 \\cdot 10^{-23}$"
      ],
      "text/plain": [
       "Eq(σ_sss, 1.1e-23)"
      ]
     },
     "metadata": {},
     "output_type": "display_data"
    },
    {
     "data": {
      "text/latex": [
       "$\\displaystyle σ_{sHe} = 8.0 \\cdot 10^{-25}$"
      ],
      "text/plain": [
       "Eq(σ_sHe, 8.0e-25)"
      ]
     },
     "metadata": {},
     "output_type": "display_data"
    },
    {
     "data": {
      "text/latex": [
       "$\\displaystyle σ_{sH2O} = 1.03 \\cdot 10^{-22}$"
      ],
      "text/plain": [
       "Eq(σ_sH2O, 1.03e-22)"
      ]
     },
     "metadata": {},
     "output_type": "display_data"
    },
    {
     "data": {
      "text/latex": [
       "$\\displaystyle T = 420.758423086353$"
      ],
      "text/plain": [
       "Eq(T, 420.758423086353)"
      ]
     },
     "metadata": {},
     "output_type": "display_data"
    },
    {
     "data": {
      "text/latex": [
       "$\\displaystyle ρ_{H2O} = 1$"
      ],
      "text/plain": [
       "Eq(ρ_H2O, 1)"
      ]
     },
     "metadata": {},
     "output_type": "display_data"
    },
    {
     "data": {
      "text/latex": [
       "$\\displaystyle g_{a 5} = 0.956$"
      ],
      "text/plain": [
       "Eq(g_a_5, 0.956)"
      ]
     },
     "metadata": {},
     "output_type": "display_data"
    },
    {
     "data": {
      "text/latex": [
       "$\\displaystyle g_{f 5} = 0.953$"
      ],
      "text/plain": [
       "Eq(g_f_5, 0.953)"
      ]
     },
     "metadata": {},
     "output_type": "display_data"
    },
    {
     "data": {
      "text/latex": [
       "$\\displaystyle σ_{a5} = \\frac{\\sqrt{\\pi} \\sqrt{T_{0}} g_{a 5} σ_{a5 0}}{2 \\sqrt{T}}$"
      ],
      "text/plain": [
       "Eq(σ_a5, sqrt(pi)*sqrt(T_0)*g_a_5*σ_a5_0/(2*sqrt(T)))"
      ]
     },
     "metadata": {},
     "output_type": "display_data"
    },
    {
     "data": {
      "text/latex": [
       "$\\displaystyle σ_{a5} = 4.82 \\cdot 10^{-22}$"
      ],
      "text/plain": [
       "Eq(σ_a5, 4.82e-22)"
      ]
     },
     "metadata": {},
     "output_type": "display_data"
    },
    {
     "data": {
      "text/latex": [
       "$\\displaystyle σ_{a8} = \\frac{\\sqrt{\\pi} \\sqrt{T_{0}} σ_{a8 0}}{2 \\sqrt{T}}$"
      ],
      "text/plain": [
       "Eq(σ_a8, sqrt(pi)*sqrt(T_0)*σ_a8_0/(2*sqrt(T)))"
      ]
     },
     "metadata": {},
     "output_type": "display_data"
    },
    {
     "data": {
      "text/latex": [
       "$\\displaystyle σ_{a8} = 2.0 \\cdot 10^{-24}$"
      ],
      "text/plain": [
       "Eq(σ_a8, 2.0e-24)"
      ]
     },
     "metadata": {},
     "output_type": "display_data"
    },
    {
     "data": {
      "text/latex": [
       "$\\displaystyle σ_{aZr} = \\frac{\\sqrt{\\pi} \\sqrt{T_{0}} σ_{aZr 0}}{2 \\sqrt{T}}$"
      ],
      "text/plain": [
       "Eq(σ_aZr, sqrt(pi)*sqrt(T_0)*σ_aZr_0/(2*sqrt(T)))"
      ]
     },
     "metadata": {},
     "output_type": "display_data"
    },
    {
     "data": {
      "text/latex": [
       "$\\displaystyle σ_{aZr} = 1.37 \\cdot 10^{-25}$"
      ],
      "text/plain": [
       "Eq(σ_aZr, 1.37e-25)"
      ]
     },
     "metadata": {},
     "output_type": "display_data"
    },
    {
     "data": {
      "text/latex": [
       "$\\displaystyle σ_{aO2} = \\frac{\\sqrt{\\pi} \\sqrt{T_{0}} σ_{aO2 0}}{2 \\sqrt{T}}$"
      ],
      "text/plain": [
       "Eq(σ_aO2, sqrt(pi)*sqrt(T_0)*σ_aO2_0/(2*sqrt(T)))"
      ]
     },
     "metadata": {},
     "output_type": "display_data"
    },
    {
     "data": {
      "text/latex": [
       "$\\displaystyle σ_{aO2} = 2.0 \\cdot 10^{-28}$"
      ],
      "text/plain": [
       "Eq(σ_aO2, 2.0e-28)"
      ]
     },
     "metadata": {},
     "output_type": "display_data"
    },
    {
     "data": {
      "text/latex": [
       "$\\displaystyle σ_{aHe} = \\frac{\\sqrt{\\pi} \\sqrt{T_{0}} σ_{aHe 0}}{2 \\sqrt{T}}$"
      ],
      "text/plain": [
       "Eq(σ_aHe, sqrt(pi)*sqrt(T_0)*σ_aHe_0/(2*sqrt(T)))"
      ]
     },
     "metadata": {},
     "output_type": "display_data"
    },
    {
     "data": {
      "text/latex": [
       "$\\displaystyle σ_{aHe} = 5.18 \\cdot 10^{-27}$"
      ],
      "text/plain": [
       "Eq(σ_aHe, 5.18e-27)"
      ]
     },
     "metadata": {},
     "output_type": "display_data"
    },
    {
     "data": {
      "text/latex": [
       "$\\displaystyle σ_{aH2O} = \\frac{\\sqrt{\\pi} \\sqrt{T_{0}} σ_{aH2O 0}}{2 \\sqrt{T}}$"
      ],
      "text/plain": [
       "Eq(σ_aH2O, sqrt(pi)*sqrt(T_0)*σ_aH2O_0/(2*sqrt(T)))"
      ]
     },
     "metadata": {},
     "output_type": "display_data"
    },
    {
     "data": {
      "text/latex": [
       "$\\displaystyle σ_{aH2O} = 4.88 \\cdot 10^{-25}$"
      ],
      "text/plain": [
       "Eq(σ_aH2O, 4.88e-25)"
      ]
     },
     "metadata": {},
     "output_type": "display_data"
    },
    {
     "data": {
      "text/latex": [
       "$\\displaystyle σ_{f5} = \\frac{\\sqrt{\\pi} \\sqrt{T_{0}} g_{f 5} σ_{f5 0}}{2 \\sqrt{T}}$"
      ],
      "text/plain": [
       "Eq(σ_f5, sqrt(pi)*sqrt(T_0)*g_f_5*σ_f5_0/(2*sqrt(T)))"
      ]
     },
     "metadata": {},
     "output_type": "display_data"
    },
    {
     "data": {
      "text/latex": [
       "$\\displaystyle σ_{f5} = 4.11 \\cdot 10^{-22}$"
      ],
      "text/plain": [
       "Eq(σ_f5, 4.11e-22)"
      ]
     },
     "metadata": {},
     "output_type": "display_data"
    },
    {
     "data": {
      "text/latex": [
       "$\\displaystyle σ_{ass} = \\frac{\\sqrt{\\pi} \\sqrt{T_{0}} σ_{ass 0}}{2 \\sqrt{T}}$"
      ],
      "text/plain": [
       "Eq(σ_ass, sqrt(pi)*sqrt(T_0)*σ_ass_0/(2*sqrt(T)))"
      ]
     },
     "metadata": {},
     "output_type": "display_data"
    },
    {
     "data": {
      "text/latex": [
       "$\\displaystyle σ_{ass} = 2.12 \\cdot 10^{-24}$"
      ],
      "text/plain": [
       "Eq(σ_ass, 2.12e-24)"
      ]
     },
     "metadata": {},
     "output_type": "display_data"
    },
    {
     "data": {
      "text/latex": [
       "$\\displaystyle Σξ_{sH2O} = 1.35$"
      ],
      "text/plain": [
       "Eq(Σξ_sH2O, 1.35)"
      ]
     },
     "metadata": {},
     "output_type": "display_data"
    },
    {
     "data": {
      "text/latex": [
       "$\\displaystyle Σξ_{sHe} = 9.11 \\cdot 10^{-6}$"
      ],
      "text/plain": [
       "Eq(Σξ_sHe, 9.11e-6)"
      ]
     },
     "metadata": {},
     "output_type": "display_data"
    },
    {
     "data": {
      "text/latex": [
       "$\\displaystyle Σξ_{scm} = 0.0283$"
      ],
      "text/plain": [
       "Eq(Σξ_scm, 0.0283)"
      ]
     },
     "metadata": {},
     "output_type": "display_data"
    },
    {
     "data": {
      "text/latex": [
       "$\\displaystyle A_{H2O} = 18$"
      ],
      "text/plain": [
       "Eq(A_H2O, 18)"
      ]
     },
     "metadata": {},
     "output_type": "display_data"
    },
    {
     "data": {
      "text/latex": [
       "$\\displaystyle N_{H2O} = \\frac{N_{a} ρ_{H2O}}{A_{H2O}}$"
      ],
      "text/plain": [
       "Eq(N_H2O, N_a*ρ_H2O/A_H2O)"
      ]
     },
     "metadata": {},
     "output_type": "display_data"
    },
    {
     "data": {
      "text/latex": [
       "$\\displaystyle N_{H2O} = 3.35 \\cdot 10^{22}$"
      ],
      "text/plain": [
       "Eq(N_H2O, 3.35e+22)"
      ]
     },
     "metadata": {},
     "output_type": "display_data"
    },
    {
     "data": {
      "text/latex": [
       "$\\displaystyle ρ_{UO2} = 10$"
      ],
      "text/plain": [
       "Eq(ρ_UO2, 10)"
      ]
     },
     "metadata": {},
     "output_type": "display_data"
    },
    {
     "data": {
      "text/latex": [
       "$\\displaystyle A_{UO2} = 270.7$"
      ],
      "text/plain": [
       "Eq(A_UO2, 270.7)"
      ]
     },
     "metadata": {},
     "output_type": "display_data"
    },
    {
     "data": {
      "text/latex": [
       "$\\displaystyle N_{UO2} = \\frac{N_{a} ρ_{UO2}}{A_{UO2}}$"
      ],
      "text/plain": [
       "Eq(N_UO2, N_a*ρ_UO2/A_UO2)"
      ]
     },
     "metadata": {},
     "output_type": "display_data"
    },
    {
     "data": {
      "text/latex": [
       "$\\displaystyle N_{UO2} = 2.22 \\cdot 10^{22}$"
      ],
      "text/plain": [
       "Eq(N_UO2, 2.22e+22)"
      ]
     },
     "metadata": {},
     "output_type": "display_data"
    },
    {
     "data": {
      "text/latex": [
       "$\\displaystyle N_{U} = N_{UO2}$"
      ],
      "text/plain": [
       "Eq(N_U, N_UO2)"
      ]
     },
     "metadata": {},
     "output_type": "display_data"
    },
    {
     "data": {
      "text/latex": [
       "$\\displaystyle N_{U} = 2.22 \\cdot 10^{22}$"
      ],
      "text/plain": [
       "Eq(N_U, 2.22e+22)"
      ]
     },
     "metadata": {},
     "output_type": "display_data"
    },
    {
     "data": {
      "text/latex": [
       "$\\displaystyle N_{O} = 2 N_{UO2}$"
      ],
      "text/plain": [
       "Eq(N_O, 2*N_UO2)"
      ]
     },
     "metadata": {},
     "output_type": "display_data"
    },
    {
     "data": {
      "text/latex": [
       "$\\displaystyle N_{O} = 4.45 \\cdot 10^{22}$"
      ],
      "text/plain": [
       "Eq(N_O, 4.45e+22)"
      ]
     },
     "metadata": {},
     "output_type": "display_data"
    },
    {
     "data": {
      "text/latex": [
       "$\\displaystyle N_{5} = N_{U} X$"
      ],
      "text/plain": [
       "Eq(N_5, N_U*X)"
      ]
     },
     "metadata": {},
     "output_type": "display_data"
    },
    {
     "data": {
      "text/latex": [
       "$\\displaystyle N_{5} = 6.67 \\cdot 10^{20}$"
      ],
      "text/plain": [
       "Eq(N_5, 6.67e+20)"
      ]
     },
     "metadata": {},
     "output_type": "display_data"
    },
    {
     "data": {
      "text/latex": [
       "$\\displaystyle N_{8} = N_{U} \\left(1 - X\\right)$"
      ],
      "text/plain": [
       "Eq(N_8, N_U*(1 - X))"
      ]
     },
     "metadata": {},
     "output_type": "display_data"
    },
    {
     "data": {
      "text/latex": [
       "$\\displaystyle N_{8} = 2.16 \\cdot 10^{22}$"
      ],
      "text/plain": [
       "Eq(N_8, 2.16e+22)"
      ]
     },
     "metadata": {},
     "output_type": "display_data"
    },
    {
     "data": {
      "text/latex": [
       "$\\displaystyle N_{ss} = 8.978 \\cdot 10^{22}$"
      ],
      "text/plain": [
       "Eq(N_ss, 8.978e+22)"
      ]
     },
     "metadata": {},
     "output_type": "display_data"
    },
    {
     "data": {
      "text/latex": [
       "$\\displaystyle ρ_{Zr} = 6.4$"
      ],
      "text/plain": [
       "Eq(ρ_Zr, 6.4)"
      ]
     },
     "metadata": {},
     "output_type": "display_data"
    },
    {
     "data": {
      "text/latex": [
       "$\\displaystyle A_{Zr} = 91.22$"
      ],
      "text/plain": [
       "Eq(A_Zr, 91.22)"
      ]
     },
     "metadata": {},
     "output_type": "display_data"
    },
    {
     "data": {
      "text/latex": [
       "$\\displaystyle N_{Zr} = \\frac{N_{a} ρ_{Zr}}{A_{Zr}}$"
      ],
      "text/plain": [
       "Eq(N_Zr, N_a*ρ_Zr/A_Zr)"
      ]
     },
     "metadata": {},
     "output_type": "display_data"
    },
    {
     "data": {
      "text/latex": [
       "$\\displaystyle N_{Zr} = 4.23 \\cdot 10^{22}$"
      ],
      "text/plain": [
       "Eq(N_Zr, 4.23e+22)"
      ]
     },
     "metadata": {},
     "output_type": "display_data"
    },
    {
     "data": {
      "text/latex": [
       "$\\displaystyle ρ_{He} = 0.000178$"
      ],
      "text/plain": [
       "Eq(ρ_He, 0.000178)"
      ]
     },
     "metadata": {},
     "output_type": "display_data"
    },
    {
     "data": {
      "text/latex": [
       "$\\displaystyle A_{He} = 4.003$"
      ],
      "text/plain": [
       "Eq(A_He, 4.003)"
      ]
     },
     "metadata": {},
     "output_type": "display_data"
    },
    {
     "data": {
      "text/latex": [
       "$\\displaystyle N_{He} = \\frac{N_{a} ρ_{He}}{A_{He}}$"
      ],
      "text/plain": [
       "Eq(N_He, N_a*ρ_He/A_He)"
      ]
     },
     "metadata": {},
     "output_type": "display_data"
    },
    {
     "data": {
      "text/latex": [
       "$\\displaystyle N_{He} = 2.68 \\cdot 10^{19}$"
      ],
      "text/plain": [
       "Eq(N_He, 2.68e+19)"
      ]
     },
     "metadata": {},
     "output_type": "display_data"
    },
    {
     "data": {
      "text/latex": [
       "$\\displaystyle H = D$"
      ],
      "text/plain": [
       "Eq(H, D)"
      ]
     },
     "metadata": {},
     "output_type": "display_data"
    },
    {
     "data": {
      "text/latex": [
       "$\\displaystyle H = 2.78$"
      ],
      "text/plain": [
       "Eq(H, 2.78)"
      ]
     },
     "metadata": {},
     "output_type": "display_data"
    },
    {
     "data": {
      "text/latex": [
       "$\\displaystyle m_{UO2} = 1000 F_{fuel} H n_{FE} n_{ceil} ρ_{UO2}$"
      ],
      "text/plain": [
       "Eq(m_UO2, 1000*F_fuel*H*n_FE*n_ceil*ρ_UO2)"
      ]
     },
     "metadata": {},
     "output_type": "display_data"
    },
    {
     "data": {
      "text/latex": [
       "$\\displaystyle m_{UO2} = 4.29 \\cdot 10^{4}$"
      ],
      "text/plain": [
       "Eq(m_UO2, 4.29e+4)"
      ]
     },
     "metadata": {},
     "output_type": "display_data"
    },
    {
     "data": {
      "text/latex": [
       "$\\displaystyle A_{8} = 238$"
      ],
      "text/plain": [
       "Eq(A_8, 238)"
      ]
     },
     "metadata": {},
     "output_type": "display_data"
    },
    {
     "data": {
      "text/latex": [
       "$\\displaystyle A_{5} = 235$"
      ],
      "text/plain": [
       "Eq(A_5, 235)"
      ]
     },
     "metadata": {},
     "output_type": "display_data"
    },
    {
     "data": {
      "text/latex": [
       "$\\displaystyle m_{5} = \\frac{A_{8} m_{UO2}}{A_{UO2} \\cdot \\left(1 + \\frac{A_{8} \\cdot \\left(1 - X\\right)}{A_{5} X}\\right)}$"
      ],
      "text/plain": [
       "Eq(m_5, A_8*m_UO2/(A_UO2*(1 + A_8*(1 - X)/(A_5*X))))"
      ]
     },
     "metadata": {},
     "output_type": "display_data"
    },
    {
     "data": {
      "text/latex": [
       "$\\displaystyle m_{5} = 1.12 \\cdot 10^{3}$"
      ],
      "text/plain": [
       "Eq(m_5, 1.12e+3)"
      ]
     },
     "metadata": {},
     "output_type": "display_data"
    },
    {
     "data": {
      "text/latex": [
       "$\\displaystyle Σ_{a5} = N_{5} σ_{a5}$"
      ],
      "text/plain": [
       "Eq(Σ_a5, N_5*σ_a5)"
      ]
     },
     "metadata": {},
     "output_type": "display_data"
    },
    {
     "data": {
      "text/latex": [
       "$\\displaystyle Σ_{a5} = 0.321$"
      ],
      "text/plain": [
       "Eq(Σ_a5, 0.321)"
      ]
     },
     "metadata": {},
     "output_type": "display_data"
    },
    {
     "data": {
      "text/latex": [
       "$\\displaystyle Σ_{s5} = N_{5} σ_{s5}$"
      ],
      "text/plain": [
       "Eq(Σ_s5, N_5*σ_s5)"
      ]
     },
     "metadata": {},
     "output_type": "display_data"
    },
    {
     "data": {
      "text/latex": [
       "$\\displaystyle Σ_{s5} = 0.00921$"
      ],
      "text/plain": [
       "Eq(Σ_s5, 0.00921)"
      ]
     },
     "metadata": {},
     "output_type": "display_data"
    },
    {
     "data": {
      "text/latex": [
       "$\\displaystyle Σ_{f5} = N_{5} σ_{f5}$"
      ],
      "text/plain": [
       "Eq(Σ_f5, N_5*σ_f5)"
      ]
     },
     "metadata": {},
     "output_type": "display_data"
    },
    {
     "data": {
      "text/latex": [
       "$\\displaystyle Σ_{f5} = 0.275$"
      ],
      "text/plain": [
       "Eq(Σ_f5, 0.275)"
      ]
     },
     "metadata": {},
     "output_type": "display_data"
    },
    {
     "data": {
      "text/latex": [
       "$\\displaystyle Σ_{a8} = N_{8} σ_{a8}$"
      ],
      "text/plain": [
       "Eq(Σ_a8, N_8*σ_a8)"
      ]
     },
     "metadata": {},
     "output_type": "display_data"
    },
    {
     "data": {
      "text/latex": [
       "$\\displaystyle Σ_{a8} = 0.0433$"
      ],
      "text/plain": [
       "Eq(Σ_a8, 0.0433)"
      ]
     },
     "metadata": {},
     "output_type": "display_data"
    },
    {
     "data": {
      "text/latex": [
       "$\\displaystyle Σ_{s8} = N_{8} σ_{s8}$"
      ],
      "text/plain": [
       "Eq(Σ_s8, N_8*σ_s8)"
      ]
     },
     "metadata": {},
     "output_type": "display_data"
    },
    {
     "data": {
      "text/latex": [
       "$\\displaystyle Σ_{s8} = 0.192$"
      ],
      "text/plain": [
       "Eq(Σ_s8, 0.192)"
      ]
     },
     "metadata": {},
     "output_type": "display_data"
    },
    {
     "data": {
      "text/latex": [
       "$\\displaystyle Σ_{aO2} = N_{O} σ_{aO2}$"
      ],
      "text/plain": [
       "Eq(Σ_aO2, N_O*σ_aO2)"
      ]
     },
     "metadata": {},
     "output_type": "display_data"
    },
    {
     "data": {
      "text/latex": [
       "$\\displaystyle Σ_{aO2} = 8.89 \\cdot 10^{-6}$"
      ],
      "text/plain": [
       "Eq(Σ_aO2, 8.89e-6)"
      ]
     },
     "metadata": {},
     "output_type": "display_data"
    },
    {
     "data": {
      "text/latex": [
       "$\\displaystyle Σ_{sO2} = N_{O} σ_{sO2}$"
      ],
      "text/plain": [
       "Eq(Σ_sO2, N_O*σ_sO2)"
      ]
     },
     "metadata": {},
     "output_type": "display_data"
    },
    {
     "data": {
      "text/latex": [
       "$\\displaystyle Σ_{sO2} = 0.167$"
      ],
      "text/plain": [
       "Eq(Σ_sO2, 0.167)"
      ]
     },
     "metadata": {},
     "output_type": "display_data"
    },
    {
     "data": {
      "text/latex": [
       "$\\displaystyle Σ_{acm} = 0.154$"
      ],
      "text/plain": [
       "Eq(Σ_acm, 0.154)"
      ]
     },
     "metadata": {},
     "output_type": "display_data"
    },
    {
     "data": {
      "text/latex": [
       "$\\displaystyle Σ_{scm} = 0.844$"
      ],
      "text/plain": [
       "Eq(Σ_scm, 0.844)"
      ]
     },
     "metadata": {},
     "output_type": "display_data"
    },
    {
     "data": {
      "text/latex": [
       "$\\displaystyle Σ_{aHe} = N_{He} σ_{aHe}$"
      ],
      "text/plain": [
       "Eq(Σ_aHe, N_He*σ_aHe)"
      ]
     },
     "metadata": {},
     "output_type": "display_data"
    },
    {
     "data": {
      "text/latex": [
       "$\\displaystyle Σ_{aHe} = 1.39 \\cdot 10^{-7}$"
      ],
      "text/plain": [
       "Eq(Σ_aHe, 1.39e-7)"
      ]
     },
     "metadata": {},
     "output_type": "display_data"
    },
    {
     "data": {
      "text/latex": [
       "$\\displaystyle Σ_{sHe} = N_{He} σ_{sHe}$"
      ],
      "text/plain": [
       "Eq(Σ_sHe, N_He*σ_sHe)"
      ]
     },
     "metadata": {},
     "output_type": "display_data"
    },
    {
     "data": {
      "text/latex": [
       "$\\displaystyle Σ_{sHe} = 2.14 \\cdot 10^{-5}$"
      ],
      "text/plain": [
       "Eq(Σ_sHe, 2.14e-5)"
      ]
     },
     "metadata": {},
     "output_type": "display_data"
    },
    {
     "data": {
      "text/latex": [
       "$\\displaystyle Σ_{aH2O} = N_{H2O} σ_{aH2O}$"
      ],
      "text/plain": [
       "Eq(Σ_aH2O, N_H2O*σ_aH2O)"
      ]
     },
     "metadata": {},
     "output_type": "display_data"
    },
    {
     "data": {
      "text/latex": [
       "$\\displaystyle Σ_{aH2O} = 0.0163$"
      ],
      "text/plain": [
       "Eq(Σ_aH2O, 0.0163)"
      ]
     },
     "metadata": {},
     "output_type": "display_data"
    },
    {
     "data": {
      "text/latex": [
       "$\\displaystyle Σ_{sH2O} = N_{H2O} σ_{sH2O}$"
      ],
      "text/plain": [
       "Eq(Σ_sH2O, N_H2O*σ_sH2O)"
      ]
     },
     "metadata": {},
     "output_type": "display_data"
    },
    {
     "data": {
      "text/latex": [
       "$\\displaystyle Σ_{sH2O} = 3.45$"
      ],
      "text/plain": [
       "Eq(Σ_sH2O, 3.45)"
      ]
     },
     "metadata": {},
     "output_type": "display_data"
    },
    {
     "data": {
      "text/latex": [
       "$\\displaystyle \\Sigma_{a 0} = Σ_{a5} + Σ_{a8} + Σ_{aO2}$"
      ],
      "text/plain": [
       "Eq(Sigma_a_0, Σ_a5 + Σ_a8 + Σ_aO2)"
      ]
     },
     "metadata": {},
     "output_type": "display_data"
    },
    {
     "data": {
      "text/latex": [
       "$\\displaystyle \\Sigma_{a 0} = 0.365$"
      ],
      "text/plain": [
       "Eq(Sigma_a_0, 0.365)"
      ]
     },
     "metadata": {},
     "output_type": "display_data"
    },
    {
     "data": {
      "text/latex": [
       "$\\displaystyle \\Sigma_{s 0} = Σ_{s5} + Σ_{s8} + Σ_{sO2}$"
      ],
      "text/plain": [
       "Eq(Sigma_s_0, Σ_s5 + Σ_s8 + Σ_sO2)"
      ]
     },
     "metadata": {},
     "output_type": "display_data"
    },
    {
     "data": {
      "text/latex": [
       "$\\displaystyle \\Sigma_{s 0} = 0.369$"
      ],
      "text/plain": [
       "Eq(Sigma_s_0, 0.369)"
      ]
     },
     "metadata": {},
     "output_type": "display_data"
    },
    {
     "data": {
      "text/latex": [
       "$\\displaystyle \\Sigma_{a 1} = \\frac{F_{HE} Σ_{aHe} + f_{cmE} Σ_{acm} + f_{moderE} Σ_{aH2O}}{f_{1}}$"
      ],
      "text/plain": [
       "Eq(Sigma_a_1, (F_HE*Σ_aHe + f_cmE*Σ_acm + f_moderE*Σ_aH2O)/f_1)"
      ]
     },
     "metadata": {},
     "output_type": "display_data"
    },
    {
     "data": {
      "text/latex": [
       "$\\displaystyle \\Sigma_{a 1} = 0.0423$"
      ],
      "text/plain": [
       "Eq(Sigma_a_1, 0.0423)"
      ]
     },
     "metadata": {},
     "output_type": "display_data"
    },
    {
     "data": {
      "text/latex": [
       "$\\displaystyle \\Sigma_{s 1} = \\frac{F_{HE} Σ_{sHe} + f_{cmE} Σ_{scm} + f_{moderE} Σ_{sH2O}}{f_{1}}$"
      ],
      "text/plain": [
       "Eq(Sigma_s_1, (F_HE*Σ_sHe + f_cmE*Σ_scm + f_moderE*Σ_sH2O)/f_1)"
      ]
     },
     "metadata": {},
     "output_type": "display_data"
    },
    {
     "data": {
      "text/latex": [
       "$\\displaystyle \\Sigma_{s 1} = 2.9$"
      ],
      "text/plain": [
       "Eq(Sigma_s_1, 2.9)"
      ]
     },
     "metadata": {},
     "output_type": "display_data"
    },
    {
     "data": {
      "text/latex": [
       "$\\displaystyle Σξ_{s 1} = \\frac{F_{HE} Σξ_{sHe} + f_{cmE} Σξ_{scm} + f_{moderE} Σξ_{sH2O}}{f_{1}}$"
      ],
      "text/plain": [
       "Eq(Σξ_s_1, (F_HE*Σξ_sHe + f_cmE*Σξ_scm + f_moderE*Σξ_sH2O)/f_1)"
      ]
     },
     "metadata": {},
     "output_type": "display_data"
    },
    {
     "data": {
      "text/latex": [
       "$\\displaystyle Σξ_{s 1} = 1.08$"
      ],
      "text/plain": [
       "Eq(Σξ_s_1, 1.08)"
      ]
     },
     "metadata": {},
     "output_type": "display_data"
    },
    {
     "data": {
      "text/latex": [
       "$\\displaystyle \\omega_{5} = \\frac{0.666666666666667}{A_{5}}$"
      ],
      "text/plain": [
       "Eq(omega_5, 0.666666666666667/A_5)"
      ]
     },
     "metadata": {},
     "output_type": "display_data"
    },
    {
     "data": {
      "text/latex": [
       "$\\displaystyle \\omega_{5} = 0.00284$"
      ],
      "text/plain": [
       "Eq(omega_5, 0.00284)"
      ]
     },
     "metadata": {},
     "output_type": "display_data"
    },
    {
     "data": {
      "text/latex": [
       "$\\displaystyle \\Sigma_{trs5} = Σ_{s5} \\cdot \\left(1 - \\omega_{5}\\right)$"
      ],
      "text/plain": [
       "Eq(Sigma_trs5, Σ_s5*(1 - omega_5))"
      ]
     },
     "metadata": {},
     "output_type": "display_data"
    },
    {
     "data": {
      "text/latex": [
       "$\\displaystyle \\Sigma_{trs5} = 0.00918$"
      ],
      "text/plain": [
       "Eq(Sigma_trs5, 0.00918)"
      ]
     },
     "metadata": {},
     "output_type": "display_data"
    },
    {
     "data": {
      "text/latex": [
       "$\\displaystyle \\Sigma_{tr5} = \\Sigma_{trs5} + Σ_{a5}$"
      ],
      "text/plain": [
       "Eq(Sigma_tr5, Sigma_trs5 + Σ_a5)"
      ]
     },
     "metadata": {},
     "output_type": "display_data"
    },
    {
     "data": {
      "text/latex": [
       "$\\displaystyle \\Sigma_{tr5} = 0.331$"
      ],
      "text/plain": [
       "Eq(Sigma_tr5, 0.331)"
      ]
     },
     "metadata": {},
     "output_type": "display_data"
    },
    {
     "data": {
      "text/latex": [
       "$\\displaystyle \\omega_{8} = \\frac{0.666666666666667}{A_{8}}$"
      ],
      "text/plain": [
       "Eq(omega_8, 0.666666666666667/A_8)"
      ]
     },
     "metadata": {},
     "output_type": "display_data"
    },
    {
     "data": {
      "text/latex": [
       "$\\displaystyle \\omega_{8} = 0.0028$"
      ],
      "text/plain": [
       "Eq(omega_8, 0.0028)"
      ]
     },
     "metadata": {},
     "output_type": "display_data"
    },
    {
     "data": {
      "text/latex": [
       "$\\displaystyle \\Sigma_{trs8} = Σ_{s8} \\cdot \\left(1 - \\omega_{8}\\right)$"
      ],
      "text/plain": [
       "Eq(Sigma_trs8, Σ_s8*(1 - omega_8))"
      ]
     },
     "metadata": {},
     "output_type": "display_data"
    },
    {
     "data": {
      "text/latex": [
       "$\\displaystyle \\Sigma_{trs8} = 0.192$"
      ],
      "text/plain": [
       "Eq(Sigma_trs8, 0.192)"
      ]
     },
     "metadata": {},
     "output_type": "display_data"
    },
    {
     "data": {
      "text/latex": [
       "$\\displaystyle \\Sigma_{tr8} = \\Sigma_{trs8} + Σ_{a8}$"
      ],
      "text/plain": [
       "Eq(Sigma_tr8, Sigma_trs8 + Σ_a8)"
      ]
     },
     "metadata": {},
     "output_type": "display_data"
    },
    {
     "data": {
      "text/latex": [
       "$\\displaystyle \\Sigma_{tr8} = 0.235$"
      ],
      "text/plain": [
       "Eq(Sigma_tr8, 0.235)"
      ]
     },
     "metadata": {},
     "output_type": "display_data"
    },
    {
     "data": {
      "text/latex": [
       "$\\displaystyle \\omega_{O2} = 0.0208$"
      ],
      "text/plain": [
       "Eq(omega_O2, 0.0208)"
      ]
     },
     "metadata": {},
     "output_type": "display_data"
    },
    {
     "data": {
      "text/latex": [
       "$\\displaystyle \\Sigma_{trsO2} = Σ_{sO2} \\cdot \\left(1 - \\omega_{O2}\\right)$"
      ],
      "text/plain": [
       "Eq(Sigma_trsO2, Σ_sO2*(1 - omega_O2))"
      ]
     },
     "metadata": {},
     "output_type": "display_data"
    },
    {
     "data": {
      "text/latex": [
       "$\\displaystyle \\Sigma_{trsO2} = 0.164$"
      ],
      "text/plain": [
       "Eq(Sigma_trsO2, 0.164)"
      ]
     },
     "metadata": {},
     "output_type": "display_data"
    },
    {
     "data": {
      "text/latex": [
       "$\\displaystyle \\Sigma_{trO2} = \\Sigma_{trsO2} + Σ_{aO2}$"
      ],
      "text/plain": [
       "Eq(Sigma_trO2, Sigma_trsO2 + Σ_aO2)"
      ]
     },
     "metadata": {},
     "output_type": "display_data"
    },
    {
     "data": {
      "text/latex": [
       "$\\displaystyle \\Sigma_{trO2} = 0.164$"
      ],
      "text/plain": [
       "Eq(Sigma_trO2, 0.164)"
      ]
     },
     "metadata": {},
     "output_type": "display_data"
    },
    {
     "data": {
      "text/latex": [
       "$\\displaystyle \\omega_{8} = 0.0106659046841968$"
      ],
      "text/plain": [
       "Eq(omega_8, 0.0106659046841968)"
      ]
     },
     "metadata": {},
     "output_type": "display_data"
    },
    {
     "data": {
      "text/latex": [
       "$\\displaystyle \\omega_{8} = 0.0107$"
      ],
      "text/plain": [
       "Eq(omega_8, 0.0107)"
      ]
     },
     "metadata": {},
     "output_type": "display_data"
    },
    {
     "data": {
      "text/latex": [
       "$\\displaystyle \\Sigma_{trscm} = Σ_{scm} \\left(1 - \\omega_{8}\\right)$"
      ],
      "text/plain": [
       "Eq(Sigma_trscm, Σ_scm*(1 - omega_8))"
      ]
     },
     "metadata": {},
     "output_type": "display_data"
    },
    {
     "data": {
      "text/latex": [
       "$\\displaystyle \\Sigma_{trscm} = 0.835$"
      ],
      "text/plain": [
       "Eq(Sigma_trscm, 0.835)"
      ]
     },
     "metadata": {},
     "output_type": "display_data"
    },
    {
     "data": {
      "text/latex": [
       "$\\displaystyle \\Sigma_{trcm} = \\Sigma_{trscm} + Σ_{acm}$"
      ],
      "text/plain": [
       "Eq(Sigma_trcm, Sigma_trscm + Σ_acm)"
      ]
     },
     "metadata": {},
     "output_type": "display_data"
    },
    {
     "data": {
      "text/latex": [
       "$\\displaystyle \\Sigma_{trcm} = 0.989$"
      ],
      "text/plain": [
       "Eq(Sigma_trcm, 0.989)"
      ]
     },
     "metadata": {},
     "output_type": "display_data"
    },
    {
     "data": {
      "text/latex": [
       "$\\displaystyle \\omega_{He} = \\frac{0.666666666666667}{A_{He}}$"
      ],
      "text/plain": [
       "Eq(omega_He, 0.666666666666667/A_He)"
      ]
     },
     "metadata": {},
     "output_type": "display_data"
    },
    {
     "data": {
      "text/latex": [
       "$\\displaystyle \\omega_{He} = 0.167$"
      ],
      "text/plain": [
       "Eq(omega_He, 0.167)"
      ]
     },
     "metadata": {},
     "output_type": "display_data"
    },
    {
     "data": {
      "text/latex": [
       "$\\displaystyle \\Sigma_{trsHe} = Σ_{sHe} \\left(1 - \\omega_{He}\\right)$"
      ],
      "text/plain": [
       "Eq(Sigma_trsHe, Σ_sHe*(1 - omega_He))"
      ]
     },
     "metadata": {},
     "output_type": "display_data"
    },
    {
     "data": {
      "text/latex": [
       "$\\displaystyle \\Sigma_{trsHe} = 1.79 \\cdot 10^{-5}$"
      ],
      "text/plain": [
       "Eq(Sigma_trsHe, 1.79e-5)"
      ]
     },
     "metadata": {},
     "output_type": "display_data"
    },
    {
     "data": {
      "text/latex": [
       "$\\displaystyle \\Sigma_{trHe} = \\Sigma_{trsHe} + Σ_{aHe}$"
      ],
      "text/plain": [
       "Eq(Sigma_trHe, Sigma_trsHe + Σ_aHe)"
      ]
     },
     "metadata": {},
     "output_type": "display_data"
    },
    {
     "data": {
      "text/latex": [
       "$\\displaystyle \\Sigma_{trHe} = 1.8 \\cdot 10^{-5}$"
      ],
      "text/plain": [
       "Eq(Sigma_trHe, 1.8e-5)"
      ]
     },
     "metadata": {},
     "output_type": "display_data"
    },
    {
     "data": {
      "text/latex": [
       "$\\displaystyle \\Sigma_{trH2O} = \\frac{12.4373963442769 ρ_{H2O}^{2} \\sqrt{0.000209556313993174 T + 1}}{T Σ_{aH2O}}$"
      ],
      "text/plain": [
       "Eq(Sigma_trH2O, 12.4373963442769*ρ_H2O**2*sqrt(0.000209556313993174*T + 1)/(T*Σ_aH2O))"
      ]
     },
     "metadata": {},
     "output_type": "display_data"
    },
    {
     "data": {
      "text/latex": [
       "$\\displaystyle \\Sigma_{trH2O} = 1.89$"
      ],
      "text/plain": [
       "Eq(Sigma_trH2O, 1.89)"
      ]
     },
     "metadata": {},
     "output_type": "display_data"
    },
    {
     "data": {
      "text/latex": [
       "$\\displaystyle \\Sigma_{tr0} = \\Sigma_{tr5} + \\Sigma_{tr8} + \\Sigma_{trO2}$"
      ],
      "text/plain": [
       "Eq(Sigma_tr0, Sigma_tr5 + Sigma_tr8 + Sigma_trO2)"
      ]
     },
     "metadata": {},
     "output_type": "display_data"
    },
    {
     "data": {
      "text/latex": [
       "$\\displaystyle \\Sigma_{tr0} = 0.729$"
      ],
      "text/plain": [
       "Eq(Sigma_tr0, 0.729)"
      ]
     },
     "metadata": {},
     "output_type": "display_data"
    },
    {
     "data": {
      "text/latex": [
       "$\\displaystyle \\Sigma_{tr1} = \\frac{F_{HE} \\Sigma_{trHe} + \\Sigma_{trH2O} f_{moderE} + \\Sigma_{trcm} f_{cmE}}{F_{HE} + f_{cmE} + f_{moderE}}$"
      ],
      "text/plain": [
       "Eq(Sigma_tr1, (F_HE*Sigma_trHe + Sigma_trH2O*f_moderE + Sigma_trcm*f_cmE)/(F_HE + f_cmE + f_moderE))"
      ]
     },
     "metadata": {},
     "output_type": "display_data"
    },
    {
     "data": {
      "text/latex": [
       "$\\displaystyle \\Sigma_{tr1} = 1.69$"
      ],
      "text/plain": [
       "Eq(Sigma_tr1, 1.69)"
      ]
     },
     "metadata": {},
     "output_type": "display_data"
    },
    {
     "data": {
      "text/latex": [
       "$\\displaystyle \\nu_{f5} = 2.416$"
      ],
      "text/plain": [
       "Eq(nu_f5, 2.416)"
      ]
     },
     "metadata": {},
     "output_type": "display_data"
    },
    {
     "data": {
      "text/latex": [
       "$\\displaystyle \\eta = \\frac{\\nu_{f5} Σ_{f5}}{\\Sigma_{a 0}}$"
      ],
      "text/plain": [
       "Eq(eta, nu_f5*Σ_f5/Sigma_a_0)"
      ]
     },
     "metadata": {},
     "output_type": "display_data"
    },
    {
     "data": {
      "text/latex": [
       "$\\displaystyle \\eta = 1.82$"
      ],
      "text/plain": [
       "Eq(eta, 1.82)"
      ]
     },
     "metadata": {},
     "output_type": "display_data"
    },
    {
     "data": {
      "text/latex": [
       "$\\displaystyle \\mu_{0} = 2.7 \\cdot 10^{-23} d_{f} \\left(N_{5} + N_{8}\\right) + 1$"
      ],
      "text/plain": [
       "Eq(mu_0, 2.7e-23*d_f*(N_5 + N_8) + 1)"
      ]
     },
     "metadata": {},
     "output_type": "display_data"
    },
    {
     "data": {
      "text/latex": [
       "$\\displaystyle \\mu_{0} = 1.00457$"
      ],
      "text/plain": [
       "Eq(mu_0, 1.00457)"
      ]
     },
     "metadata": {},
     "output_type": "display_data"
    },
    {
     "data": {
      "text/latex": [
       "$\\displaystyle P = \\frac{1.54 \\cdot 10^{23} f_{moderE} ρ_{H2O}}{F_{fuel} \\left(N_{5} + N_{8}\\right)}$"
      ],
      "text/plain": [
       "Eq(P, 1.54e+23*f_moderE*ρ_H2O/(F_fuel*(N_5 + N_8)))"
      ]
     },
     "metadata": {},
     "output_type": "display_data"
    },
    {
     "data": {
      "text/latex": [
       "$\\displaystyle P = 12.9$"
      ],
      "text/plain": [
       "Eq(P, 12.9)"
      ]
     },
     "metadata": {},
     "output_type": "display_data"
    },
    {
     "data": {
      "text/latex": [
       "$\\displaystyle \\epsilon = \\frac{P \\mu_{0} + 1.34}{P + 1}$"
      ],
      "text/plain": [
       "Eq(epsilon, (P*mu_0 + 1.34)/(P + 1))"
      ]
     },
     "metadata": {},
     "output_type": "display_data"
    },
    {
     "data": {
      "text/latex": [
       "$\\displaystyle \\epsilon = 1.03$"
      ],
      "text/plain": [
       "Eq(epsilon, 1.03)"
      ]
     },
     "metadata": {},
     "output_type": "display_data"
    },
    {
     "data": {
      "text/latex": [
       "$\\displaystyle S_{s} = 10000.0 \\pi H d_{f}$"
      ],
      "text/plain": [
       "Eq(S_s, 10000.0*pi*H*d_f)"
      ]
     },
     "metadata": {},
     "output_type": "display_data"
    },
    {
     "data": {
      "text/latex": [
       "$\\displaystyle S_{s} = 664.0$"
      ],
      "text/plain": [
       "Eq(S_s, 664.0)"
      ]
     },
     "metadata": {},
     "output_type": "display_data"
    },
    {
     "data": {
      "text/latex": [
       "$\\displaystyle M_{8} = \\frac{250000.0 \\pi A_{8} H N_{8} d_{f}^{2}}{N_{a}}$"
      ],
      "text/plain": [
       "Eq(M_8, 250000.0*pi*A_8*H*N_8*d_f**2/N_a)"
      ]
     },
     "metadata": {},
     "output_type": "display_data"
    },
    {
     "data": {
      "text/latex": [
       "$\\displaystyle M_{8} = 1.08 \\cdot 10^{3}$"
      ],
      "text/plain": [
       "Eq(M_8, 1.08e+3)"
      ]
     },
     "metadata": {},
     "output_type": "display_data"
    },
    {
     "data": {
      "text/latex": [
       "$\\displaystyle П_{т} = 0.0135 \\sqrt{t_{U}} + 0.77$"
      ],
      "text/plain": [
       "Eq(П_т, 0.0135*sqrt(t_U) + 0.77)"
      ]
     },
     "metadata": {},
     "output_type": "display_data"
    },
    {
     "data": {
      "text/latex": [
       "$\\displaystyle П_{т} = 1.23$"
      ],
      "text/plain": [
       "Eq(П_т, 1.23)"
      ]
     },
     "metadata": {},
     "output_type": "display_data"
    },
    {
     "data": {
      "text/latex": [
       "$\\displaystyle I_{ef} = 4.9 + \\frac{20.7 \\sqrt{S_{s}} П_{т}}{\\sqrt{M_{8}}}$"
      ],
      "text/plain": [
       "Eq(I_ef, 4.9 + 20.7*sqrt(S_s)*П_т/sqrt(M_8))"
      ]
     },
     "metadata": {},
     "output_type": "display_data"
    },
    {
     "data": {
      "text/latex": [
       "$\\displaystyle I_{ef} = 24.9$"
      ],
      "text/plain": [
       "Eq(I_ef, 24.9)"
      ]
     },
     "metadata": {},
     "output_type": "display_data"
    },
    {
     "data": {
      "text/latex": [
       "$\\displaystyle \\varphi = e^{- \\frac{1.0 \\cdot 10^{-24} F_{fuel} I_{ef} N_{8}}{f_{1} Σξ_{s 1}}}$"
      ],
      "text/plain": [
       "Eq(varphi, exp(-1.0e-24*F_fuel*I_ef*N_8/(f_1*Σξ_s_1)))"
      ]
     },
     "metadata": {},
     "output_type": "display_data"
    },
    {
     "data": {
      "text/latex": [
       "$\\displaystyle \\varphi = 0.809$"
      ],
      "text/plain": [
       "Eq(varphi, 0.809)"
      ]
     },
     "metadata": {},
     "output_type": "display_data"
    },
    {
     "data": {
      "text/latex": [
       "$\\displaystyle A = 449.0 \\Sigma_{tr0}^{2} d_{f}^{2} + 13.535 \\Sigma_{tr0} d_{f}$"
      ],
      "text/plain": [
       "Eq(A, 449.0*Sigma_tr0**2*d_f**2 + 13.535*Sigma_tr0*d_f)"
      ]
     },
     "metadata": {},
     "output_type": "display_data"
    },
    {
     "data": {
      "text/latex": [
       "$\\displaystyle A = 0.0888$"
      ],
      "text/plain": [
       "Eq(A, 0.0888)"
      ]
     },
     "metadata": {},
     "output_type": "display_data"
    },
    {
     "data": {
      "text/latex": [
       "$\\displaystyle a_{forQ} = - 9.25 \\Sigma_{tr0}^{2} d_{f}^{2} + 3.35 \\Sigma_{tr0} d_{f}$"
      ],
      "text/plain": [
       "Eq(a_forQ, -9.25*Sigma_tr0**2*d_f**2 + 3.35*Sigma_tr0*d_f)"
      ]
     },
     "metadata": {},
     "output_type": "display_data"
    },
    {
     "data": {
      "text/latex": [
       "$\\displaystyle a_{forQ} = 0.0183$"
      ],
      "text/plain": [
       "Eq(a_forQ, 0.0183)"
      ]
     },
     "metadata": {},
     "output_type": "display_data"
    },
    {
     "data": {
      "text/latex": [
       "$\\displaystyle b = 0.027$"
      ],
      "text/plain": [
       "Eq(b, 0.027)"
      ]
     },
     "metadata": {},
     "output_type": "display_data"
    },
    {
     "data": {
      "text/latex": [
       "$\\displaystyle b = 0.027$"
      ],
      "text/plain": [
       "Eq(b, 0.027)"
      ]
     },
     "metadata": {},
     "output_type": "display_data"
    },
    {
     "data": {
      "text/latex": [
       "$\\displaystyle Q_{0} = \\frac{A \\Sigma_{a 0} \\left(\\frac{\\Sigma_{s 0}^{2} b}{\\Sigma_{tr0}^{2}} + \\frac{\\Sigma_{s 0} a_{forQ}}{\\Sigma_{tr0}} + 1\\right)}{\\Sigma_{tr0}} + 1$"
      ],
      "text/plain": [
       "Eq(Q_0, A*Sigma_a_0*(Sigma_s_0**2*b/Sigma_tr0**2 + Sigma_s_0*a_forQ/Sigma_tr0 + 1)/Sigma_tr0 + 1)"
      ]
     },
     "metadata": {},
     "output_type": "display_data"
    },
    {
     "data": {
      "text/latex": [
       "$\\displaystyle Q_{0} = 1.05$"
      ],
      "text/plain": [
       "Eq(Q_0, 1.05)"
      ]
     },
     "metadata": {},
     "output_type": "display_data"
    },
    {
     "data": {
      "text/latex": [
       "$\\displaystyle q_{0} = \\frac{Q_{0} \\Sigma_{a 1} f_{1}}{F_{fuel} \\Sigma_{a 0}}$"
      ],
      "text/plain": [
       "Eq(q_0, Q_0*Sigma_a_1*f_1/(F_fuel*Sigma_a_0))"
      ]
     },
     "metadata": {},
     "output_type": "display_data"
    },
    {
     "data": {
      "text/latex": [
       "$\\displaystyle q_{0} = 0.285$"
      ],
      "text/plain": [
       "Eq(q_0, 0.285)"
      ]
     },
     "metadata": {},
     "output_type": "display_data"
    },
    {
     "data": {
      "text/latex": [
       "$\\displaystyle L_{1} = \\frac{0.577350269189626}{\\sqrt{\\Sigma_{a 1}} \\sqrt{\\Sigma_{tr1}}}$"
      ],
      "text/plain": [
       "Eq(L_1, 0.577350269189626/(sqrt(Sigma_a_1)*sqrt(Sigma_tr1)))"
      ]
     },
     "metadata": {},
     "output_type": "display_data"
    },
    {
     "data": {
      "text/latex": [
       "$\\displaystyle L_{1} = 2.16$"
      ],
      "text/plain": [
       "Eq(L_1, 2.16)"
      ]
     },
     "metadata": {},
     "output_type": "display_data"
    },
    {
     "data": {
      "text/latex": [
       "$\\displaystyle \\psi = \\frac{2 R_{E}}{d_{f}}$"
      ],
      "text/plain": [
       "Eq(psi, 2*R_E/d_f)"
      ]
     },
     "metadata": {},
     "output_type": "display_data"
    },
    {
     "data": {
      "text/latex": [
       "$\\displaystyle \\psi = 1.83$"
      ],
      "text/plain": [
       "Eq(psi, 1.83)"
      ]
     },
     "metadata": {},
     "output_type": "display_data"
    },
    {
     "data": {
      "text/latex": [
       "$\\displaystyle q_{1} = \\frac{5000.0 R_{E}^{2} \\left(\\frac{\\psi^{2} \\log{\\left(\\psi \\right)}}{\\psi^{2} - 1} - 0.75 + \\frac{0.25}{\\psi}\\right)}{L_{1}^{2}}$"
      ],
      "text/plain": [
       "Eq(q_1, 5000.0*R_E**2*(psi**2*log(psi)/(psi**2 - 1) - 0.75 + 0.25/psi)/L_1**2)"
      ]
     },
     "metadata": {},
     "output_type": "display_data"
    },
    {
     "data": {
      "text/latex": [
       "$\\displaystyle q_{1} = 0.0129$"
      ],
      "text/plain": [
       "Eq(q_1, 0.0129)"
      ]
     },
     "metadata": {},
     "output_type": "display_data"
    },
    {
     "data": {
      "text/latex": [
       "$\\displaystyle q = q_{0} + q_{1}$"
      ],
      "text/plain": [
       "Eq(q, q_0 + q_1)"
      ]
     },
     "metadata": {},
     "output_type": "display_data"
    },
    {
     "data": {
      "text/latex": [
       "$\\displaystyle q = 0.298$"
      ],
      "text/plain": [
       "Eq(q, 0.298)"
      ]
     },
     "metadata": {},
     "output_type": "display_data"
    },
    {
     "data": {
      "text/latex": [
       "$\\displaystyle \\theta = \\frac{1}{q + 1}$"
      ],
      "text/plain": [
       "Eq(theta, 1/(q + 1))"
      ]
     },
     "metadata": {},
     "output_type": "display_data"
    },
    {
     "data": {
      "text/latex": [
       "$\\displaystyle \\theta = 0.771$"
      ],
      "text/plain": [
       "Eq(theta, 0.771)"
      ]
     },
     "metadata": {},
     "output_type": "display_data"
    },
    {
     "data": {
      "text/latex": [
       "$\\displaystyle K_{inf} = \\epsilon \\eta \\theta \\varphi$"
      ],
      "text/plain": [
       "Eq(K_inf, epsilon*eta*theta*varphi)"
      ]
     },
     "metadata": {},
     "output_type": "display_data"
    },
    {
     "data": {
      "text/latex": [
       "$\\displaystyle K_{inf} = 1.17$"
      ],
      "text/plain": [
       "Eq(K_inf, 1.17)"
      ]
     },
     "metadata": {},
     "output_type": "display_data"
    },
    {
     "data": {
      "text/latex": [
       "$\\displaystyle \\tau_{H2O} = 31.4$"
      ],
      "text/plain": [
       "Eq(tau_H2O, 31.4)"
      ]
     },
     "metadata": {},
     "output_type": "display_data"
    },
    {
     "data": {
      "text/latex": [
       "$\\displaystyle \\tau_{H2O} = 31.4$"
      ],
      "text/plain": [
       "Eq(tau_H2O, 31.4)"
      ]
     },
     "metadata": {},
     "output_type": "display_data"
    },
    {
     "data": {
      "text/latex": [
       "$\\displaystyle \\tau_{t} = \\frac{\\tau_{H2O} \\left(\\frac{f_{cmE}}{f_{moderE}} + 1 + \\frac{1}{W}\\right)^{2}}{\\left(\\frac{0.4 f_{cmE}}{f_{moderE}} + ρ_{H2O} + \\frac{0.82}{W}\\right)^{2}}$"
      ],
      "text/plain": [
       "Eq(tau_t, tau_H2O*(f_cmE/f_moderE + 1 + 1/W)**2/(0.4*f_cmE/f_moderE + ρ_H2O + 0.82/W)**2)"
      ]
     },
     "metadata": {},
     "output_type": "display_data"
    },
    {
     "data": {
      "text/latex": [
       "$\\displaystyle \\tau_{t} = 42.2$"
      ],
      "text/plain": [
       "Eq(tau_t, 42.2)"
      ]
     },
     "metadata": {},
     "output_type": "display_data"
    },
    {
     "data": {
      "text/latex": [
       "$\\displaystyle L_{0} = \\frac{0.577350269189626}{\\sqrt{\\Sigma_{a 0}} \\sqrt{\\Sigma_{tr0}}}$"
      ],
      "text/plain": [
       "Eq(L_0, 0.577350269189626/(sqrt(Sigma_a_0)*sqrt(Sigma_tr0)))"
      ]
     },
     "metadata": {},
     "output_type": "display_data"
    },
    {
     "data": {
      "text/latex": [
       "$\\displaystyle L_{0} = 1.12$"
      ],
      "text/plain": [
       "Eq(L_0, 1.12)"
      ]
     },
     "metadata": {},
     "output_type": "display_data"
    },
    {
     "data": {
      "text/latex": [
       "$\\displaystyle L^{2} = L_{0}^{2} \\theta + L_{1}^{2} \\cdot \\left(1 - \\theta\\right)$"
      ],
      "text/plain": [
       "Eq(L^2, L_0**2*theta + L_1**2*(1 - theta))"
      ]
     },
     "metadata": {},
     "output_type": "display_data"
    },
    {
     "data": {
      "text/latex": [
       "$\\displaystyle L^{2} = 2.04$"
      ],
      "text/plain": [
       "Eq(L^2, 2.04)"
      ]
     },
     "metadata": {},
     "output_type": "display_data"
    },
    {
     "data": {
      "text/latex": [
       "$\\displaystyle M^{2} = L^{2} + \\tau_{t}$"
      ],
      "text/plain": [
       "Eq(M^2, L^2 + tau_t)"
      ]
     },
     "metadata": {},
     "output_type": "display_data"
    },
    {
     "data": {
      "text/latex": [
       "$\\displaystyle M^{2} = 44.2$"
      ],
      "text/plain": [
       "Eq(M^2, 44.2)"
      ]
     },
     "metadata": {},
     "output_type": "display_data"
    },
    {
     "data": {
      "text/latex": [
       "$\\displaystyle \\delta_{eff} = 0.1 M^{2} + 3.2$"
      ],
      "text/plain": [
       "Eq(delta_eff, 0.1*M^2 + 3.2)"
      ]
     },
     "metadata": {},
     "output_type": "display_data"
    },
    {
     "data": {
      "text/latex": [
       "$\\displaystyle \\delta_{eff} = 7.62$"
      ],
      "text/plain": [
       "Eq(delta_eff, 7.62)"
      ]
     },
     "metadata": {},
     "output_type": "display_data"
    },
    {
     "data": {
      "text/latex": [
       "$\\displaystyle H_{eff} = 100 H + 2 \\delta_{eff}$"
      ],
      "text/plain": [
       "Eq(H_eff, 100*H + 2*delta_eff)"
      ]
     },
     "metadata": {},
     "output_type": "display_data"
    },
    {
     "data": {
      "text/latex": [
       "$\\displaystyle H_{eff} = 293.0$"
      ],
      "text/plain": [
       "Eq(H_eff, 293.0)"
      ]
     },
     "metadata": {},
     "output_type": "display_data"
    },
    {
     "data": {
      "text/latex": [
       "$\\displaystyle R_{eff} = 50 D + \\delta_{eff}$"
      ],
      "text/plain": [
       "Eq(R_eff, 50*D + delta_eff)"
      ]
     },
     "metadata": {},
     "output_type": "display_data"
    },
    {
     "data": {
      "text/latex": [
       "$\\displaystyle R_{eff} = 147.0$"
      ],
      "text/plain": [
       "Eq(R_eff, 147.0)"
      ]
     },
     "metadata": {},
     "output_type": "display_data"
    },
    {
     "data": {
      "text/latex": [
       "$\\displaystyle B^{2} = \\frac{5.784025}{R_{eff}^{2}} + \\frac{\\pi^{2}}{H_{eff}^{2}}$"
      ],
      "text/plain": [
       "Eq(B^2, 5.784025/R_eff**2 + pi**2/H_eff**2)"
      ]
     },
     "metadata": {},
     "output_type": "display_data"
    },
    {
     "data": {
      "text/latex": [
       "$\\displaystyle B^{2} = 0.000384$"
      ],
      "text/plain": [
       "Eq(B^2, 0.000384)"
      ]
     },
     "metadata": {},
     "output_type": "display_data"
    },
    {
     "data": {
      "text/latex": [
       "$\\displaystyle P_{mod} = e^{- B^{2} \\tau_{t}}$"
      ],
      "text/plain": [
       "Eq(P_mod, exp(-B^2*tau_t))"
      ]
     },
     "metadata": {},
     "output_type": "display_data"
    },
    {
     "data": {
      "text/latex": [
       "$\\displaystyle P_{mod} = 0.984$"
      ],
      "text/plain": [
       "Eq(P_mod, 0.984)"
      ]
     },
     "metadata": {},
     "output_type": "display_data"
    },
    {
     "data": {
      "text/latex": [
       "$\\displaystyle P_{dif} = \\frac{1}{B^{2} L^{2} + 1}$"
      ],
      "text/plain": [
       "Eq(P_dif, 1/(B^2*L^2 + 1))"
      ]
     },
     "metadata": {},
     "output_type": "display_data"
    },
    {
     "data": {
      "text/latex": [
       "$\\displaystyle P_{dif} = 0.999$"
      ],
      "text/plain": [
       "Eq(P_dif, 0.999)"
      ]
     },
     "metadata": {},
     "output_type": "display_data"
    },
    {
     "data": {
      "text/latex": [
       "$\\displaystyle K_{eff} = K_{inf} P_{dif} P_{mod}$"
      ],
      "text/plain": [
       "Eq(K_eff, K_inf*P_dif*P_mod)"
      ]
     },
     "metadata": {},
     "output_type": "display_data"
    },
    {
     "data": {
      "text/latex": [
       "$\\displaystyle K_{eff} = 1.14612$"
      ],
      "text/plain": [
       "Eq(K_eff, 1.14612)"
      ]
     },
     "metadata": {},
     "output_type": "display_data"
    },
    {
     "data": {
      "text/latex": [
       "$\\displaystyle X = 0.03$"
      ],
      "text/plain": [
       "Eq(X, 0.03)"
      ]
     },
     "metadata": {},
     "output_type": "display_data"
    },
    {
     "data": {
      "text/latex": [
       "$\\displaystyle σ_{s5} = 1.38 \\cdot 10^{-23}$"
      ],
      "text/plain": [
       "Eq(σ_s5, 1.38e-23)"
      ]
     },
     "metadata": {},
     "output_type": "display_data"
    },
    {
     "data": {
      "text/latex": [
       "$\\displaystyle σ_{s8} = 8.9 \\cdot 10^{-24}$"
      ],
      "text/plain": [
       "Eq(σ_s8, 8.9e-24)"
      ]
     },
     "metadata": {},
     "output_type": "display_data"
    },
    {
     "data": {
      "text/latex": [
       "$\\displaystyle σ_{sZr} = 6.4 \\cdot 10^{-24}$"
      ],
      "text/plain": [
       "Eq(σ_sZr, 6.4e-24)"
      ]
     },
     "metadata": {},
     "output_type": "display_data"
    },
    {
     "data": {
      "text/latex": [
       "$\\displaystyle σ_{sO2} = 3.76 \\cdot 10^{-24}$"
      ],
      "text/plain": [
       "Eq(σ_sO2, 3.76e-24)"
      ]
     },
     "metadata": {},
     "output_type": "display_data"
    },
    {
     "data": {
      "text/latex": [
       "$\\displaystyle σ_{sss} = 1.1 \\cdot 10^{-23}$"
      ],
      "text/plain": [
       "Eq(σ_sss, 1.1e-23)"
      ]
     },
     "metadata": {},
     "output_type": "display_data"
    },
    {
     "data": {
      "text/latex": [
       "$\\displaystyle σ_{sHe} = 8.0 \\cdot 10^{-25}$"
      ],
      "text/plain": [
       "Eq(σ_sHe, 8.0e-25)"
      ]
     },
     "metadata": {},
     "output_type": "display_data"
    },
    {
     "data": {
      "text/latex": [
       "$\\displaystyle σ_{sH2O} = 1.03 \\cdot 10^{-22}$"
      ],
      "text/plain": [
       "Eq(σ_sH2O, 1.03e-22)"
      ]
     },
     "metadata": {},
     "output_type": "display_data"
    },
    {
     "data": {
      "text/latex": [
       "$\\displaystyle T = 760.726293809075$"
      ],
      "text/plain": [
       "Eq(T, 760.726293809075)"
      ]
     },
     "metadata": {},
     "output_type": "display_data"
    },
    {
     "data": {
      "text/latex": [
       "$\\displaystyle ρ_{H2O} = 0.7129422625882127$"
      ],
      "text/plain": [
       "Eq(ρ_H2O, 0.7129422625882127)"
      ]
     },
     "metadata": {},
     "output_type": "display_data"
    },
    {
     "data": {
      "text/latex": [
       "$\\displaystyle g_{a 5} = 0.926$"
      ],
      "text/plain": [
       "Eq(g_a_5, 0.926)"
      ]
     },
     "metadata": {},
     "output_type": "display_data"
    },
    {
     "data": {
      "text/latex": [
       "$\\displaystyle g_{f 5} = 0.916$"
      ],
      "text/plain": [
       "Eq(g_f_5, 0.916)"
      ]
     },
     "metadata": {},
     "output_type": "display_data"
    },
    {
     "data": {
      "text/latex": [
       "$\\displaystyle σ_{a5} = \\frac{\\sqrt{\\pi} \\sqrt{T_{0}} g_{a 5} σ_{a5 0}}{2 \\sqrt{T}}$"
      ],
      "text/plain": [
       "Eq(σ_a5, sqrt(pi)*sqrt(T_0)*g_a_5*σ_a5_0/(2*sqrt(T)))"
      ]
     },
     "metadata": {},
     "output_type": "display_data"
    },
    {
     "data": {
      "text/latex": [
       "$\\displaystyle σ_{a5} = 3.47 \\cdot 10^{-22}$"
      ],
      "text/plain": [
       "Eq(σ_a5, 3.47e-22)"
      ]
     },
     "metadata": {},
     "output_type": "display_data"
    },
    {
     "data": {
      "text/latex": [
       "$\\displaystyle σ_{a8} = \\frac{\\sqrt{\\pi} \\sqrt{T_{0}} σ_{a8 0}}{2 \\sqrt{T}}$"
      ],
      "text/plain": [
       "Eq(σ_a8, sqrt(pi)*sqrt(T_0)*σ_a8_0/(2*sqrt(T)))"
      ]
     },
     "metadata": {},
     "output_type": "display_data"
    },
    {
     "data": {
      "text/latex": [
       "$\\displaystyle σ_{a8} = 1.49 \\cdot 10^{-24}$"
      ],
      "text/plain": [
       "Eq(σ_a8, 1.49e-24)"
      ]
     },
     "metadata": {},
     "output_type": "display_data"
    },
    {
     "data": {
      "text/latex": [
       "$\\displaystyle σ_{aZr} = \\frac{\\sqrt{\\pi} \\sqrt{T_{0}} σ_{aZr 0}}{2 \\sqrt{T}}$"
      ],
      "text/plain": [
       "Eq(σ_aZr, sqrt(pi)*sqrt(T_0)*σ_aZr_0/(2*sqrt(T)))"
      ]
     },
     "metadata": {},
     "output_type": "display_data"
    },
    {
     "data": {
      "text/latex": [
       "$\\displaystyle σ_{aZr} = 1.02 \\cdot 10^{-25}$"
      ],
      "text/plain": [
       "Eq(σ_aZr, 1.02e-25)"
      ]
     },
     "metadata": {},
     "output_type": "display_data"
    },
    {
     "data": {
      "text/latex": [
       "$\\displaystyle σ_{aO2} = \\frac{\\sqrt{\\pi} \\sqrt{T_{0}} σ_{aO2 0}}{2 \\sqrt{T}}$"
      ],
      "text/plain": [
       "Eq(σ_aO2, sqrt(pi)*sqrt(T_0)*σ_aO2_0/(2*sqrt(T)))"
      ]
     },
     "metadata": {},
     "output_type": "display_data"
    },
    {
     "data": {
      "text/latex": [
       "$\\displaystyle σ_{aO2} = 1.49 \\cdot 10^{-28}$"
      ],
      "text/plain": [
       "Eq(σ_aO2, 1.49e-28)"
      ]
     },
     "metadata": {},
     "output_type": "display_data"
    },
    {
     "data": {
      "text/latex": [
       "$\\displaystyle σ_{aHe} = \\frac{\\sqrt{\\pi} \\sqrt{T_{0}} σ_{aHe 0}}{2 \\sqrt{T}}$"
      ],
      "text/plain": [
       "Eq(σ_aHe, sqrt(pi)*sqrt(T_0)*σ_aHe_0/(2*sqrt(T)))"
      ]
     },
     "metadata": {},
     "output_type": "display_data"
    },
    {
     "data": {
      "text/latex": [
       "$\\displaystyle σ_{aHe} = 3.85 \\cdot 10^{-27}$"
      ],
      "text/plain": [
       "Eq(σ_aHe, 3.85e-27)"
      ]
     },
     "metadata": {},
     "output_type": "display_data"
    },
    {
     "data": {
      "text/latex": [
       "$\\displaystyle σ_{aH2O} = \\frac{\\sqrt{\\pi} \\sqrt{T_{0}} σ_{aH2O 0}}{2 \\sqrt{T}}$"
      ],
      "text/plain": [
       "Eq(σ_aH2O, sqrt(pi)*sqrt(T_0)*σ_aH2O_0/(2*sqrt(T)))"
      ]
     },
     "metadata": {},
     "output_type": "display_data"
    },
    {
     "data": {
      "text/latex": [
       "$\\displaystyle σ_{aH2O} = 3.63 \\cdot 10^{-25}$"
      ],
      "text/plain": [
       "Eq(σ_aH2O, 3.63e-25)"
      ]
     },
     "metadata": {},
     "output_type": "display_data"
    },
    {
     "data": {
      "text/latex": [
       "$\\displaystyle σ_{f5} = \\frac{\\sqrt{\\pi} \\sqrt{T_{0}} g_{f 5} σ_{f5 0}}{2 \\sqrt{T}}$"
      ],
      "text/plain": [
       "Eq(σ_f5, sqrt(pi)*sqrt(T_0)*g_f_5*σ_f5_0/(2*sqrt(T)))"
      ]
     },
     "metadata": {},
     "output_type": "display_data"
    },
    {
     "data": {
      "text/latex": [
       "$\\displaystyle σ_{f5} = 2.94 \\cdot 10^{-22}$"
      ],
      "text/plain": [
       "Eq(σ_f5, 2.94e-22)"
      ]
     },
     "metadata": {},
     "output_type": "display_data"
    },
    {
     "data": {
      "text/latex": [
       "$\\displaystyle σ_{ass} = \\frac{\\sqrt{\\pi} \\sqrt{T_{0}} σ_{ass 0}}{2 \\sqrt{T}}$"
      ],
      "text/plain": [
       "Eq(σ_ass, sqrt(pi)*sqrt(T_0)*σ_ass_0/(2*sqrt(T)))"
      ]
     },
     "metadata": {},
     "output_type": "display_data"
    },
    {
     "data": {
      "text/latex": [
       "$\\displaystyle σ_{ass} = 1.58 \\cdot 10^{-24}$"
      ],
      "text/plain": [
       "Eq(σ_ass, 1.58e-24)"
      ]
     },
     "metadata": {},
     "output_type": "display_data"
    },
    {
     "data": {
      "text/latex": [
       "$\\displaystyle Σξ_{sH2O} = 0.963$"
      ],
      "text/plain": [
       "Eq(Σξ_sH2O, 0.963)"
      ]
     },
     "metadata": {},
     "output_type": "display_data"
    },
    {
     "data": {
      "text/latex": [
       "$\\displaystyle Σξ_{sHe} = 9.11 \\cdot 10^{-6}$"
      ],
      "text/plain": [
       "Eq(Σξ_sHe, 9.11e-6)"
      ]
     },
     "metadata": {},
     "output_type": "display_data"
    },
    {
     "data": {
      "text/latex": [
       "$\\displaystyle Σξ_{scm} = 0.0283$"
      ],
      "text/plain": [
       "Eq(Σξ_scm, 0.0283)"
      ]
     },
     "metadata": {},
     "output_type": "display_data"
    },
    {
     "data": {
      "text/latex": [
       "$\\displaystyle A_{H2O} = 18$"
      ],
      "text/plain": [
       "Eq(A_H2O, 18)"
      ]
     },
     "metadata": {},
     "output_type": "display_data"
    },
    {
     "data": {
      "text/latex": [
       "$\\displaystyle N_{H2O} = \\frac{N_{a} ρ_{H2O}}{A_{H2O}}$"
      ],
      "text/plain": [
       "Eq(N_H2O, N_a*ρ_H2O/A_H2O)"
      ]
     },
     "metadata": {},
     "output_type": "display_data"
    },
    {
     "data": {
      "text/latex": [
       "$\\displaystyle N_{H2O} = 2.39 \\cdot 10^{22}$"
      ],
      "text/plain": [
       "Eq(N_H2O, 2.39e+22)"
      ]
     },
     "metadata": {},
     "output_type": "display_data"
    },
    {
     "data": {
      "text/latex": [
       "$\\displaystyle ρ_{UO2} = 10$"
      ],
      "text/plain": [
       "Eq(ρ_UO2, 10)"
      ]
     },
     "metadata": {},
     "output_type": "display_data"
    },
    {
     "data": {
      "text/latex": [
       "$\\displaystyle A_{UO2} = 270.7$"
      ],
      "text/plain": [
       "Eq(A_UO2, 270.7)"
      ]
     },
     "metadata": {},
     "output_type": "display_data"
    },
    {
     "data": {
      "text/latex": [
       "$\\displaystyle N_{UO2} = \\frac{N_{a} ρ_{UO2}}{A_{UO2}}$"
      ],
      "text/plain": [
       "Eq(N_UO2, N_a*ρ_UO2/A_UO2)"
      ]
     },
     "metadata": {},
     "output_type": "display_data"
    },
    {
     "data": {
      "text/latex": [
       "$\\displaystyle N_{UO2} = 2.22 \\cdot 10^{22}$"
      ],
      "text/plain": [
       "Eq(N_UO2, 2.22e+22)"
      ]
     },
     "metadata": {},
     "output_type": "display_data"
    },
    {
     "data": {
      "text/latex": [
       "$\\displaystyle N_{U} = N_{UO2}$"
      ],
      "text/plain": [
       "Eq(N_U, N_UO2)"
      ]
     },
     "metadata": {},
     "output_type": "display_data"
    },
    {
     "data": {
      "text/latex": [
       "$\\displaystyle N_{U} = 2.22 \\cdot 10^{22}$"
      ],
      "text/plain": [
       "Eq(N_U, 2.22e+22)"
      ]
     },
     "metadata": {},
     "output_type": "display_data"
    },
    {
     "data": {
      "text/latex": [
       "$\\displaystyle N_{O} = 2 N_{UO2}$"
      ],
      "text/plain": [
       "Eq(N_O, 2*N_UO2)"
      ]
     },
     "metadata": {},
     "output_type": "display_data"
    },
    {
     "data": {
      "text/latex": [
       "$\\displaystyle N_{O} = 4.45 \\cdot 10^{22}$"
      ],
      "text/plain": [
       "Eq(N_O, 4.45e+22)"
      ]
     },
     "metadata": {},
     "output_type": "display_data"
    },
    {
     "data": {
      "text/latex": [
       "$\\displaystyle N_{5} = N_{U} X$"
      ],
      "text/plain": [
       "Eq(N_5, N_U*X)"
      ]
     },
     "metadata": {},
     "output_type": "display_data"
    },
    {
     "data": {
      "text/latex": [
       "$\\displaystyle N_{5} = 6.67 \\cdot 10^{20}$"
      ],
      "text/plain": [
       "Eq(N_5, 6.67e+20)"
      ]
     },
     "metadata": {},
     "output_type": "display_data"
    },
    {
     "data": {
      "text/latex": [
       "$\\displaystyle N_{8} = N_{U} \\left(1 - X\\right)$"
      ],
      "text/plain": [
       "Eq(N_8, N_U*(1 - X))"
      ]
     },
     "metadata": {},
     "output_type": "display_data"
    },
    {
     "data": {
      "text/latex": [
       "$\\displaystyle N_{8} = 2.16 \\cdot 10^{22}$"
      ],
      "text/plain": [
       "Eq(N_8, 2.16e+22)"
      ]
     },
     "metadata": {},
     "output_type": "display_data"
    },
    {
     "data": {
      "text/latex": [
       "$\\displaystyle N_{ss} = 8.978 \\cdot 10^{22}$"
      ],
      "text/plain": [
       "Eq(N_ss, 8.978e+22)"
      ]
     },
     "metadata": {},
     "output_type": "display_data"
    },
    {
     "data": {
      "text/latex": [
       "$\\displaystyle ρ_{Zr} = 6.4$"
      ],
      "text/plain": [
       "Eq(ρ_Zr, 6.4)"
      ]
     },
     "metadata": {},
     "output_type": "display_data"
    },
    {
     "data": {
      "text/latex": [
       "$\\displaystyle A_{Zr} = 91.22$"
      ],
      "text/plain": [
       "Eq(A_Zr, 91.22)"
      ]
     },
     "metadata": {},
     "output_type": "display_data"
    },
    {
     "data": {
      "text/latex": [
       "$\\displaystyle N_{Zr} = \\frac{N_{a} ρ_{Zr}}{A_{Zr}}$"
      ],
      "text/plain": [
       "Eq(N_Zr, N_a*ρ_Zr/A_Zr)"
      ]
     },
     "metadata": {},
     "output_type": "display_data"
    },
    {
     "data": {
      "text/latex": [
       "$\\displaystyle N_{Zr} = 4.23 \\cdot 10^{22}$"
      ],
      "text/plain": [
       "Eq(N_Zr, 4.23e+22)"
      ]
     },
     "metadata": {},
     "output_type": "display_data"
    },
    {
     "data": {
      "text/latex": [
       "$\\displaystyle ρ_{He} = 0.000178$"
      ],
      "text/plain": [
       "Eq(ρ_He, 0.000178)"
      ]
     },
     "metadata": {},
     "output_type": "display_data"
    },
    {
     "data": {
      "text/latex": [
       "$\\displaystyle A_{He} = 4.003$"
      ],
      "text/plain": [
       "Eq(A_He, 4.003)"
      ]
     },
     "metadata": {},
     "output_type": "display_data"
    },
    {
     "data": {
      "text/latex": [
       "$\\displaystyle N_{He} = \\frac{N_{a} ρ_{He}}{A_{He}}$"
      ],
      "text/plain": [
       "Eq(N_He, N_a*ρ_He/A_He)"
      ]
     },
     "metadata": {},
     "output_type": "display_data"
    },
    {
     "data": {
      "text/latex": [
       "$\\displaystyle N_{He} = 2.68 \\cdot 10^{19}$"
      ],
      "text/plain": [
       "Eq(N_He, 2.68e+19)"
      ]
     },
     "metadata": {},
     "output_type": "display_data"
    },
    {
     "data": {
      "text/latex": [
       "$\\displaystyle H = D$"
      ],
      "text/plain": [
       "Eq(H, D)"
      ]
     },
     "metadata": {},
     "output_type": "display_data"
    },
    {
     "data": {
      "text/latex": [
       "$\\displaystyle H = 2.78$"
      ],
      "text/plain": [
       "Eq(H, 2.78)"
      ]
     },
     "metadata": {},
     "output_type": "display_data"
    },
    {
     "data": {
      "text/latex": [
       "$\\displaystyle m_{UO2} = 1000 F_{fuel} H n_{FE} n_{ceil} ρ_{UO2}$"
      ],
      "text/plain": [
       "Eq(m_UO2, 1000*F_fuel*H*n_FE*n_ceil*ρ_UO2)"
      ]
     },
     "metadata": {},
     "output_type": "display_data"
    },
    {
     "data": {
      "text/latex": [
       "$\\displaystyle m_{UO2} = 4.29 \\cdot 10^{4}$"
      ],
      "text/plain": [
       "Eq(m_UO2, 4.29e+4)"
      ]
     },
     "metadata": {},
     "output_type": "display_data"
    },
    {
     "data": {
      "text/latex": [
       "$\\displaystyle A_{8} = 238$"
      ],
      "text/plain": [
       "Eq(A_8, 238)"
      ]
     },
     "metadata": {},
     "output_type": "display_data"
    },
    {
     "data": {
      "text/latex": [
       "$\\displaystyle A_{5} = 235$"
      ],
      "text/plain": [
       "Eq(A_5, 235)"
      ]
     },
     "metadata": {},
     "output_type": "display_data"
    },
    {
     "data": {
      "text/latex": [
       "$\\displaystyle m_{5} = \\frac{A_{8} m_{UO2}}{A_{UO2} \\cdot \\left(1 + \\frac{A_{8} \\cdot \\left(1 - X\\right)}{A_{5} X}\\right)}$"
      ],
      "text/plain": [
       "Eq(m_5, A_8*m_UO2/(A_UO2*(1 + A_8*(1 - X)/(A_5*X))))"
      ]
     },
     "metadata": {},
     "output_type": "display_data"
    },
    {
     "data": {
      "text/latex": [
       "$\\displaystyle m_{5} = 1.12 \\cdot 10^{3}$"
      ],
      "text/plain": [
       "Eq(m_5, 1.12e+3)"
      ]
     },
     "metadata": {},
     "output_type": "display_data"
    },
    {
     "data": {
      "text/latex": [
       "$\\displaystyle Σ_{a5} = N_{5} σ_{a5}$"
      ],
      "text/plain": [
       "Eq(Σ_a5, N_5*σ_a5)"
      ]
     },
     "metadata": {},
     "output_type": "display_data"
    },
    {
     "data": {
      "text/latex": [
       "$\\displaystyle Σ_{a5} = 0.232$"
      ],
      "text/plain": [
       "Eq(Σ_a5, 0.232)"
      ]
     },
     "metadata": {},
     "output_type": "display_data"
    },
    {
     "data": {
      "text/latex": [
       "$\\displaystyle Σ_{s5} = N_{5} σ_{s5}$"
      ],
      "text/plain": [
       "Eq(Σ_s5, N_5*σ_s5)"
      ]
     },
     "metadata": {},
     "output_type": "display_data"
    },
    {
     "data": {
      "text/latex": [
       "$\\displaystyle Σ_{s5} = 0.00921$"
      ],
      "text/plain": [
       "Eq(Σ_s5, 0.00921)"
      ]
     },
     "metadata": {},
     "output_type": "display_data"
    },
    {
     "data": {
      "text/latex": [
       "$\\displaystyle Σ_{f5} = N_{5} σ_{f5}$"
      ],
      "text/plain": [
       "Eq(Σ_f5, N_5*σ_f5)"
      ]
     },
     "metadata": {},
     "output_type": "display_data"
    },
    {
     "data": {
      "text/latex": [
       "$\\displaystyle Σ_{f5} = 0.196$"
      ],
      "text/plain": [
       "Eq(Σ_f5, 0.196)"
      ]
     },
     "metadata": {},
     "output_type": "display_data"
    },
    {
     "data": {
      "text/latex": [
       "$\\displaystyle Σ_{a8} = N_{8} σ_{a8}$"
      ],
      "text/plain": [
       "Eq(Σ_a8, N_8*σ_a8)"
      ]
     },
     "metadata": {},
     "output_type": "display_data"
    },
    {
     "data": {
      "text/latex": [
       "$\\displaystyle Σ_{a8} = 0.0322$"
      ],
      "text/plain": [
       "Eq(Σ_a8, 0.0322)"
      ]
     },
     "metadata": {},
     "output_type": "display_data"
    },
    {
     "data": {
      "text/latex": [
       "$\\displaystyle Σ_{s8} = N_{8} σ_{s8}$"
      ],
      "text/plain": [
       "Eq(Σ_s8, N_8*σ_s8)"
      ]
     },
     "metadata": {},
     "output_type": "display_data"
    },
    {
     "data": {
      "text/latex": [
       "$\\displaystyle Σ_{s8} = 0.192$"
      ],
      "text/plain": [
       "Eq(Σ_s8, 0.192)"
      ]
     },
     "metadata": {},
     "output_type": "display_data"
    },
    {
     "data": {
      "text/latex": [
       "$\\displaystyle Σ_{aO2} = N_{O} σ_{aO2}$"
      ],
      "text/plain": [
       "Eq(Σ_aO2, N_O*σ_aO2)"
      ]
     },
     "metadata": {},
     "output_type": "display_data"
    },
    {
     "data": {
      "text/latex": [
       "$\\displaystyle Σ_{aO2} = 6.61 \\cdot 10^{-6}$"
      ],
      "text/plain": [
       "Eq(Σ_aO2, 6.61e-6)"
      ]
     },
     "metadata": {},
     "output_type": "display_data"
    },
    {
     "data": {
      "text/latex": [
       "$\\displaystyle Σ_{sO2} = N_{O} σ_{sO2}$"
      ],
      "text/plain": [
       "Eq(Σ_sO2, N_O*σ_sO2)"
      ]
     },
     "metadata": {},
     "output_type": "display_data"
    },
    {
     "data": {
      "text/latex": [
       "$\\displaystyle Σ_{sO2} = 0.167$"
      ],
      "text/plain": [
       "Eq(Σ_sO2, 0.167)"
      ]
     },
     "metadata": {},
     "output_type": "display_data"
    },
    {
     "data": {
      "text/latex": [
       "$\\displaystyle Σ_{acm} = 0.114$"
      ],
      "text/plain": [
       "Eq(Σ_acm, 0.114)"
      ]
     },
     "metadata": {},
     "output_type": "display_data"
    },
    {
     "data": {
      "text/latex": [
       "$\\displaystyle Σ_{scm} = 0.844$"
      ],
      "text/plain": [
       "Eq(Σ_scm, 0.844)"
      ]
     },
     "metadata": {},
     "output_type": "display_data"
    },
    {
     "data": {
      "text/latex": [
       "$\\displaystyle Σ_{aHe} = N_{He} σ_{aHe}$"
      ],
      "text/plain": [
       "Eq(Σ_aHe, N_He*σ_aHe)"
      ]
     },
     "metadata": {},
     "output_type": "display_data"
    },
    {
     "data": {
      "text/latex": [
       "$\\displaystyle Σ_{aHe} = 1.03 \\cdot 10^{-7}$"
      ],
      "text/plain": [
       "Eq(Σ_aHe, 1.03e-7)"
      ]
     },
     "metadata": {},
     "output_type": "display_data"
    },
    {
     "data": {
      "text/latex": [
       "$\\displaystyle Σ_{sHe} = N_{He} σ_{sHe}$"
      ],
      "text/plain": [
       "Eq(Σ_sHe, N_He*σ_sHe)"
      ]
     },
     "metadata": {},
     "output_type": "display_data"
    },
    {
     "data": {
      "text/latex": [
       "$\\displaystyle Σ_{sHe} = 2.14 \\cdot 10^{-5}$"
      ],
      "text/plain": [
       "Eq(Σ_sHe, 2.14e-5)"
      ]
     },
     "metadata": {},
     "output_type": "display_data"
    },
    {
     "data": {
      "text/latex": [
       "$\\displaystyle Σ_{aH2O} = N_{H2O} σ_{aH2O}$"
      ],
      "text/plain": [
       "Eq(Σ_aH2O, N_H2O*σ_aH2O)"
      ]
     },
     "metadata": {},
     "output_type": "display_data"
    },
    {
     "data": {
      "text/latex": [
       "$\\displaystyle Σ_{aH2O} = 0.00866$"
      ],
      "text/plain": [
       "Eq(Σ_aH2O, 0.00866)"
      ]
     },
     "metadata": {},
     "output_type": "display_data"
    },
    {
     "data": {
      "text/latex": [
       "$\\displaystyle Σ_{sH2O} = N_{H2O} σ_{sH2O}$"
      ],
      "text/plain": [
       "Eq(Σ_sH2O, N_H2O*σ_sH2O)"
      ]
     },
     "metadata": {},
     "output_type": "display_data"
    },
    {
     "data": {
      "text/latex": [
       "$\\displaystyle Σ_{sH2O} = 2.46$"
      ],
      "text/plain": [
       "Eq(Σ_sH2O, 2.46)"
      ]
     },
     "metadata": {},
     "output_type": "display_data"
    },
    {
     "data": {
      "text/latex": [
       "$\\displaystyle \\Sigma_{a 0} = Σ_{a5} + Σ_{a8} + Σ_{aO2}$"
      ],
      "text/plain": [
       "Eq(Sigma_a_0, Σ_a5 + Σ_a8 + Σ_aO2)"
      ]
     },
     "metadata": {},
     "output_type": "display_data"
    },
    {
     "data": {
      "text/latex": [
       "$\\displaystyle \\Sigma_{a 0} = 0.264$"
      ],
      "text/plain": [
       "Eq(Sigma_a_0, 0.264)"
      ]
     },
     "metadata": {},
     "output_type": "display_data"
    },
    {
     "data": {
      "text/latex": [
       "$\\displaystyle \\Sigma_{s 0} = Σ_{s5} + Σ_{s8} + Σ_{sO2}$"
      ],
      "text/plain": [
       "Eq(Sigma_s_0, Σ_s5 + Σ_s8 + Σ_sO2)"
      ]
     },
     "metadata": {},
     "output_type": "display_data"
    },
    {
     "data": {
      "text/latex": [
       "$\\displaystyle \\Sigma_{s 0} = 0.369$"
      ],
      "text/plain": [
       "Eq(Sigma_s_0, 0.369)"
      ]
     },
     "metadata": {},
     "output_type": "display_data"
    },
    {
     "data": {
      "text/latex": [
       "$\\displaystyle \\Sigma_{a 1} = \\frac{F_{HE} Σ_{aHe} + f_{cmE} Σ_{acm} + f_{moderE} Σ_{aH2O}}{f_{1}}$"
      ],
      "text/plain": [
       "Eq(Sigma_a_1, (F_HE*Σ_aHe + f_cmE*Σ_acm + f_moderE*Σ_aH2O)/f_1)"
      ]
     },
     "metadata": {},
     "output_type": "display_data"
    },
    {
     "data": {
      "text/latex": [
       "$\\displaystyle \\Sigma_{a 1} = 0.0287$"
      ],
      "text/plain": [
       "Eq(Sigma_a_1, 0.0287)"
      ]
     },
     "metadata": {},
     "output_type": "display_data"
    },
    {
     "data": {
      "text/latex": [
       "$\\displaystyle \\Sigma_{s 1} = \\frac{F_{HE} Σ_{sHe} + f_{cmE} Σ_{scm} + f_{moderE} Σ_{sH2O}}{f_{1}}$"
      ],
      "text/plain": [
       "Eq(Sigma_s_1, (F_HE*Σ_sHe + f_cmE*Σ_scm + f_moderE*Σ_sH2O)/f_1)"
      ]
     },
     "metadata": {},
     "output_type": "display_data"
    },
    {
     "data": {
      "text/latex": [
       "$\\displaystyle \\Sigma_{s 1} = 2.11$"
      ],
      "text/plain": [
       "Eq(Sigma_s_1, 2.11)"
      ]
     },
     "metadata": {},
     "output_type": "display_data"
    },
    {
     "data": {
      "text/latex": [
       "$\\displaystyle Σξ_{s 1} = \\frac{F_{HE} Σξ_{sHe} + f_{cmE} Σξ_{scm} + f_{moderE} Σξ_{sH2O}}{f_{1}}$"
      ],
      "text/plain": [
       "Eq(Σξ_s_1, (F_HE*Σξ_sHe + f_cmE*Σξ_scm + f_moderE*Σξ_sH2O)/f_1)"
      ]
     },
     "metadata": {},
     "output_type": "display_data"
    },
    {
     "data": {
      "text/latex": [
       "$\\displaystyle Σξ_{s 1} = 0.77$"
      ],
      "text/plain": [
       "Eq(Σξ_s_1, 0.77)"
      ]
     },
     "metadata": {},
     "output_type": "display_data"
    },
    {
     "data": {
      "text/latex": [
       "$\\displaystyle \\omega_{5} = \\frac{0.666666666666667}{A_{5}}$"
      ],
      "text/plain": [
       "Eq(omega_5, 0.666666666666667/A_5)"
      ]
     },
     "metadata": {},
     "output_type": "display_data"
    },
    {
     "data": {
      "text/latex": [
       "$\\displaystyle \\omega_{5} = 0.00284$"
      ],
      "text/plain": [
       "Eq(omega_5, 0.00284)"
      ]
     },
     "metadata": {},
     "output_type": "display_data"
    },
    {
     "data": {
      "text/latex": [
       "$\\displaystyle \\Sigma_{trs5} = Σ_{s5} \\cdot \\left(1 - \\omega_{5}\\right)$"
      ],
      "text/plain": [
       "Eq(Sigma_trs5, Σ_s5*(1 - omega_5))"
      ]
     },
     "metadata": {},
     "output_type": "display_data"
    },
    {
     "data": {
      "text/latex": [
       "$\\displaystyle \\Sigma_{trs5} = 0.00918$"
      ],
      "text/plain": [
       "Eq(Sigma_trs5, 0.00918)"
      ]
     },
     "metadata": {},
     "output_type": "display_data"
    },
    {
     "data": {
      "text/latex": [
       "$\\displaystyle \\Sigma_{tr5} = \\Sigma_{trs5} + Σ_{a5}$"
      ],
      "text/plain": [
       "Eq(Sigma_tr5, Sigma_trs5 + Σ_a5)"
      ]
     },
     "metadata": {},
     "output_type": "display_data"
    },
    {
     "data": {
      "text/latex": [
       "$\\displaystyle \\Sigma_{tr5} = 0.241$"
      ],
      "text/plain": [
       "Eq(Sigma_tr5, 0.241)"
      ]
     },
     "metadata": {},
     "output_type": "display_data"
    },
    {
     "data": {
      "text/latex": [
       "$\\displaystyle \\omega_{8} = \\frac{0.666666666666667}{A_{8}}$"
      ],
      "text/plain": [
       "Eq(omega_8, 0.666666666666667/A_8)"
      ]
     },
     "metadata": {},
     "output_type": "display_data"
    },
    {
     "data": {
      "text/latex": [
       "$\\displaystyle \\omega_{8} = 0.0028$"
      ],
      "text/plain": [
       "Eq(omega_8, 0.0028)"
      ]
     },
     "metadata": {},
     "output_type": "display_data"
    },
    {
     "data": {
      "text/latex": [
       "$\\displaystyle \\Sigma_{trs8} = Σ_{s8} \\cdot \\left(1 - \\omega_{8}\\right)$"
      ],
      "text/plain": [
       "Eq(Sigma_trs8, Σ_s8*(1 - omega_8))"
      ]
     },
     "metadata": {},
     "output_type": "display_data"
    },
    {
     "data": {
      "text/latex": [
       "$\\displaystyle \\Sigma_{trs8} = 0.192$"
      ],
      "text/plain": [
       "Eq(Sigma_trs8, 0.192)"
      ]
     },
     "metadata": {},
     "output_type": "display_data"
    },
    {
     "data": {
      "text/latex": [
       "$\\displaystyle \\Sigma_{tr8} = \\Sigma_{trs8} + Σ_{a8}$"
      ],
      "text/plain": [
       "Eq(Sigma_tr8, Sigma_trs8 + Σ_a8)"
      ]
     },
     "metadata": {},
     "output_type": "display_data"
    },
    {
     "data": {
      "text/latex": [
       "$\\displaystyle \\Sigma_{tr8} = 0.224$"
      ],
      "text/plain": [
       "Eq(Sigma_tr8, 0.224)"
      ]
     },
     "metadata": {},
     "output_type": "display_data"
    },
    {
     "data": {
      "text/latex": [
       "$\\displaystyle \\omega_{O2} = 0.0208$"
      ],
      "text/plain": [
       "Eq(omega_O2, 0.0208)"
      ]
     },
     "metadata": {},
     "output_type": "display_data"
    },
    {
     "data": {
      "text/latex": [
       "$\\displaystyle \\Sigma_{trsO2} = Σ_{sO2} \\cdot \\left(1 - \\omega_{O2}\\right)$"
      ],
      "text/plain": [
       "Eq(Sigma_trsO2, Σ_sO2*(1 - omega_O2))"
      ]
     },
     "metadata": {},
     "output_type": "display_data"
    },
    {
     "data": {
      "text/latex": [
       "$\\displaystyle \\Sigma_{trsO2} = 0.164$"
      ],
      "text/plain": [
       "Eq(Sigma_trsO2, 0.164)"
      ]
     },
     "metadata": {},
     "output_type": "display_data"
    },
    {
     "data": {
      "text/latex": [
       "$\\displaystyle \\Sigma_{trO2} = \\Sigma_{trsO2} + Σ_{aO2}$"
      ],
      "text/plain": [
       "Eq(Sigma_trO2, Sigma_trsO2 + Σ_aO2)"
      ]
     },
     "metadata": {},
     "output_type": "display_data"
    },
    {
     "data": {
      "text/latex": [
       "$\\displaystyle \\Sigma_{trO2} = 0.164$"
      ],
      "text/plain": [
       "Eq(Sigma_trO2, 0.164)"
      ]
     },
     "metadata": {},
     "output_type": "display_data"
    },
    {
     "data": {
      "text/latex": [
       "$\\displaystyle \\omega_{8} = 0.0106659046841968$"
      ],
      "text/plain": [
       "Eq(omega_8, 0.0106659046841968)"
      ]
     },
     "metadata": {},
     "output_type": "display_data"
    },
    {
     "data": {
      "text/latex": [
       "$\\displaystyle \\omega_{8} = 0.0107$"
      ],
      "text/plain": [
       "Eq(omega_8, 0.0107)"
      ]
     },
     "metadata": {},
     "output_type": "display_data"
    },
    {
     "data": {
      "text/latex": [
       "$\\displaystyle \\Sigma_{trscm} = Σ_{scm} \\left(1 - \\omega_{8}\\right)$"
      ],
      "text/plain": [
       "Eq(Sigma_trscm, Σ_scm*(1 - omega_8))"
      ]
     },
     "metadata": {},
     "output_type": "display_data"
    },
    {
     "data": {
      "text/latex": [
       "$\\displaystyle \\Sigma_{trscm} = 0.835$"
      ],
      "text/plain": [
       "Eq(Sigma_trscm, 0.835)"
      ]
     },
     "metadata": {},
     "output_type": "display_data"
    },
    {
     "data": {
      "text/latex": [
       "$\\displaystyle \\Sigma_{trcm} = \\Sigma_{trscm} + Σ_{acm}$"
      ],
      "text/plain": [
       "Eq(Sigma_trcm, Sigma_trscm + Σ_acm)"
      ]
     },
     "metadata": {},
     "output_type": "display_data"
    },
    {
     "data": {
      "text/latex": [
       "$\\displaystyle \\Sigma_{trcm} = 0.949$"
      ],
      "text/plain": [
       "Eq(Sigma_trcm, 0.949)"
      ]
     },
     "metadata": {},
     "output_type": "display_data"
    },
    {
     "data": {
      "text/latex": [
       "$\\displaystyle \\omega_{He} = \\frac{0.666666666666667}{A_{He}}$"
      ],
      "text/plain": [
       "Eq(omega_He, 0.666666666666667/A_He)"
      ]
     },
     "metadata": {},
     "output_type": "display_data"
    },
    {
     "data": {
      "text/latex": [
       "$\\displaystyle \\omega_{He} = 0.167$"
      ],
      "text/plain": [
       "Eq(omega_He, 0.167)"
      ]
     },
     "metadata": {},
     "output_type": "display_data"
    },
    {
     "data": {
      "text/latex": [
       "$\\displaystyle \\Sigma_{trsHe} = Σ_{sHe} \\left(1 - \\omega_{He}\\right)$"
      ],
      "text/plain": [
       "Eq(Sigma_trsHe, Σ_sHe*(1 - omega_He))"
      ]
     },
     "metadata": {},
     "output_type": "display_data"
    },
    {
     "data": {
      "text/latex": [
       "$\\displaystyle \\Sigma_{trsHe} = 1.79 \\cdot 10^{-5}$"
      ],
      "text/plain": [
       "Eq(Sigma_trsHe, 1.79e-5)"
      ]
     },
     "metadata": {},
     "output_type": "display_data"
    },
    {
     "data": {
      "text/latex": [
       "$\\displaystyle \\Sigma_{trHe} = \\Sigma_{trsHe} + Σ_{aHe}$"
      ],
      "text/plain": [
       "Eq(Sigma_trHe, Sigma_trsHe + Σ_aHe)"
      ]
     },
     "metadata": {},
     "output_type": "display_data"
    },
    {
     "data": {
      "text/latex": [
       "$\\displaystyle \\Sigma_{trHe} = 1.8 \\cdot 10^{-5}$"
      ],
      "text/plain": [
       "Eq(Sigma_trHe, 1.8e-5)"
      ]
     },
     "metadata": {},
     "output_type": "display_data"
    },
    {
     "data": {
      "text/latex": [
       "$\\displaystyle \\Sigma_{trH2O} = \\frac{12.4373963442769 ρ_{H2O}^{2} \\sqrt{0.000209556313993174 T + 1}}{T Σ_{aH2O}}$"
      ],
      "text/plain": [
       "Eq(Sigma_trH2O, 12.4373963442769*ρ_H2O**2*sqrt(0.000209556313993174*T + 1)/(T*Σ_aH2O))"
      ]
     },
     "metadata": {},
     "output_type": "display_data"
    },
    {
     "data": {
      "text/latex": [
       "$\\displaystyle \\Sigma_{trH2O} = 1.03$"
      ],
      "text/plain": [
       "Eq(Sigma_trH2O, 1.03)"
      ]
     },
     "metadata": {},
     "output_type": "display_data"
    },
    {
     "data": {
      "text/latex": [
       "$\\displaystyle \\Sigma_{tr0} = \\Sigma_{tr5} + \\Sigma_{tr8} + \\Sigma_{trO2}$"
      ],
      "text/plain": [
       "Eq(Sigma_tr0, Sigma_tr5 + Sigma_tr8 + Sigma_trO2)"
      ]
     },
     "metadata": {},
     "output_type": "display_data"
    },
    {
     "data": {
      "text/latex": [
       "$\\displaystyle \\Sigma_{tr0} = 0.628$"
      ],
      "text/plain": [
       "Eq(Sigma_tr0, 0.628)"
      ]
     },
     "metadata": {},
     "output_type": "display_data"
    },
    {
     "data": {
      "text/latex": [
       "$\\displaystyle \\Sigma_{tr1} = \\frac{F_{HE} \\Sigma_{trHe} + \\Sigma_{trH2O} f_{moderE} + \\Sigma_{trcm} f_{cmE}}{F_{HE} + f_{cmE} + f_{moderE}}$"
      ],
      "text/plain": [
       "Eq(Sigma_tr1, (F_HE*Sigma_trHe + Sigma_trH2O*f_moderE + Sigma_trcm*f_cmE)/(F_HE + f_cmE + f_moderE))"
      ]
     },
     "metadata": {},
     "output_type": "display_data"
    },
    {
     "data": {
      "text/latex": [
       "$\\displaystyle \\Sigma_{tr1} = 1.0$"
      ],
      "text/plain": [
       "Eq(Sigma_tr1, 1.0)"
      ]
     },
     "metadata": {},
     "output_type": "display_data"
    },
    {
     "data": {
      "text/latex": [
       "$\\displaystyle \\nu_{f5} = 2.416$"
      ],
      "text/plain": [
       "Eq(nu_f5, 2.416)"
      ]
     },
     "metadata": {},
     "output_type": "display_data"
    },
    {
     "data": {
      "text/latex": [
       "$\\displaystyle \\eta = \\frac{\\nu_{f5} Σ_{f5}}{\\Sigma_{a 0}}$"
      ],
      "text/plain": [
       "Eq(eta, nu_f5*Σ_f5/Sigma_a_0)"
      ]
     },
     "metadata": {},
     "output_type": "display_data"
    },
    {
     "data": {
      "text/latex": [
       "$\\displaystyle \\eta = 1.8$"
      ],
      "text/plain": [
       "Eq(eta, 1.8)"
      ]
     },
     "metadata": {},
     "output_type": "display_data"
    },
    {
     "data": {
      "text/latex": [
       "$\\displaystyle \\mu_{0} = 2.7 \\cdot 10^{-23} d_{f} \\left(N_{5} + N_{8}\\right) + 1$"
      ],
      "text/plain": [
       "Eq(mu_0, 2.7e-23*d_f*(N_5 + N_8) + 1)"
      ]
     },
     "metadata": {},
     "output_type": "display_data"
    },
    {
     "data": {
      "text/latex": [
       "$\\displaystyle \\mu_{0} = 1.00457$"
      ],
      "text/plain": [
       "Eq(mu_0, 1.00457)"
      ]
     },
     "metadata": {},
     "output_type": "display_data"
    },
    {
     "data": {
      "text/latex": [
       "$\\displaystyle P = \\frac{1.54 \\cdot 10^{23} f_{moderE} ρ_{H2O}}{F_{fuel} \\left(N_{5} + N_{8}\\right)}$"
      ],
      "text/plain": [
       "Eq(P, 1.54e+23*f_moderE*ρ_H2O/(F_fuel*(N_5 + N_8)))"
      ]
     },
     "metadata": {},
     "output_type": "display_data"
    },
    {
     "data": {
      "text/latex": [
       "$\\displaystyle P = 9.2$"
      ],
      "text/plain": [
       "Eq(P, 9.2)"
      ]
     },
     "metadata": {},
     "output_type": "display_data"
    },
    {
     "data": {
      "text/latex": [
       "$\\displaystyle \\epsilon = \\frac{P \\mu_{0} + 1.34}{P + 1}$"
      ],
      "text/plain": [
       "Eq(epsilon, (P*mu_0 + 1.34)/(P + 1))"
      ]
     },
     "metadata": {},
     "output_type": "display_data"
    },
    {
     "data": {
      "text/latex": [
       "$\\displaystyle \\epsilon = 1.04$"
      ],
      "text/plain": [
       "Eq(epsilon, 1.04)"
      ]
     },
     "metadata": {},
     "output_type": "display_data"
    },
    {
     "data": {
      "text/latex": [
       "$\\displaystyle S_{s} = 10000.0 \\pi H d_{f}$"
      ],
      "text/plain": [
       "Eq(S_s, 10000.0*pi*H*d_f)"
      ]
     },
     "metadata": {},
     "output_type": "display_data"
    },
    {
     "data": {
      "text/latex": [
       "$\\displaystyle S_{s} = 664.0$"
      ],
      "text/plain": [
       "Eq(S_s, 664.0)"
      ]
     },
     "metadata": {},
     "output_type": "display_data"
    },
    {
     "data": {
      "text/latex": [
       "$\\displaystyle M_{8} = \\frac{250000.0 \\pi A_{8} H N_{8} d_{f}^{2}}{N_{a}}$"
      ],
      "text/plain": [
       "Eq(M_8, 250000.0*pi*A_8*H*N_8*d_f**2/N_a)"
      ]
     },
     "metadata": {},
     "output_type": "display_data"
    },
    {
     "data": {
      "text/latex": [
       "$\\displaystyle M_{8} = 1.08 \\cdot 10^{3}$"
      ],
      "text/plain": [
       "Eq(M_8, 1.08e+3)"
      ]
     },
     "metadata": {},
     "output_type": "display_data"
    },
    {
     "data": {
      "text/latex": [
       "$\\displaystyle П_{т} = 0.0135 \\sqrt{t_{U}} + 0.77$"
      ],
      "text/plain": [
       "Eq(П_т, 0.0135*sqrt(t_U) + 0.77)"
      ]
     },
     "metadata": {},
     "output_type": "display_data"
    },
    {
     "data": {
      "text/latex": [
       "$\\displaystyle П_{т} = 1.23$"
      ],
      "text/plain": [
       "Eq(П_т, 1.23)"
      ]
     },
     "metadata": {},
     "output_type": "display_data"
    },
    {
     "data": {
      "text/latex": [
       "$\\displaystyle I_{ef} = 4.9 + \\frac{20.7 \\sqrt{S_{s}} П_{т}}{\\sqrt{M_{8}}}$"
      ],
      "text/plain": [
       "Eq(I_ef, 4.9 + 20.7*sqrt(S_s)*П_т/sqrt(M_8))"
      ]
     },
     "metadata": {},
     "output_type": "display_data"
    },
    {
     "data": {
      "text/latex": [
       "$\\displaystyle I_{ef} = 24.9$"
      ],
      "text/plain": [
       "Eq(I_ef, 24.9)"
      ]
     },
     "metadata": {},
     "output_type": "display_data"
    },
    {
     "data": {
      "text/latex": [
       "$\\displaystyle \\varphi = e^{- \\frac{1.0 \\cdot 10^{-24} F_{fuel} I_{ef} N_{8}}{f_{1} Σξ_{s 1}}}$"
      ],
      "text/plain": [
       "Eq(varphi, exp(-1.0e-24*F_fuel*I_ef*N_8/(f_1*Σξ_s_1)))"
      ]
     },
     "metadata": {},
     "output_type": "display_data"
    },
    {
     "data": {
      "text/latex": [
       "$\\displaystyle \\varphi = 0.743$"
      ],
      "text/plain": [
       "Eq(varphi, 0.743)"
      ]
     },
     "metadata": {},
     "output_type": "display_data"
    },
    {
     "data": {
      "text/latex": [
       "$\\displaystyle A = 449.0 \\Sigma_{tr0}^{2} d_{f}^{2} + 13.535 \\Sigma_{tr0} d_{f}$"
      ],
      "text/plain": [
       "Eq(A, 449.0*Sigma_tr0**2*d_f**2 + 13.535*Sigma_tr0*d_f)"
      ]
     },
     "metadata": {},
     "output_type": "display_data"
    },
    {
     "data": {
      "text/latex": [
       "$\\displaystyle A = 0.0749$"
      ],
      "text/plain": [
       "Eq(A, 0.0749)"
      ]
     },
     "metadata": {},
     "output_type": "display_data"
    },
    {
     "data": {
      "text/latex": [
       "$\\displaystyle a_{forQ} = - 9.25 \\Sigma_{tr0}^{2} d_{f}^{2} + 3.35 \\Sigma_{tr0} d_{f}$"
      ],
      "text/plain": [
       "Eq(a_forQ, -9.25*Sigma_tr0**2*d_f**2 + 3.35*Sigma_tr0*d_f)"
      ]
     },
     "metadata": {},
     "output_type": "display_data"
    },
    {
     "data": {
      "text/latex": [
       "$\\displaystyle a_{forQ} = 0.0158$"
      ],
      "text/plain": [
       "Eq(a_forQ, 0.0158)"
      ]
     },
     "metadata": {},
     "output_type": "display_data"
    },
    {
     "data": {
      "text/latex": [
       "$\\displaystyle b = 0.027$"
      ],
      "text/plain": [
       "Eq(b, 0.027)"
      ]
     },
     "metadata": {},
     "output_type": "display_data"
    },
    {
     "data": {
      "text/latex": [
       "$\\displaystyle b = 0.027$"
      ],
      "text/plain": [
       "Eq(b, 0.027)"
      ]
     },
     "metadata": {},
     "output_type": "display_data"
    },
    {
     "data": {
      "text/latex": [
       "$\\displaystyle Q_{0} = \\frac{A \\Sigma_{a 0} \\left(\\frac{\\Sigma_{s 0}^{2} b}{\\Sigma_{tr0}^{2}} + \\frac{\\Sigma_{s 0} a_{forQ}}{\\Sigma_{tr0}} + 1\\right)}{\\Sigma_{tr0}} + 1$"
      ],
      "text/plain": [
       "Eq(Q_0, A*Sigma_a_0*(Sigma_s_0**2*b/Sigma_tr0**2 + Sigma_s_0*a_forQ/Sigma_tr0 + 1)/Sigma_tr0 + 1)"
      ]
     },
     "metadata": {},
     "output_type": "display_data"
    },
    {
     "data": {
      "text/latex": [
       "$\\displaystyle Q_{0} = 1.03$"
      ],
      "text/plain": [
       "Eq(Q_0, 1.03)"
      ]
     },
     "metadata": {},
     "output_type": "display_data"
    },
    {
     "data": {
      "text/latex": [
       "$\\displaystyle q_{0} = \\frac{Q_{0} \\Sigma_{a 1} f_{1}}{F_{fuel} \\Sigma_{a 0}}$"
      ],
      "text/plain": [
       "Eq(q_0, Q_0*Sigma_a_1*f_1/(F_fuel*Sigma_a_0))"
      ]
     },
     "metadata": {},
     "output_type": "display_data"
    },
    {
     "data": {
      "text/latex": [
       "$\\displaystyle q_{0} = 0.264$"
      ],
      "text/plain": [
       "Eq(q_0, 0.264)"
      ]
     },
     "metadata": {},
     "output_type": "display_data"
    },
    {
     "data": {
      "text/latex": [
       "$\\displaystyle L_{1} = \\frac{0.577350269189626}{\\sqrt{\\Sigma_{a 1}} \\sqrt{\\Sigma_{tr1}}}$"
      ],
      "text/plain": [
       "Eq(L_1, 0.577350269189626/(sqrt(Sigma_a_1)*sqrt(Sigma_tr1)))"
      ]
     },
     "metadata": {},
     "output_type": "display_data"
    },
    {
     "data": {
      "text/latex": [
       "$\\displaystyle L_{1} = 3.4$"
      ],
      "text/plain": [
       "Eq(L_1, 3.4)"
      ]
     },
     "metadata": {},
     "output_type": "display_data"
    },
    {
     "data": {
      "text/latex": [
       "$\\displaystyle \\psi = \\frac{2 R_{E}}{d_{f}}$"
      ],
      "text/plain": [
       "Eq(psi, 2*R_E/d_f)"
      ]
     },
     "metadata": {},
     "output_type": "display_data"
    },
    {
     "data": {
      "text/latex": [
       "$\\displaystyle \\psi = 1.83$"
      ],
      "text/plain": [
       "Eq(psi, 1.83)"
      ]
     },
     "metadata": {},
     "output_type": "display_data"
    },
    {
     "data": {
      "text/latex": [
       "$\\displaystyle q_{1} = \\frac{5000.0 R_{E}^{2} \\left(\\frac{\\psi^{2} \\log{\\left(\\psi \\right)}}{\\psi^{2} - 1} - 0.75 + \\frac{0.25}{\\psi}\\right)}{L_{1}^{2}}$"
      ],
      "text/plain": [
       "Eq(q_1, 5000.0*R_E**2*(psi**2*log(psi)/(psi**2 - 1) - 0.75 + 0.25/psi)/L_1**2)"
      ]
     },
     "metadata": {},
     "output_type": "display_data"
    },
    {
     "data": {
      "text/latex": [
       "$\\displaystyle q_{1} = 0.00517$"
      ],
      "text/plain": [
       "Eq(q_1, 0.00517)"
      ]
     },
     "metadata": {},
     "output_type": "display_data"
    },
    {
     "data": {
      "text/latex": [
       "$\\displaystyle q = q_{0} + q_{1}$"
      ],
      "text/plain": [
       "Eq(q, q_0 + q_1)"
      ]
     },
     "metadata": {},
     "output_type": "display_data"
    },
    {
     "data": {
      "text/latex": [
       "$\\displaystyle q = 0.269$"
      ],
      "text/plain": [
       "Eq(q, 0.269)"
      ]
     },
     "metadata": {},
     "output_type": "display_data"
    },
    {
     "data": {
      "text/latex": [
       "$\\displaystyle \\theta = \\frac{1}{q + 1}$"
      ],
      "text/plain": [
       "Eq(theta, 1/(q + 1))"
      ]
     },
     "metadata": {},
     "output_type": "display_data"
    },
    {
     "data": {
      "text/latex": [
       "$\\displaystyle \\theta = 0.788$"
      ],
      "text/plain": [
       "Eq(theta, 0.788)"
      ]
     },
     "metadata": {},
     "output_type": "display_data"
    },
    {
     "data": {
      "text/latex": [
       "$\\displaystyle K_{inf} = \\epsilon \\eta \\theta \\varphi$"
      ],
      "text/plain": [
       "Eq(K_inf, epsilon*eta*theta*varphi)"
      ]
     },
     "metadata": {},
     "output_type": "display_data"
    },
    {
     "data": {
      "text/latex": [
       "$\\displaystyle K_{inf} = 1.09$"
      ],
      "text/plain": [
       "Eq(K_inf, 1.09)"
      ]
     },
     "metadata": {},
     "output_type": "display_data"
    },
    {
     "data": {
      "text/latex": [
       "$\\displaystyle \\tau_{H2O} = 31.4$"
      ],
      "text/plain": [
       "Eq(tau_H2O, 31.4)"
      ]
     },
     "metadata": {},
     "output_type": "display_data"
    },
    {
     "data": {
      "text/latex": [
       "$\\displaystyle \\tau_{H2O} = 31.4$"
      ],
      "text/plain": [
       "Eq(tau_H2O, 31.4)"
      ]
     },
     "metadata": {},
     "output_type": "display_data"
    },
    {
     "data": {
      "text/latex": [
       "$\\displaystyle \\tau_{t} = \\frac{\\tau_{H2O} \\left(\\frac{f_{cmE}}{f_{moderE}} + 1 + \\frac{1}{W}\\right)^{2}}{\\left(\\frac{0.4 f_{cmE}}{f_{moderE}} + ρ_{H2O} + \\frac{0.82}{W}\\right)^{2}}$"
      ],
      "text/plain": [
       "Eq(tau_t, tau_H2O*(f_cmE/f_moderE + 1 + 1/W)**2/(0.4*f_cmE/f_moderE + ρ_H2O + 0.82/W)**2)"
      ]
     },
     "metadata": {},
     "output_type": "display_data"
    },
    {
     "data": {
      "text/latex": [
       "$\\displaystyle \\tau_{t} = 62.8$"
      ],
      "text/plain": [
       "Eq(tau_t, 62.8)"
      ]
     },
     "metadata": {},
     "output_type": "display_data"
    },
    {
     "data": {
      "text/latex": [
       "$\\displaystyle L_{0} = \\frac{0.577350269189626}{\\sqrt{\\Sigma_{a 0}} \\sqrt{\\Sigma_{tr0}}}$"
      ],
      "text/plain": [
       "Eq(L_0, 0.577350269189626/(sqrt(Sigma_a_0)*sqrt(Sigma_tr0)))"
      ]
     },
     "metadata": {},
     "output_type": "display_data"
    },
    {
     "data": {
      "text/latex": [
       "$\\displaystyle L_{0} = 1.42$"
      ],
      "text/plain": [
       "Eq(L_0, 1.42)"
      ]
     },
     "metadata": {},
     "output_type": "display_data"
    },
    {
     "data": {
      "text/latex": [
       "$\\displaystyle L^{2} = L_{0}^{2} \\theta + L_{1}^{2} \\cdot \\left(1 - \\theta\\right)$"
      ],
      "text/plain": [
       "Eq(L^2, L_0**2*theta + L_1**2*(1 - theta))"
      ]
     },
     "metadata": {},
     "output_type": "display_data"
    },
    {
     "data": {
      "text/latex": [
       "$\\displaystyle L^{2} = 4.04$"
      ],
      "text/plain": [
       "Eq(L^2, 4.04)"
      ]
     },
     "metadata": {},
     "output_type": "display_data"
    },
    {
     "data": {
      "text/latex": [
       "$\\displaystyle M^{2} = L^{2} + \\tau_{t}$"
      ],
      "text/plain": [
       "Eq(M^2, L^2 + tau_t)"
      ]
     },
     "metadata": {},
     "output_type": "display_data"
    },
    {
     "data": {
      "text/latex": [
       "$\\displaystyle M^{2} = 66.9$"
      ],
      "text/plain": [
       "Eq(M^2, 66.9)"
      ]
     },
     "metadata": {},
     "output_type": "display_data"
    },
    {
     "data": {
      "text/latex": [
       "$\\displaystyle \\delta_{eff} = 0.1 M^{2} + 3.2$"
      ],
      "text/plain": [
       "Eq(delta_eff, 0.1*M^2 + 3.2)"
      ]
     },
     "metadata": {},
     "output_type": "display_data"
    },
    {
     "data": {
      "text/latex": [
       "$\\displaystyle \\delta_{eff} = 9.89$"
      ],
      "text/plain": [
       "Eq(delta_eff, 9.89)"
      ]
     },
     "metadata": {},
     "output_type": "display_data"
    },
    {
     "data": {
      "text/latex": [
       "$\\displaystyle H_{eff} = 100 H + 2 \\delta_{eff}$"
      ],
      "text/plain": [
       "Eq(H_eff, 100*H + 2*delta_eff)"
      ]
     },
     "metadata": {},
     "output_type": "display_data"
    },
    {
     "data": {
      "text/latex": [
       "$\\displaystyle H_{eff} = 298.0$"
      ],
      "text/plain": [
       "Eq(H_eff, 298.0)"
      ]
     },
     "metadata": {},
     "output_type": "display_data"
    },
    {
     "data": {
      "text/latex": [
       "$\\displaystyle R_{eff} = 50 D + \\delta_{eff}$"
      ],
      "text/plain": [
       "Eq(R_eff, 50*D + delta_eff)"
      ]
     },
     "metadata": {},
     "output_type": "display_data"
    },
    {
     "data": {
      "text/latex": [
       "$\\displaystyle R_{eff} = 149.0$"
      ],
      "text/plain": [
       "Eq(R_eff, 149.0)"
      ]
     },
     "metadata": {},
     "output_type": "display_data"
    },
    {
     "data": {
      "text/latex": [
       "$\\displaystyle B^{2} = \\frac{5.784025}{R_{eff}^{2}} + \\frac{\\pi^{2}}{H_{eff}^{2}}$"
      ],
      "text/plain": [
       "Eq(B^2, 5.784025/R_eff**2 + pi**2/H_eff**2)"
      ]
     },
     "metadata": {},
     "output_type": "display_data"
    },
    {
     "data": {
      "text/latex": [
       "$\\displaystyle B^{2} = 0.000372$"
      ],
      "text/plain": [
       "Eq(B^2, 0.000372)"
      ]
     },
     "metadata": {},
     "output_type": "display_data"
    },
    {
     "data": {
      "text/latex": [
       "$\\displaystyle P_{mod} = e^{- B^{2} \\tau_{t}}$"
      ],
      "text/plain": [
       "Eq(P_mod, exp(-B^2*tau_t))"
      ]
     },
     "metadata": {},
     "output_type": "display_data"
    },
    {
     "data": {
      "text/latex": [
       "$\\displaystyle P_{mod} = 0.977$"
      ],
      "text/plain": [
       "Eq(P_mod, 0.977)"
      ]
     },
     "metadata": {},
     "output_type": "display_data"
    },
    {
     "data": {
      "text/latex": [
       "$\\displaystyle P_{dif} = \\frac{1}{B^{2} L^{2} + 1}$"
      ],
      "text/plain": [
       "Eq(P_dif, 1/(B^2*L^2 + 1))"
      ]
     },
     "metadata": {},
     "output_type": "display_data"
    },
    {
     "data": {
      "text/latex": [
       "$\\displaystyle P_{dif} = 0.999$"
      ],
      "text/plain": [
       "Eq(P_dif, 0.999)"
      ]
     },
     "metadata": {},
     "output_type": "display_data"
    },
    {
     "data": {
      "text/latex": [
       "$\\displaystyle K_{eff} = K_{inf} P_{dif} P_{mod}$"
      ],
      "text/plain": [
       "Eq(K_eff, K_inf*P_dif*P_mod)"
      ]
     },
     "metadata": {},
     "output_type": "display_data"
    },
    {
     "data": {
      "text/latex": [
       "$\\displaystyle K_{eff} = 1.0649$"
      ],
      "text/plain": [
       "Eq(K_eff, 1.0649)"
      ]
     },
     "metadata": {},
     "output_type": "display_data"
    }
   ],
   "source": [
    "def main2(gr,cold=True,xi=xi):\n",
    "    TTT=gr[list(gr.keys())[-1]]\n",
    "    graph=main(xi=xi,TTT=TTT,Temp=True,VAR=1,cold=cold)\n",
    "    graph3=graph.copy()\n",
    "    graph=graph_copy.copy()\n",
    "    return graph3\n",
    "g_sc=main2(g_fc)\n",
    "g_sh=main2(g_fh,cold=False)"
   ]
  },
  {
   "cell_type": "markdown",
   "id": "4823f9c3-0f8e-4d27-83ae-c65d4cb0bb52",
   "metadata": {
    "tags": []
   },
   "source": [
    "## Расчет горячего реактора на конец кампании"
   ]
  },
  {
   "cell_type": "code",
   "execution_count": 8,
   "id": "0269fb27-830e-4eea-94db-c6460bd0e0f4",
   "metadata": {},
   "outputs": [
    {
     "name": "stdout",
     "output_type": "stream",
     "text": [
      "S_s\n"
     ]
    },
    {
     "data": {
      "text/latex": [
       "$\\displaystyle X = 0.03$"
      ],
      "text/plain": [
       "Eq(X, 0.03)"
      ]
     },
     "metadata": {},
     "output_type": "display_data"
    },
    {
     "data": {
      "text/latex": [
       "$\\displaystyle σ_{s5} = 1.38 \\cdot 10^{-23}$"
      ],
      "text/plain": [
       "Eq(σ_s5, 1.38e-23)"
      ]
     },
     "metadata": {},
     "output_type": "display_data"
    },
    {
     "data": {
      "text/latex": [
       "$\\displaystyle σ_{s8} = 8.9 \\cdot 10^{-24}$"
      ],
      "text/plain": [
       "Eq(σ_s8, 8.9e-24)"
      ]
     },
     "metadata": {},
     "output_type": "display_data"
    },
    {
     "data": {
      "text/latex": [
       "$\\displaystyle σ_{sZr} = 6.4 \\cdot 10^{-24}$"
      ],
      "text/plain": [
       "Eq(σ_sZr, 6.4e-24)"
      ]
     },
     "metadata": {},
     "output_type": "display_data"
    },
    {
     "data": {
      "text/latex": [
       "$\\displaystyle σ_{sO2} = 3.76 \\cdot 10^{-24}$"
      ],
      "text/plain": [
       "Eq(σ_sO2, 3.76e-24)"
      ]
     },
     "metadata": {},
     "output_type": "display_data"
    },
    {
     "data": {
      "text/latex": [
       "$\\displaystyle σ_{sss} = 1.1 \\cdot 10^{-23}$"
      ],
      "text/plain": [
       "Eq(σ_sss, 1.1e-23)"
      ]
     },
     "metadata": {},
     "output_type": "display_data"
    },
    {
     "data": {
      "text/latex": [
       "$\\displaystyle σ_{sHe} = 8.0 \\cdot 10^{-25}$"
      ],
      "text/plain": [
       "Eq(σ_sHe, 8.0e-25)"
      ]
     },
     "metadata": {},
     "output_type": "display_data"
    },
    {
     "data": {
      "text/latex": [
       "$\\displaystyle σ_{sH2O} = 1.03 \\cdot 10^{-22}$"
      ],
      "text/plain": [
       "Eq(σ_sH2O, 1.03e-22)"
      ]
     },
     "metadata": {},
     "output_type": "display_data"
    },
    {
     "data": {
      "text/latex": [
       "$\\displaystyle T = 760.726293809075$"
      ],
      "text/plain": [
       "Eq(T, 760.726293809075)"
      ]
     },
     "metadata": {},
     "output_type": "display_data"
    },
    {
     "data": {
      "text/latex": [
       "$\\displaystyle ρ_{H2O} = 0.7129422625882127$"
      ],
      "text/plain": [
       "Eq(ρ_H2O, 0.7129422625882127)"
      ]
     },
     "metadata": {},
     "output_type": "display_data"
    },
    {
     "data": {
      "text/latex": [
       "$\\displaystyle g_{a 5} = 0.926$"
      ],
      "text/plain": [
       "Eq(g_a_5, 0.926)"
      ]
     },
     "metadata": {},
     "output_type": "display_data"
    },
    {
     "data": {
      "text/latex": [
       "$\\displaystyle g_{f 5} = 0.916$"
      ],
      "text/plain": [
       "Eq(g_f_5, 0.916)"
      ]
     },
     "metadata": {},
     "output_type": "display_data"
    },
    {
     "data": {
      "text/latex": [
       "$\\displaystyle σ_{a5} = \\frac{\\sqrt{\\pi} \\sqrt{T_{0}} g_{a 5} σ_{a5 0}}{2 \\sqrt{T}}$"
      ],
      "text/plain": [
       "Eq(σ_a5, sqrt(pi)*sqrt(T_0)*g_a_5*σ_a5_0/(2*sqrt(T)))"
      ]
     },
     "metadata": {},
     "output_type": "display_data"
    },
    {
     "data": {
      "text/latex": [
       "$\\displaystyle σ_{a5} = 3.47 \\cdot 10^{-22}$"
      ],
      "text/plain": [
       "Eq(σ_a5, 3.47e-22)"
      ]
     },
     "metadata": {},
     "output_type": "display_data"
    },
    {
     "data": {
      "text/latex": [
       "$\\displaystyle σ_{a8} = \\frac{\\sqrt{\\pi} \\sqrt{T_{0}} σ_{a8 0}}{2 \\sqrt{T}}$"
      ],
      "text/plain": [
       "Eq(σ_a8, sqrt(pi)*sqrt(T_0)*σ_a8_0/(2*sqrt(T)))"
      ]
     },
     "metadata": {},
     "output_type": "display_data"
    },
    {
     "data": {
      "text/latex": [
       "$\\displaystyle σ_{a8} = 1.49 \\cdot 10^{-24}$"
      ],
      "text/plain": [
       "Eq(σ_a8, 1.49e-24)"
      ]
     },
     "metadata": {},
     "output_type": "display_data"
    },
    {
     "data": {
      "text/latex": [
       "$\\displaystyle σ_{aZr} = \\frac{\\sqrt{\\pi} \\sqrt{T_{0}} σ_{aZr 0}}{2 \\sqrt{T}}$"
      ],
      "text/plain": [
       "Eq(σ_aZr, sqrt(pi)*sqrt(T_0)*σ_aZr_0/(2*sqrt(T)))"
      ]
     },
     "metadata": {},
     "output_type": "display_data"
    },
    {
     "data": {
      "text/latex": [
       "$\\displaystyle σ_{aZr} = 1.02 \\cdot 10^{-25}$"
      ],
      "text/plain": [
       "Eq(σ_aZr, 1.02e-25)"
      ]
     },
     "metadata": {},
     "output_type": "display_data"
    },
    {
     "data": {
      "text/latex": [
       "$\\displaystyle σ_{aO2} = \\frac{\\sqrt{\\pi} \\sqrt{T_{0}} σ_{aO2 0}}{2 \\sqrt{T}}$"
      ],
      "text/plain": [
       "Eq(σ_aO2, sqrt(pi)*sqrt(T_0)*σ_aO2_0/(2*sqrt(T)))"
      ]
     },
     "metadata": {},
     "output_type": "display_data"
    },
    {
     "data": {
      "text/latex": [
       "$\\displaystyle σ_{aO2} = 1.49 \\cdot 10^{-28}$"
      ],
      "text/plain": [
       "Eq(σ_aO2, 1.49e-28)"
      ]
     },
     "metadata": {},
     "output_type": "display_data"
    },
    {
     "data": {
      "text/latex": [
       "$\\displaystyle σ_{aHe} = \\frac{\\sqrt{\\pi} \\sqrt{T_{0}} σ_{aHe 0}}{2 \\sqrt{T}}$"
      ],
      "text/plain": [
       "Eq(σ_aHe, sqrt(pi)*sqrt(T_0)*σ_aHe_0/(2*sqrt(T)))"
      ]
     },
     "metadata": {},
     "output_type": "display_data"
    },
    {
     "data": {
      "text/latex": [
       "$\\displaystyle σ_{aHe} = 3.85 \\cdot 10^{-27}$"
      ],
      "text/plain": [
       "Eq(σ_aHe, 3.85e-27)"
      ]
     },
     "metadata": {},
     "output_type": "display_data"
    },
    {
     "data": {
      "text/latex": [
       "$\\displaystyle σ_{aH2O} = \\frac{\\sqrt{\\pi} \\sqrt{T_{0}} σ_{aH2O 0}}{2 \\sqrt{T}}$"
      ],
      "text/plain": [
       "Eq(σ_aH2O, sqrt(pi)*sqrt(T_0)*σ_aH2O_0/(2*sqrt(T)))"
      ]
     },
     "metadata": {},
     "output_type": "display_data"
    },
    {
     "data": {
      "text/latex": [
       "$\\displaystyle σ_{aH2O} = 3.63 \\cdot 10^{-25}$"
      ],
      "text/plain": [
       "Eq(σ_aH2O, 3.63e-25)"
      ]
     },
     "metadata": {},
     "output_type": "display_data"
    },
    {
     "data": {
      "text/latex": [
       "$\\displaystyle σ_{f5} = \\frac{\\sqrt{\\pi} \\sqrt{T_{0}} g_{f 5} σ_{f5 0}}{2 \\sqrt{T}}$"
      ],
      "text/plain": [
       "Eq(σ_f5, sqrt(pi)*sqrt(T_0)*g_f_5*σ_f5_0/(2*sqrt(T)))"
      ]
     },
     "metadata": {},
     "output_type": "display_data"
    },
    {
     "data": {
      "text/latex": [
       "$\\displaystyle σ_{f5} = 2.94 \\cdot 10^{-22}$"
      ],
      "text/plain": [
       "Eq(σ_f5, 2.94e-22)"
      ]
     },
     "metadata": {},
     "output_type": "display_data"
    },
    {
     "data": {
      "text/latex": [
       "$\\displaystyle σ_{ass} = \\frac{\\sqrt{\\pi} \\sqrt{T_{0}} σ_{ass 0}}{2 \\sqrt{T}}$"
      ],
      "text/plain": [
       "Eq(σ_ass, sqrt(pi)*sqrt(T_0)*σ_ass_0/(2*sqrt(T)))"
      ]
     },
     "metadata": {},
     "output_type": "display_data"
    },
    {
     "data": {
      "text/latex": [
       "$\\displaystyle σ_{ass} = 1.58 \\cdot 10^{-24}$"
      ],
      "text/plain": [
       "Eq(σ_ass, 1.58e-24)"
      ]
     },
     "metadata": {},
     "output_type": "display_data"
    },
    {
     "data": {
      "text/latex": [
       "$\\displaystyle Σξ_{sH2O} = 0.963$"
      ],
      "text/plain": [
       "Eq(Σξ_sH2O, 0.963)"
      ]
     },
     "metadata": {},
     "output_type": "display_data"
    },
    {
     "data": {
      "text/latex": [
       "$\\displaystyle Σξ_{sHe} = 9.11 \\cdot 10^{-6}$"
      ],
      "text/plain": [
       "Eq(Σξ_sHe, 9.11e-6)"
      ]
     },
     "metadata": {},
     "output_type": "display_data"
    },
    {
     "data": {
      "text/latex": [
       "$\\displaystyle Σξ_{scm} = 0.0283$"
      ],
      "text/plain": [
       "Eq(Σξ_scm, 0.0283)"
      ]
     },
     "metadata": {},
     "output_type": "display_data"
    },
    {
     "data": {
      "text/latex": [
       "$\\displaystyle A_{H2O} = 18$"
      ],
      "text/plain": [
       "Eq(A_H2O, 18)"
      ]
     },
     "metadata": {},
     "output_type": "display_data"
    },
    {
     "data": {
      "text/latex": [
       "$\\displaystyle N_{H2O} = \\frac{N_{a} ρ_{H2O}}{A_{H2O}}$"
      ],
      "text/plain": [
       "Eq(N_H2O, N_a*ρ_H2O/A_H2O)"
      ]
     },
     "metadata": {},
     "output_type": "display_data"
    },
    {
     "data": {
      "text/latex": [
       "$\\displaystyle N_{H2O} = 2.39 \\cdot 10^{22}$"
      ],
      "text/plain": [
       "Eq(N_H2O, 2.39e+22)"
      ]
     },
     "metadata": {},
     "output_type": "display_data"
    },
    {
     "data": {
      "text/latex": [
       "$\\displaystyle ρ_{UO2} = 10$"
      ],
      "text/plain": [
       "Eq(ρ_UO2, 10)"
      ]
     },
     "metadata": {},
     "output_type": "display_data"
    },
    {
     "data": {
      "text/latex": [
       "$\\displaystyle A_{UO2} = 270.7$"
      ],
      "text/plain": [
       "Eq(A_UO2, 270.7)"
      ]
     },
     "metadata": {},
     "output_type": "display_data"
    },
    {
     "data": {
      "text/latex": [
       "$\\displaystyle N_{UO2} = \\frac{N_{a} ρ_{UO2}}{A_{UO2}}$"
      ],
      "text/plain": [
       "Eq(N_UO2, N_a*ρ_UO2/A_UO2)"
      ]
     },
     "metadata": {},
     "output_type": "display_data"
    },
    {
     "data": {
      "text/latex": [
       "$\\displaystyle N_{UO2} = 2.22 \\cdot 10^{22}$"
      ],
      "text/plain": [
       "Eq(N_UO2, 2.22e+22)"
      ]
     },
     "metadata": {},
     "output_type": "display_data"
    },
    {
     "data": {
      "text/latex": [
       "$\\displaystyle N_{U} = N_{UO2}$"
      ],
      "text/plain": [
       "Eq(N_U, N_UO2)"
      ]
     },
     "metadata": {},
     "output_type": "display_data"
    },
    {
     "data": {
      "text/latex": [
       "$\\displaystyle N_{U} = 2.22 \\cdot 10^{22}$"
      ],
      "text/plain": [
       "Eq(N_U, 2.22e+22)"
      ]
     },
     "metadata": {},
     "output_type": "display_data"
    },
    {
     "data": {
      "text/latex": [
       "$\\displaystyle N_{O} = 2 N_{UO2}$"
      ],
      "text/plain": [
       "Eq(N_O, 2*N_UO2)"
      ]
     },
     "metadata": {},
     "output_type": "display_data"
    },
    {
     "data": {
      "text/latex": [
       "$\\displaystyle N_{O} = 4.45 \\cdot 10^{22}$"
      ],
      "text/plain": [
       "Eq(N_O, 4.45e+22)"
      ]
     },
     "metadata": {},
     "output_type": "display_data"
    },
    {
     "data": {
      "text/latex": [
       "$\\displaystyle N_{5} = N_{U} X$"
      ],
      "text/plain": [
       "Eq(N_5, N_U*X)"
      ]
     },
     "metadata": {},
     "output_type": "display_data"
    },
    {
     "data": {
      "text/latex": [
       "$\\displaystyle N_{5} = 6.67 \\cdot 10^{20}$"
      ],
      "text/plain": [
       "Eq(N_5, 6.67e+20)"
      ]
     },
     "metadata": {},
     "output_type": "display_data"
    },
    {
     "data": {
      "text/latex": [
       "$\\displaystyle N_{8} = N_{U} \\left(1 - X\\right)$"
      ],
      "text/plain": [
       "Eq(N_8, N_U*(1 - X))"
      ]
     },
     "metadata": {},
     "output_type": "display_data"
    },
    {
     "data": {
      "text/latex": [
       "$\\displaystyle N_{8} = 2.16 \\cdot 10^{22}$"
      ],
      "text/plain": [
       "Eq(N_8, 2.16e+22)"
      ]
     },
     "metadata": {},
     "output_type": "display_data"
    },
    {
     "data": {
      "text/latex": [
       "$\\displaystyle N_{ss} = 8.978 \\cdot 10^{22}$"
      ],
      "text/plain": [
       "Eq(N_ss, 8.978e+22)"
      ]
     },
     "metadata": {},
     "output_type": "display_data"
    },
    {
     "data": {
      "text/latex": [
       "$\\displaystyle ρ_{Zr} = 6.4$"
      ],
      "text/plain": [
       "Eq(ρ_Zr, 6.4)"
      ]
     },
     "metadata": {},
     "output_type": "display_data"
    },
    {
     "data": {
      "text/latex": [
       "$\\displaystyle A_{Zr} = 91.22$"
      ],
      "text/plain": [
       "Eq(A_Zr, 91.22)"
      ]
     },
     "metadata": {},
     "output_type": "display_data"
    },
    {
     "data": {
      "text/latex": [
       "$\\displaystyle N_{Zr} = \\frac{N_{a} ρ_{Zr}}{A_{Zr}}$"
      ],
      "text/plain": [
       "Eq(N_Zr, N_a*ρ_Zr/A_Zr)"
      ]
     },
     "metadata": {},
     "output_type": "display_data"
    },
    {
     "data": {
      "text/latex": [
       "$\\displaystyle N_{Zr} = 4.23 \\cdot 10^{22}$"
      ],
      "text/plain": [
       "Eq(N_Zr, 4.23e+22)"
      ]
     },
     "metadata": {},
     "output_type": "display_data"
    },
    {
     "data": {
      "text/latex": [
       "$\\displaystyle ρ_{He} = 0.000178$"
      ],
      "text/plain": [
       "Eq(ρ_He, 0.000178)"
      ]
     },
     "metadata": {},
     "output_type": "display_data"
    },
    {
     "data": {
      "text/latex": [
       "$\\displaystyle A_{He} = 4.003$"
      ],
      "text/plain": [
       "Eq(A_He, 4.003)"
      ]
     },
     "metadata": {},
     "output_type": "display_data"
    },
    {
     "data": {
      "text/latex": [
       "$\\displaystyle N_{He} = \\frac{N_{a} ρ_{He}}{A_{He}}$"
      ],
      "text/plain": [
       "Eq(N_He, N_a*ρ_He/A_He)"
      ]
     },
     "metadata": {},
     "output_type": "display_data"
    },
    {
     "data": {
      "text/latex": [
       "$\\displaystyle N_{He} = 2.68 \\cdot 10^{19}$"
      ],
      "text/plain": [
       "Eq(N_He, 2.68e+19)"
      ]
     },
     "metadata": {},
     "output_type": "display_data"
    },
    {
     "data": {
      "text/latex": [
       "$\\displaystyle H = D$"
      ],
      "text/plain": [
       "Eq(H, D)"
      ]
     },
     "metadata": {},
     "output_type": "display_data"
    },
    {
     "data": {
      "text/latex": [
       "$\\displaystyle H = 2.78$"
      ],
      "text/plain": [
       "Eq(H, 2.78)"
      ]
     },
     "metadata": {},
     "output_type": "display_data"
    },
    {
     "data": {
      "text/latex": [
       "$\\displaystyle m_{UO2} = 1000 F_{fuel} H n_{FE} n_{ceil} ρ_{UO2}$"
      ],
      "text/plain": [
       "Eq(m_UO2, 1000*F_fuel*H*n_FE*n_ceil*ρ_UO2)"
      ]
     },
     "metadata": {},
     "output_type": "display_data"
    },
    {
     "data": {
      "text/latex": [
       "$\\displaystyle m_{UO2} = 4.29 \\cdot 10^{4}$"
      ],
      "text/plain": [
       "Eq(m_UO2, 4.29e+4)"
      ]
     },
     "metadata": {},
     "output_type": "display_data"
    },
    {
     "data": {
      "text/latex": [
       "$\\displaystyle A_{8} = 238$"
      ],
      "text/plain": [
       "Eq(A_8, 238)"
      ]
     },
     "metadata": {},
     "output_type": "display_data"
    },
    {
     "data": {
      "text/latex": [
       "$\\displaystyle A_{5} = 235$"
      ],
      "text/plain": [
       "Eq(A_5, 235)"
      ]
     },
     "metadata": {},
     "output_type": "display_data"
    },
    {
     "data": {
      "text/latex": [
       "$\\displaystyle m_{5} = \\frac{A_{8} m_{UO2}}{A_{UO2} \\cdot \\left(1 + \\frac{A_{8} \\cdot \\left(1 - X\\right)}{A_{5} X}\\right)}$"
      ],
      "text/plain": [
       "Eq(m_5, A_8*m_UO2/(A_UO2*(1 + A_8*(1 - X)/(A_5*X))))"
      ]
     },
     "metadata": {},
     "output_type": "display_data"
    },
    {
     "data": {
      "text/latex": [
       "$\\displaystyle m_{5} = 1.12 \\cdot 10^{3}$"
      ],
      "text/plain": [
       "Eq(m_5, 1.12e+3)"
      ]
     },
     "metadata": {},
     "output_type": "display_data"
    },
    {
     "data": {
      "text/latex": [
       "$\\displaystyle Σ_{a5} = N_{5} σ_{a5}$"
      ],
      "text/plain": [
       "Eq(Σ_a5, N_5*σ_a5)"
      ]
     },
     "metadata": {},
     "output_type": "display_data"
    },
    {
     "data": {
      "text/latex": [
       "$\\displaystyle Σ_{a5} = 0.232$"
      ],
      "text/plain": [
       "Eq(Σ_a5, 0.232)"
      ]
     },
     "metadata": {},
     "output_type": "display_data"
    },
    {
     "data": {
      "text/latex": [
       "$\\displaystyle Σ_{s5} = N_{5} σ_{s5}$"
      ],
      "text/plain": [
       "Eq(Σ_s5, N_5*σ_s5)"
      ]
     },
     "metadata": {},
     "output_type": "display_data"
    },
    {
     "data": {
      "text/latex": [
       "$\\displaystyle Σ_{s5} = 0.00921$"
      ],
      "text/plain": [
       "Eq(Σ_s5, 0.00921)"
      ]
     },
     "metadata": {},
     "output_type": "display_data"
    },
    {
     "data": {
      "text/latex": [
       "$\\displaystyle Σ_{f5} = N_{5} σ_{f5}$"
      ],
      "text/plain": [
       "Eq(Σ_f5, N_5*σ_f5)"
      ]
     },
     "metadata": {},
     "output_type": "display_data"
    },
    {
     "data": {
      "text/latex": [
       "$\\displaystyle Σ_{f5} = 0.196$"
      ],
      "text/plain": [
       "Eq(Σ_f5, 0.196)"
      ]
     },
     "metadata": {},
     "output_type": "display_data"
    },
    {
     "data": {
      "text/latex": [
       "$\\displaystyle Σ_{a8} = N_{8} σ_{a8}$"
      ],
      "text/plain": [
       "Eq(Σ_a8, N_8*σ_a8)"
      ]
     },
     "metadata": {},
     "output_type": "display_data"
    },
    {
     "data": {
      "text/latex": [
       "$\\displaystyle Σ_{a8} = 0.0322$"
      ],
      "text/plain": [
       "Eq(Σ_a8, 0.0322)"
      ]
     },
     "metadata": {},
     "output_type": "display_data"
    },
    {
     "data": {
      "text/latex": [
       "$\\displaystyle Σ_{s8} = N_{8} σ_{s8}$"
      ],
      "text/plain": [
       "Eq(Σ_s8, N_8*σ_s8)"
      ]
     },
     "metadata": {},
     "output_type": "display_data"
    },
    {
     "data": {
      "text/latex": [
       "$\\displaystyle Σ_{s8} = 0.192$"
      ],
      "text/plain": [
       "Eq(Σ_s8, 0.192)"
      ]
     },
     "metadata": {},
     "output_type": "display_data"
    },
    {
     "data": {
      "text/latex": [
       "$\\displaystyle Σ_{aO2} = N_{O} σ_{aO2}$"
      ],
      "text/plain": [
       "Eq(Σ_aO2, N_O*σ_aO2)"
      ]
     },
     "metadata": {},
     "output_type": "display_data"
    },
    {
     "data": {
      "text/latex": [
       "$\\displaystyle Σ_{aO2} = 6.61 \\cdot 10^{-6}$"
      ],
      "text/plain": [
       "Eq(Σ_aO2, 6.61e-6)"
      ]
     },
     "metadata": {},
     "output_type": "display_data"
    },
    {
     "data": {
      "text/latex": [
       "$\\displaystyle Σ_{sO2} = N_{O} σ_{sO2}$"
      ],
      "text/plain": [
       "Eq(Σ_sO2, N_O*σ_sO2)"
      ]
     },
     "metadata": {},
     "output_type": "display_data"
    },
    {
     "data": {
      "text/latex": [
       "$\\displaystyle Σ_{sO2} = 0.167$"
      ],
      "text/plain": [
       "Eq(Σ_sO2, 0.167)"
      ]
     },
     "metadata": {},
     "output_type": "display_data"
    },
    {
     "data": {
      "text/latex": [
       "$\\displaystyle Σ_{acm} = 0.114$"
      ],
      "text/plain": [
       "Eq(Σ_acm, 0.114)"
      ]
     },
     "metadata": {},
     "output_type": "display_data"
    },
    {
     "data": {
      "text/latex": [
       "$\\displaystyle Σ_{scm} = 0.844$"
      ],
      "text/plain": [
       "Eq(Σ_scm, 0.844)"
      ]
     },
     "metadata": {},
     "output_type": "display_data"
    },
    {
     "data": {
      "text/latex": [
       "$\\displaystyle Σ_{aHe} = N_{He} σ_{aHe}$"
      ],
      "text/plain": [
       "Eq(Σ_aHe, N_He*σ_aHe)"
      ]
     },
     "metadata": {},
     "output_type": "display_data"
    },
    {
     "data": {
      "text/latex": [
       "$\\displaystyle Σ_{aHe} = 1.03 \\cdot 10^{-7}$"
      ],
      "text/plain": [
       "Eq(Σ_aHe, 1.03e-7)"
      ]
     },
     "metadata": {},
     "output_type": "display_data"
    },
    {
     "data": {
      "text/latex": [
       "$\\displaystyle Σ_{sHe} = N_{He} σ_{sHe}$"
      ],
      "text/plain": [
       "Eq(Σ_sHe, N_He*σ_sHe)"
      ]
     },
     "metadata": {},
     "output_type": "display_data"
    },
    {
     "data": {
      "text/latex": [
       "$\\displaystyle Σ_{sHe} = 2.14 \\cdot 10^{-5}$"
      ],
      "text/plain": [
       "Eq(Σ_sHe, 2.14e-5)"
      ]
     },
     "metadata": {},
     "output_type": "display_data"
    },
    {
     "data": {
      "text/latex": [
       "$\\displaystyle Σ_{aH2O} = N_{H2O} σ_{aH2O}$"
      ],
      "text/plain": [
       "Eq(Σ_aH2O, N_H2O*σ_aH2O)"
      ]
     },
     "metadata": {},
     "output_type": "display_data"
    },
    {
     "data": {
      "text/latex": [
       "$\\displaystyle Σ_{aH2O} = 0.00866$"
      ],
      "text/plain": [
       "Eq(Σ_aH2O, 0.00866)"
      ]
     },
     "metadata": {},
     "output_type": "display_data"
    },
    {
     "data": {
      "text/latex": [
       "$\\displaystyle Σ_{sH2O} = N_{H2O} σ_{sH2O}$"
      ],
      "text/plain": [
       "Eq(Σ_sH2O, N_H2O*σ_sH2O)"
      ]
     },
     "metadata": {},
     "output_type": "display_data"
    },
    {
     "data": {
      "text/latex": [
       "$\\displaystyle Σ_{sH2O} = 2.46$"
      ],
      "text/plain": [
       "Eq(Σ_sH2O, 2.46)"
      ]
     },
     "metadata": {},
     "output_type": "display_data"
    },
    {
     "data": {
      "text/latex": [
       "$\\displaystyle \\Sigma_{a 0} = Σ_{a5} + Σ_{a8} + Σ_{aO2}$"
      ],
      "text/plain": [
       "Eq(Sigma_a_0, Σ_a5 + Σ_a8 + Σ_aO2)"
      ]
     },
     "metadata": {},
     "output_type": "display_data"
    },
    {
     "data": {
      "text/latex": [
       "$\\displaystyle \\Sigma_{a 0} = 0.264$"
      ],
      "text/plain": [
       "Eq(Sigma_a_0, 0.264)"
      ]
     },
     "metadata": {},
     "output_type": "display_data"
    },
    {
     "data": {
      "text/latex": [
       "$\\displaystyle \\Sigma_{s 0} = Σ_{s5} + Σ_{s8} + Σ_{sO2}$"
      ],
      "text/plain": [
       "Eq(Sigma_s_0, Σ_s5 + Σ_s8 + Σ_sO2)"
      ]
     },
     "metadata": {},
     "output_type": "display_data"
    },
    {
     "data": {
      "text/latex": [
       "$\\displaystyle \\Sigma_{s 0} = 0.369$"
      ],
      "text/plain": [
       "Eq(Sigma_s_0, 0.369)"
      ]
     },
     "metadata": {},
     "output_type": "display_data"
    },
    {
     "data": {
      "text/latex": [
       "$\\displaystyle \\Sigma_{a 1} = \\frac{F_{HE} Σ_{aHe} + f_{cmE} Σ_{acm} + f_{moderE} Σ_{aH2O}}{f_{1}}$"
      ],
      "text/plain": [
       "Eq(Sigma_a_1, (F_HE*Σ_aHe + f_cmE*Σ_acm + f_moderE*Σ_aH2O)/f_1)"
      ]
     },
     "metadata": {},
     "output_type": "display_data"
    },
    {
     "data": {
      "text/latex": [
       "$\\displaystyle \\Sigma_{a 1} = 0.0287$"
      ],
      "text/plain": [
       "Eq(Sigma_a_1, 0.0287)"
      ]
     },
     "metadata": {},
     "output_type": "display_data"
    },
    {
     "data": {
      "text/latex": [
       "$\\displaystyle \\Sigma_{s 1} = \\frac{F_{HE} Σ_{sHe} + f_{cmE} Σ_{scm} + f_{moderE} Σ_{sH2O}}{f_{1}}$"
      ],
      "text/plain": [
       "Eq(Sigma_s_1, (F_HE*Σ_sHe + f_cmE*Σ_scm + f_moderE*Σ_sH2O)/f_1)"
      ]
     },
     "metadata": {},
     "output_type": "display_data"
    },
    {
     "data": {
      "text/latex": [
       "$\\displaystyle \\Sigma_{s 1} = 2.11$"
      ],
      "text/plain": [
       "Eq(Sigma_s_1, 2.11)"
      ]
     },
     "metadata": {},
     "output_type": "display_data"
    },
    {
     "data": {
      "text/latex": [
       "$\\displaystyle Σξ_{s 1} = \\frac{F_{HE} Σξ_{sHe} + f_{cmE} Σξ_{scm} + f_{moderE} Σξ_{sH2O}}{f_{1}}$"
      ],
      "text/plain": [
       "Eq(Σξ_s_1, (F_HE*Σξ_sHe + f_cmE*Σξ_scm + f_moderE*Σξ_sH2O)/f_1)"
      ]
     },
     "metadata": {},
     "output_type": "display_data"
    },
    {
     "data": {
      "text/latex": [
       "$\\displaystyle Σξ_{s 1} = 0.77$"
      ],
      "text/plain": [
       "Eq(Σξ_s_1, 0.77)"
      ]
     },
     "metadata": {},
     "output_type": "display_data"
    },
    {
     "data": {
      "text/latex": [
       "$\\displaystyle \\nu_{f5} = 2.416$"
      ],
      "text/plain": [
       "Eq(nu_f5, 2.416)"
      ]
     },
     "metadata": {},
     "output_type": "display_data"
    },
    {
     "data": {
      "text/latex": [
       "$\\displaystyle E_{f} = 3.2 \\cdot 10^{-17}$"
      ],
      "text/plain": [
       "Eq(E_f, 3.2e-17)"
      ]
     },
     "metadata": {},
     "output_type": "display_data"
    },
    {
     "data": {
      "text/latex": [
       "$\\displaystyle E_{f} = 3.2 \\cdot 10^{-17}$"
      ],
      "text/plain": [
       "Eq(E_f, 3.2e-17)"
      ]
     },
     "metadata": {},
     "output_type": "display_data"
    },
    {
     "data": {
      "text/latex": [
       "$\\displaystyle V_{fuel} = \\frac{F_{fuel} V}{f_{E}}$"
      ],
      "text/plain": [
       "Eq(V_fuel, F_fuel*V/f_E)"
      ]
     },
     "metadata": {},
     "output_type": "display_data"
    },
    {
     "data": {
      "text/latex": [
       "$\\displaystyle V_{fuel} = 5.04$"
      ],
      "text/plain": [
       "Eq(V_fuel, 5.04)"
      ]
     },
     "metadata": {},
     "output_type": "display_data"
    },
    {
     "data": {
      "text/latex": [
       "$\\displaystyle T_{k} = 3600 T_{p} nf$"
      ],
      "text/plain": [
       "Eq(T_k, 3600*T_p*nf)"
      ]
     },
     "metadata": {},
     "output_type": "display_data"
    },
    {
     "data": {
      "text/latex": [
       "$\\displaystyle T_{k} = 1.01 \\cdot 10^{8}$"
      ],
      "text/plain": [
       "Eq(T_k, 1.01e+8)"
      ]
     },
     "metadata": {},
     "output_type": "display_data"
    },
    {
     "data": {
      "text/latex": [
       "$\\displaystyle \\Phi = \\frac{1.0 \\cdot 10^{-6} Q_{p}}{E_{f} N_{5} V_{fuel} σ_{f5}}$"
      ],
      "text/plain": [
       "Eq(Phi, 1.0e-6*Q_p/(E_f*N_5*V_fuel*σ_f5))"
      ]
     },
     "metadata": {},
     "output_type": "display_data"
    },
    {
     "data": {
      "text/latex": [
       "$\\displaystyle \\Phi = 4.42 \\cdot 10^{13}$"
      ],
      "text/plain": [
       "Eq(Phi, 4.42e+13)"
      ]
     },
     "metadata": {},
     "output_type": "display_data"
    },
    {
     "data": {
      "text/latex": [
       "$\\displaystyle z = \\Phi T_{k} σ_{f5}$"
      ],
      "text/plain": [
       "Eq(z, Phi*T_k*σ_f5)"
      ]
     },
     "metadata": {},
     "output_type": "display_data"
    },
    {
     "data": {
      "text/latex": [
       "$\\displaystyle z = 1.31$"
      ],
      "text/plain": [
       "Eq(z, 1.31)"
      ]
     },
     "metadata": {},
     "output_type": "display_data"
    },
    {
     "data": {
      "text/latex": [
       "$\\displaystyle N_{5end} = N_{5} e^{- z}$"
      ],
      "text/plain": [
       "Eq(N_5end, N_5*exp(-z))"
      ]
     },
     "metadata": {},
     "output_type": "display_data"
    },
    {
     "data": {
      "text/latex": [
       "$\\displaystyle N_{5end} = 1.8 \\cdot 10^{20}$"
      ],
      "text/plain": [
       "Eq(N_5end, 1.8e+20)"
      ]
     },
     "metadata": {},
     "output_type": "display_data"
    },
    {
     "data": {
      "text/latex": [
       "$\\displaystyle \\sigma_{a9 0} = 1.0112 \\cdot 10^{-21}$"
      ],
      "text/plain": [
       "Eq(sigma_a9_0, 1.0112e-21)"
      ]
     },
     "metadata": {},
     "output_type": "display_data"
    },
    {
     "data": {
      "text/latex": [
       "$\\displaystyle \\sigma_{f9 0} = 7.4407 \\cdot 10^{-22}$"
      ],
      "text/plain": [
       "Eq(sigma_f9_0, 7.4407e-22)"
      ]
     },
     "metadata": {},
     "output_type": "display_data"
    },
    {
     "data": {
      "text/latex": [
       "$\\displaystyle \\sigma_{s9} = 7.7 \\cdot 10^{-24}$"
      ],
      "text/plain": [
       "Eq(sigma_s9, 7.7e-24)"
      ]
     },
     "metadata": {},
     "output_type": "display_data"
    },
    {
     "data": {
      "text/latex": [
       "$\\displaystyle g_{a 9} = 2.15$"
      ],
      "text/plain": [
       "Eq(g_a_9, 2.15)"
      ]
     },
     "metadata": {},
     "output_type": "display_data"
    },
    {
     "data": {
      "text/latex": [
       "$\\displaystyle g_{f 9} = 1.9$"
      ],
      "text/plain": [
       "Eq(g_f_9, 1.9)"
      ]
     },
     "metadata": {},
     "output_type": "display_data"
    },
    {
     "data": {
      "text/latex": [
       "$\\displaystyle σ_{a9} = \\frac{\\sqrt{\\pi} \\sqrt{T_{0}} g_{a 9} \\sigma_{a9 0}}{2 \\sqrt{T}}$"
      ],
      "text/plain": [
       "Eq(σ_a9, sqrt(pi)*sqrt(T_0)*g_a_9*sigma_a9_0/(2*sqrt(T)))"
      ]
     },
     "metadata": {},
     "output_type": "display_data"
    },
    {
     "data": {
      "text/latex": [
       "$\\displaystyle σ_{a9} = 1.19 \\cdot 10^{-21}$"
      ],
      "text/plain": [
       "Eq(σ_a9, 1.19e-21)"
      ]
     },
     "metadata": {},
     "output_type": "display_data"
    },
    {
     "data": {
      "text/latex": [
       "$\\displaystyle σ_{f9} = \\frac{\\sqrt{\\pi} \\sqrt{T_{0}} g_{f 9} \\sigma_{f9 0}}{2 \\sqrt{T}}$"
      ],
      "text/plain": [
       "Eq(σ_f9, sqrt(pi)*sqrt(T_0)*g_f_9*sigma_f9_0/(2*sqrt(T)))"
      ]
     },
     "metadata": {},
     "output_type": "display_data"
    },
    {
     "data": {
      "text/latex": [
       "$\\displaystyle σ_{f9} = 7.76 \\cdot 10^{-22}$"
      ],
      "text/plain": [
       "Eq(σ_f9, 7.76e-22)"
      ]
     },
     "metadata": {},
     "output_type": "display_data"
    },
    {
     "data": {
      "text/latex": [
       "$\\displaystyle \\epsilon_{start} = 1.04$"
      ],
      "text/plain": [
       "Eq(epsilon_start, 1.04)"
      ]
     },
     "metadata": {},
     "output_type": "display_data"
    },
    {
     "data": {
      "text/latex": [
       "$\\displaystyle \\varphi_{start} = 0.743$"
      ],
      "text/plain": [
       "Eq(varphi_start, 0.743)"
      ]
     },
     "metadata": {},
     "output_type": "display_data"
    },
    {
     "data": {
      "text/latex": [
       "$\\displaystyle \\nu_{f9} = 2.86$"
      ],
      "text/plain": [
       "Eq(nu_f9, 2.86)"
      ]
     },
     "metadata": {},
     "output_type": "display_data"
    },
    {
     "data": {
      "text/latex": [
       "$\\displaystyle aaa = \\frac{σ_{a9} \\left(- \\frac{\\epsilon_{start} \\nu_{f9} σ_{f9} \\cdot \\left(1 - \\varphi_{start}\\right)}{σ_{a9}} + 1\\right)}{σ_{a5}}$"
      ],
      "text/plain": [
       "Eq(aaa, σ_a9*(-epsilon_start*nu_f9*σ_f9*(1 - varphi_start)/σ_a9 + 1)/σ_a5)"
      ]
     },
     "metadata": {},
     "output_type": "display_data"
    },
    {
     "data": {
      "text/latex": [
       "$\\displaystyle aaa = 1.73$"
      ],
      "text/plain": [
       "Eq(aaa, 1.73)"
      ]
     },
     "metadata": {},
     "output_type": "display_data"
    },
    {
     "data": {
      "text/latex": [
       "$\\displaystyle N_{9} = \\frac{N_{5} \\epsilon_{start} \\nu_{f5} σ_{f5} \\cdot \\left(1 - \\varphi_{start}\\right) \\left(- e^{- aaa z} + e^{- z}\\right)}{σ_{a5} \\left(aaa - 1\\right)} + \\frac{N_{8} σ_{a8} \\cdot \\left(1 - e^{- aaa z}\\right)}{aaa σ_{a5}}$"
      ],
      "text/plain": [
       "Eq(N_9, N_5*epsilon_start*nu_f5*σ_f5*(1 - varphi_start)*(-exp(-aaa*z) + exp(-z))/(σ_a5*(aaa - 1)) + N_8*σ_a8*(1 - exp(-aaa*z))/(aaa*σ_a5))"
      ]
     },
     "metadata": {},
     "output_type": "display_data"
    },
    {
     "data": {
      "text/latex": [
       "$\\displaystyle N_{9} = 1.31 \\cdot 10^{20}$"
      ],
      "text/plain": [
       "Eq(N_9, 1.31e+20)"
      ]
     },
     "metadata": {},
     "output_type": "display_data"
    },
    {
     "data": {
      "text/latex": [
       "$\\displaystyle N_{slag} = z \\left(N_{5end} + \\frac{N_{9} σ_{f9}}{σ_{a5}}\\right)$"
      ],
      "text/plain": [
       "Eq(N_slag, z*(N_5end + N_9*σ_f9/σ_a5))"
      ]
     },
     "metadata": {},
     "output_type": "display_data"
    },
    {
     "data": {
      "text/latex": [
       "$\\displaystyle N_{slag} = 6.19 \\cdot 10^{20}$"
      ],
      "text/plain": [
       "Eq(N_slag, 6.19e+20)"
      ]
     },
     "metadata": {},
     "output_type": "display_data"
    },
    {
     "data": {
      "text/latex": [
       "$\\displaystyle C_{slag} = \\frac{N_{slag}}{N_{5}}$"
      ],
      "text/plain": [
       "Eq(C_slag, N_slag/N_5)"
      ]
     },
     "metadata": {},
     "output_type": "display_data"
    },
    {
     "data": {
      "text/latex": [
       "$\\displaystyle C_{slag} = 0.928$"
      ],
      "text/plain": [
       "Eq(C_slag, 0.928)"
      ]
     },
     "metadata": {},
     "output_type": "display_data"
    },
    {
     "data": {
      "text/latex": [
       "$\\displaystyle \\sigma_{aslag} = - 1.25 \\cdot 10^{-23} C_{slag}^{2} - 6.25 \\cdot 10^{-24} C_{slag} + 4.7 \\cdot 10^{-23}$"
      ],
      "text/plain": [
       "Eq(sigma_aslag, -1.25e-23*C_slag**2 - 6.25e-24*C_slag + 4.7e-23)"
      ]
     },
     "metadata": {},
     "output_type": "display_data"
    },
    {
     "data": {
      "text/latex": [
       "$\\displaystyle \\sigma_{aslag} = 3.04 \\cdot 10^{-23}$"
      ],
      "text/plain": [
       "Eq(sigma_aslag, 3.04e-23)"
      ]
     },
     "metadata": {},
     "output_type": "display_data"
    },
    {
     "data": {
      "text/latex": [
       "$\\displaystyle \\sigma_{aXe 0} = 2.65 \\cdot 10^{-18}$"
      ],
      "text/plain": [
       "Eq(sigma_aXe_0, 2.65e-18)"
      ]
     },
     "metadata": {},
     "output_type": "display_data"
    },
    {
     "data": {
      "text/latex": [
       "$\\displaystyle \\sigma_{aXe 0} = 2.65 \\cdot 10^{-18}$"
      ],
      "text/plain": [
       "Eq(sigma_aXe_0, 2.65e-18)"
      ]
     },
     "metadata": {},
     "output_type": "display_data"
    },
    {
     "data": {
      "text/latex": [
       "$\\displaystyle \\sigma_{aXe} = \\frac{\\sqrt{\\pi} \\sqrt{T_{0}} \\sigma_{aXe 0}}{2 \\sqrt{T}}$"
      ],
      "text/plain": [
       "Eq(sigma_aXe, sqrt(pi)*sqrt(T_0)*sigma_aXe_0/(2*sqrt(T)))"
      ]
     },
     "metadata": {},
     "output_type": "display_data"
    },
    {
     "data": {
      "text/latex": [
       "$\\displaystyle \\sigma_{aXe} = 1.46 \\cdot 10^{-18}$"
      ],
      "text/plain": [
       "Eq(sigma_aXe, 1.46e-18)"
      ]
     },
     "metadata": {},
     "output_type": "display_data"
    },
    {
     "data": {
      "text/latex": [
       "$\\displaystyle \\gamma_{Xe} = 0.003$"
      ],
      "text/plain": [
       "Eq(gamma_Xe, 0.003)"
      ]
     },
     "metadata": {},
     "output_type": "display_data"
    },
    {
     "data": {
      "text/latex": [
       "$\\displaystyle \\gamma_{I} = 0.06$"
      ],
      "text/plain": [
       "Eq(gamma_I, 0.06)"
      ]
     },
     "metadata": {},
     "output_type": "display_data"
    },
    {
     "data": {
      "text/latex": [
       "$\\displaystyle \\lambda_{Xe} = 2.1 \\cdot 10^{-5}$"
      ],
      "text/plain": [
       "Eq(lambda_Xe, 2.1e-5)"
      ]
     },
     "metadata": {},
     "output_type": "display_data"
    },
    {
     "data": {
      "text/latex": [
       "$\\displaystyle N_{Xe} = \\frac{N_{5end} \\Phi σ_{f5} \\left(\\gamma_{I} + \\gamma_{Xe}\\right)}{\\Phi \\sigma_{aXe} + \\lambda_{Xe}}$"
      ],
      "text/plain": [
       "Eq(N_Xe, N_5end*Phi*σ_f5*(gamma_I + gamma_Xe)/(Phi*sigma_aXe + lambda_Xe))"
      ]
     },
     "metadata": {},
     "output_type": "display_data"
    },
    {
     "data": {
      "text/latex": [
       "$\\displaystyle N_{Xe} = 1.72 \\cdot 10^{15}$"
      ],
      "text/plain": [
       "Eq(N_Xe, 1.72e+15)"
      ]
     },
     "metadata": {},
     "output_type": "display_data"
    },
    {
     "data": {
      "text/latex": [
       "$\\displaystyle \\sigma_{aSm 0} = 4.1 \\cdot 10^{-20}$"
      ],
      "text/plain": [
       "Eq(sigma_aSm_0, 4.1e-20)"
      ]
     },
     "metadata": {},
     "output_type": "display_data"
    },
    {
     "data": {
      "text/latex": [
       "$\\displaystyle \\sigma_{aSm 0} = 4.1 \\cdot 10^{-20}$"
      ],
      "text/plain": [
       "Eq(sigma_aSm_0, 4.1e-20)"
      ]
     },
     "metadata": {},
     "output_type": "display_data"
    },
    {
     "data": {
      "text/latex": [
       "$\\displaystyle \\sigma_{aSm} = \\frac{\\sqrt{\\pi} \\sqrt{T_{0}} \\sigma_{aSm 0}}{2 \\sqrt{T}}$"
      ],
      "text/plain": [
       "Eq(sigma_aSm, sqrt(pi)*sqrt(T_0)*sigma_aSm_0/(2*sqrt(T)))"
      ]
     },
     "metadata": {},
     "output_type": "display_data"
    },
    {
     "data": {
      "text/latex": [
       "$\\displaystyle \\sigma_{aSm} = 2.26 \\cdot 10^{-20}$"
      ],
      "text/plain": [
       "Eq(sigma_aSm, 2.26e-20)"
      ]
     },
     "metadata": {},
     "output_type": "display_data"
    },
    {
     "data": {
      "text/latex": [
       "$\\displaystyle \\gamma_{Sm} = 0.013$"
      ],
      "text/plain": [
       "Eq(gamma_Sm, 0.013)"
      ]
     },
     "metadata": {},
     "output_type": "display_data"
    },
    {
     "data": {
      "text/latex": [
       "$\\displaystyle N_{Sm} = \\frac{N_{5end} \\gamma_{Sm} σ_{f5}}{\\sigma_{aSm}}$"
      ],
      "text/plain": [
       "Eq(N_Sm, N_5end*gamma_Sm*σ_f5/sigma_aSm)"
      ]
     },
     "metadata": {},
     "output_type": "display_data"
    },
    {
     "data": {
      "text/latex": [
       "$\\displaystyle N_{Sm} = 3.05 \\cdot 10^{16}$"
      ],
      "text/plain": [
       "Eq(N_Sm, 3.05e+16)"
      ]
     },
     "metadata": {},
     "output_type": "display_data"
    },
    {
     "data": {
      "text/latex": [
       "$\\displaystyle Σ_{a5} = N_{5end} σ_{a5}$"
      ],
      "text/plain": [
       "Eq(Σ_a5, N_5end*σ_a5)"
      ]
     },
     "metadata": {},
     "output_type": "display_data"
    },
    {
     "data": {
      "text/latex": [
       "$\\displaystyle Σ_{a5} = 0.0624$"
      ],
      "text/plain": [
       "Eq(Σ_a5, 0.0624)"
      ]
     },
     "metadata": {},
     "output_type": "display_data"
    },
    {
     "data": {
      "text/latex": [
       "$\\displaystyle Σ_{f5} = N_{5end} σ_{f5}$"
      ],
      "text/plain": [
       "Eq(Σ_f5, N_5end*σ_f5)"
      ]
     },
     "metadata": {},
     "output_type": "display_data"
    },
    {
     "data": {
      "text/latex": [
       "$\\displaystyle Σ_{f5} = 0.0529$"
      ],
      "text/plain": [
       "Eq(Σ_f5, 0.0529)"
      ]
     },
     "metadata": {},
     "output_type": "display_data"
    },
    {
     "data": {
      "text/latex": [
       "$\\displaystyle Σ_{a9} = N_{9} σ_{a9}$"
      ],
      "text/plain": [
       "Eq(Σ_a9, N_9*σ_a9)"
      ]
     },
     "metadata": {},
     "output_type": "display_data"
    },
    {
     "data": {
      "text/latex": [
       "$\\displaystyle Σ_{a9} = 0.156$"
      ],
      "text/plain": [
       "Eq(Σ_a9, 0.156)"
      ]
     },
     "metadata": {},
     "output_type": "display_data"
    },
    {
     "data": {
      "text/latex": [
       "$\\displaystyle Σ_{s9} = N_{9} \\sigma_{s9}$"
      ],
      "text/plain": [
       "Eq(Σ_s9, N_9*sigma_s9)"
      ]
     },
     "metadata": {},
     "output_type": "display_data"
    },
    {
     "data": {
      "text/latex": [
       "$\\displaystyle Σ_{s9} = 0.00101$"
      ],
      "text/plain": [
       "Eq(Σ_s9, 0.00101)"
      ]
     },
     "metadata": {},
     "output_type": "display_data"
    },
    {
     "data": {
      "text/latex": [
       "$\\displaystyle Σ_{f9} = N_{9} σ_{f9}$"
      ],
      "text/plain": [
       "Eq(Σ_f9, N_9*σ_f9)"
      ]
     },
     "metadata": {},
     "output_type": "display_data"
    },
    {
     "data": {
      "text/latex": [
       "$\\displaystyle Σ_{f9} = 0.101$"
      ],
      "text/plain": [
       "Eq(Σ_f9, 0.101)"
      ]
     },
     "metadata": {},
     "output_type": "display_data"
    },
    {
     "data": {
      "text/latex": [
       "$\\displaystyle Σ_{aslag} = N_{slag} \\sigma_{aslag}$"
      ],
      "text/plain": [
       "Eq(Σ_aslag, N_slag*sigma_aslag)"
      ]
     },
     "metadata": {},
     "output_type": "display_data"
    },
    {
     "data": {
      "text/latex": [
       "$\\displaystyle Σ_{aslag} = 0.0188$"
      ],
      "text/plain": [
       "Eq(Σ_aslag, 0.0188)"
      ]
     },
     "metadata": {},
     "output_type": "display_data"
    },
    {
     "data": {
      "text/latex": [
       "$\\displaystyle Σ_{aXe} = N_{Xe} \\sigma_{aXe}$"
      ],
      "text/plain": [
       "Eq(Σ_aXe, N_Xe*sigma_aXe)"
      ]
     },
     "metadata": {},
     "output_type": "display_data"
    },
    {
     "data": {
      "text/latex": [
       "$\\displaystyle Σ_{aXe} = 0.00251$"
      ],
      "text/plain": [
       "Eq(Σ_aXe, 0.00251)"
      ]
     },
     "metadata": {},
     "output_type": "display_data"
    },
    {
     "data": {
      "text/latex": [
       "$\\displaystyle Σ_{aSm} = N_{Sm} \\sigma_{aSm}$"
      ],
      "text/plain": [
       "Eq(Σ_aSm, N_Sm*sigma_aSm)"
      ]
     },
     "metadata": {},
     "output_type": "display_data"
    },
    {
     "data": {
      "text/latex": [
       "$\\displaystyle Σ_{aSm} = 0.000688$"
      ],
      "text/plain": [
       "Eq(Σ_aSm, 0.000688)"
      ]
     },
     "metadata": {},
     "output_type": "display_data"
    },
    {
     "data": {
      "text/latex": [
       "$\\displaystyle \\Sigma_{a 0} = Σ_{a5} + Σ_{a8} + Σ_{a9} + Σ_{aO2} + Σ_{aSm} + Σ_{aXe} + Σ_{aslag}$"
      ],
      "text/plain": [
       "Eq(Sigma_a_0, Σ_a5 + Σ_a8 + Σ_a9 + Σ_aO2 + Σ_aSm + Σ_aXe + Σ_aslag)"
      ]
     },
     "metadata": {},
     "output_type": "display_data"
    },
    {
     "data": {
      "text/latex": [
       "$\\displaystyle \\Sigma_{a 0} = 0.273$"
      ],
      "text/plain": [
       "Eq(Sigma_a_0, 0.273)"
      ]
     },
     "metadata": {},
     "output_type": "display_data"
    },
    {
     "data": {
      "text/latex": [
       "$\\displaystyle \\omega_{5} = \\frac{0.666666666666667}{A_{5}}$"
      ],
      "text/plain": [
       "Eq(omega_5, 0.666666666666667/A_5)"
      ]
     },
     "metadata": {},
     "output_type": "display_data"
    },
    {
     "data": {
      "text/latex": [
       "$\\displaystyle \\omega_{5} = 0.00284$"
      ],
      "text/plain": [
       "Eq(omega_5, 0.00284)"
      ]
     },
     "metadata": {},
     "output_type": "display_data"
    },
    {
     "data": {
      "text/latex": [
       "$\\displaystyle \\Sigma_{trs5} = Σ_{s5} \\cdot \\left(1 - \\omega_{5}\\right)$"
      ],
      "text/plain": [
       "Eq(Sigma_trs5, Σ_s5*(1 - omega_5))"
      ]
     },
     "metadata": {},
     "output_type": "display_data"
    },
    {
     "data": {
      "text/latex": [
       "$\\displaystyle \\Sigma_{trs5} = 0.00918$"
      ],
      "text/plain": [
       "Eq(Sigma_trs5, 0.00918)"
      ]
     },
     "metadata": {},
     "output_type": "display_data"
    },
    {
     "data": {
      "text/latex": [
       "$\\displaystyle \\Sigma_{tr5} = \\Sigma_{trs5} + Σ_{a5}$"
      ],
      "text/plain": [
       "Eq(Sigma_tr5, Sigma_trs5 + Σ_a5)"
      ]
     },
     "metadata": {},
     "output_type": "display_data"
    },
    {
     "data": {
      "text/latex": [
       "$\\displaystyle \\Sigma_{tr5} = 0.0716$"
      ],
      "text/plain": [
       "Eq(Sigma_tr5, 0.0716)"
      ]
     },
     "metadata": {},
     "output_type": "display_data"
    },
    {
     "data": {
      "text/latex": [
       "$\\displaystyle \\omega_{8} = \\frac{0.666666666666667}{A_{8}}$"
      ],
      "text/plain": [
       "Eq(omega_8, 0.666666666666667/A_8)"
      ]
     },
     "metadata": {},
     "output_type": "display_data"
    },
    {
     "data": {
      "text/latex": [
       "$\\displaystyle \\omega_{8} = 0.0028$"
      ],
      "text/plain": [
       "Eq(omega_8, 0.0028)"
      ]
     },
     "metadata": {},
     "output_type": "display_data"
    },
    {
     "data": {
      "text/latex": [
       "$\\displaystyle \\Sigma_{trs8} = Σ_{s8} \\cdot \\left(1 - \\omega_{8}\\right)$"
      ],
      "text/plain": [
       "Eq(Sigma_trs8, Σ_s8*(1 - omega_8))"
      ]
     },
     "metadata": {},
     "output_type": "display_data"
    },
    {
     "data": {
      "text/latex": [
       "$\\displaystyle \\Sigma_{trs8} = 0.192$"
      ],
      "text/plain": [
       "Eq(Sigma_trs8, 0.192)"
      ]
     },
     "metadata": {},
     "output_type": "display_data"
    },
    {
     "data": {
      "text/latex": [
       "$\\displaystyle \\Sigma_{tr8} = \\Sigma_{trs8} + Σ_{a8}$"
      ],
      "text/plain": [
       "Eq(Sigma_tr8, Sigma_trs8 + Σ_a8)"
      ]
     },
     "metadata": {},
     "output_type": "display_data"
    },
    {
     "data": {
      "text/latex": [
       "$\\displaystyle \\Sigma_{tr8} = 0.224$"
      ],
      "text/plain": [
       "Eq(Sigma_tr8, 0.224)"
      ]
     },
     "metadata": {},
     "output_type": "display_data"
    },
    {
     "data": {
      "text/latex": [
       "$\\displaystyle \\omega_{O2} = 0.0208$"
      ],
      "text/plain": [
       "Eq(omega_O2, 0.0208)"
      ]
     },
     "metadata": {},
     "output_type": "display_data"
    },
    {
     "data": {
      "text/latex": [
       "$\\displaystyle \\Sigma_{trsO2} = Σ_{sO2} \\cdot \\left(1 - \\omega_{O2}\\right)$"
      ],
      "text/plain": [
       "Eq(Sigma_trsO2, Σ_sO2*(1 - omega_O2))"
      ]
     },
     "metadata": {},
     "output_type": "display_data"
    },
    {
     "data": {
      "text/latex": [
       "$\\displaystyle \\Sigma_{trsO2} = 0.164$"
      ],
      "text/plain": [
       "Eq(Sigma_trsO2, 0.164)"
      ]
     },
     "metadata": {},
     "output_type": "display_data"
    },
    {
     "data": {
      "text/latex": [
       "$\\displaystyle \\Sigma_{trO2} = \\Sigma_{trsO2} + Σ_{aO2}$"
      ],
      "text/plain": [
       "Eq(Sigma_trO2, Sigma_trsO2 + Σ_aO2)"
      ]
     },
     "metadata": {},
     "output_type": "display_data"
    },
    {
     "data": {
      "text/latex": [
       "$\\displaystyle \\Sigma_{trO2} = 0.164$"
      ],
      "text/plain": [
       "Eq(Sigma_trO2, 0.164)"
      ]
     },
     "metadata": {},
     "output_type": "display_data"
    },
    {
     "data": {
      "text/latex": [
       "$\\displaystyle \\omega_{8} = 0.0106659046841968$"
      ],
      "text/plain": [
       "Eq(omega_8, 0.0106659046841968)"
      ]
     },
     "metadata": {},
     "output_type": "display_data"
    },
    {
     "data": {
      "text/latex": [
       "$\\displaystyle \\omega_{8} = 0.0107$"
      ],
      "text/plain": [
       "Eq(omega_8, 0.0107)"
      ]
     },
     "metadata": {},
     "output_type": "display_data"
    },
    {
     "data": {
      "text/latex": [
       "$\\displaystyle \\Sigma_{trscm} = Σ_{scm} \\left(1 - \\omega_{8}\\right)$"
      ],
      "text/plain": [
       "Eq(Sigma_trscm, Σ_scm*(1 - omega_8))"
      ]
     },
     "metadata": {},
     "output_type": "display_data"
    },
    {
     "data": {
      "text/latex": [
       "$\\displaystyle \\Sigma_{trscm} = 0.835$"
      ],
      "text/plain": [
       "Eq(Sigma_trscm, 0.835)"
      ]
     },
     "metadata": {},
     "output_type": "display_data"
    },
    {
     "data": {
      "text/latex": [
       "$\\displaystyle \\Sigma_{trcm} = \\Sigma_{trscm} + Σ_{acm}$"
      ],
      "text/plain": [
       "Eq(Sigma_trcm, Sigma_trscm + Σ_acm)"
      ]
     },
     "metadata": {},
     "output_type": "display_data"
    },
    {
     "data": {
      "text/latex": [
       "$\\displaystyle \\Sigma_{trcm} = 0.949$"
      ],
      "text/plain": [
       "Eq(Sigma_trcm, 0.949)"
      ]
     },
     "metadata": {},
     "output_type": "display_data"
    },
    {
     "data": {
      "text/latex": [
       "$\\displaystyle \\omega_{He} = \\frac{0.666666666666667}{A_{He}}$"
      ],
      "text/plain": [
       "Eq(omega_He, 0.666666666666667/A_He)"
      ]
     },
     "metadata": {},
     "output_type": "display_data"
    },
    {
     "data": {
      "text/latex": [
       "$\\displaystyle \\omega_{He} = 0.167$"
      ],
      "text/plain": [
       "Eq(omega_He, 0.167)"
      ]
     },
     "metadata": {},
     "output_type": "display_data"
    },
    {
     "data": {
      "text/latex": [
       "$\\displaystyle \\Sigma_{trsHe} = Σ_{sHe} \\left(1 - \\omega_{He}\\right)$"
      ],
      "text/plain": [
       "Eq(Sigma_trsHe, Σ_sHe*(1 - omega_He))"
      ]
     },
     "metadata": {},
     "output_type": "display_data"
    },
    {
     "data": {
      "text/latex": [
       "$\\displaystyle \\Sigma_{trsHe} = 1.79 \\cdot 10^{-5}$"
      ],
      "text/plain": [
       "Eq(Sigma_trsHe, 1.79e-5)"
      ]
     },
     "metadata": {},
     "output_type": "display_data"
    },
    {
     "data": {
      "text/latex": [
       "$\\displaystyle \\Sigma_{trHe} = \\Sigma_{trsHe} + Σ_{aHe}$"
      ],
      "text/plain": [
       "Eq(Sigma_trHe, Sigma_trsHe + Σ_aHe)"
      ]
     },
     "metadata": {},
     "output_type": "display_data"
    },
    {
     "data": {
      "text/latex": [
       "$\\displaystyle \\Sigma_{trHe} = 1.8 \\cdot 10^{-5}$"
      ],
      "text/plain": [
       "Eq(Sigma_trHe, 1.8e-5)"
      ]
     },
     "metadata": {},
     "output_type": "display_data"
    },
    {
     "data": {
      "text/latex": [
       "$\\displaystyle A_{9} = 239$"
      ],
      "text/plain": [
       "Eq(A_9, 239)"
      ]
     },
     "metadata": {},
     "output_type": "display_data"
    },
    {
     "data": {
      "text/latex": [
       "$\\displaystyle A_{9} = 239.0$"
      ],
      "text/plain": [
       "Eq(A_9, 239.0)"
      ]
     },
     "metadata": {},
     "output_type": "display_data"
    },
    {
     "data": {
      "text/latex": [
       "$\\displaystyle \\omega_{9} = \\frac{0.666666666666667}{A_{9}}$"
      ],
      "text/plain": [
       "Eq(omega_9, 0.666666666666667/A_9)"
      ]
     },
     "metadata": {},
     "output_type": "display_data"
    },
    {
     "data": {
      "text/latex": [
       "$\\displaystyle \\omega_{9} = 0.00279$"
      ],
      "text/plain": [
       "Eq(omega_9, 0.00279)"
      ]
     },
     "metadata": {},
     "output_type": "display_data"
    },
    {
     "data": {
      "text/latex": [
       "$\\displaystyle \\Sigma_{trs9} = Σ_{s9} \\cdot \\left(1 - \\omega_{9}\\right)$"
      ],
      "text/plain": [
       "Eq(Sigma_trs9, Σ_s9*(1 - omega_9))"
      ]
     },
     "metadata": {},
     "output_type": "display_data"
    },
    {
     "data": {
      "text/latex": [
       "$\\displaystyle \\Sigma_{trs9} = 0.001$"
      ],
      "text/plain": [
       "Eq(Sigma_trs9, 0.001)"
      ]
     },
     "metadata": {},
     "output_type": "display_data"
    },
    {
     "data": {
      "text/latex": [
       "$\\displaystyle \\Sigma_{tr9} = \\Sigma_{trs9} + Σ_{a9}$"
      ],
      "text/plain": [
       "Eq(Sigma_tr9, Sigma_trs9 + Σ_a9)"
      ]
     },
     "metadata": {},
     "output_type": "display_data"
    },
    {
     "data": {
      "text/latex": [
       "$\\displaystyle \\Sigma_{tr9} = 0.157$"
      ],
      "text/plain": [
       "Eq(Sigma_tr9, 0.157)"
      ]
     },
     "metadata": {},
     "output_type": "display_data"
    },
    {
     "data": {
      "text/latex": [
       "$\\displaystyle \\Sigma_{trH2O} = \\frac{12.4373963442769 ρ_{H2O}^{2} \\sqrt{0.000209556313993174 T + 1}}{T Σ_{aH2O}}$"
      ],
      "text/plain": [
       "Eq(Sigma_trH2O, 12.4373963442769*ρ_H2O**2*sqrt(0.000209556313993174*T + 1)/(T*Σ_aH2O))"
      ]
     },
     "metadata": {},
     "output_type": "display_data"
    },
    {
     "data": {
      "text/latex": [
       "$\\displaystyle \\Sigma_{trH2O} = 1.03$"
      ],
      "text/plain": [
       "Eq(Sigma_trH2O, 1.03)"
      ]
     },
     "metadata": {},
     "output_type": "display_data"
    },
    {
     "data": {
      "text/latex": [
       "$\\displaystyle \\Sigma_{tr0} = \\Sigma_{tr5} + \\Sigma_{tr8} + \\Sigma_{tr9} + \\Sigma_{trO2} + Σ_{aSm} + Σ_{aXe} + Σ_{aslag}$"
      ],
      "text/plain": [
       "Eq(Sigma_tr0, Sigma_tr5 + Sigma_tr8 + Sigma_tr9 + Sigma_trO2 + Σ_aSm + Σ_aXe + Σ_aslag)"
      ]
     },
     "metadata": {},
     "output_type": "display_data"
    },
    {
     "data": {
      "text/latex": [
       "$\\displaystyle \\Sigma_{tr0} = 0.638$"
      ],
      "text/plain": [
       "Eq(Sigma_tr0, 0.638)"
      ]
     },
     "metadata": {},
     "output_type": "display_data"
    },
    {
     "data": {
      "text/latex": [
       "$\\displaystyle \\Sigma_{tr1} = \\frac{F_{HE} \\Sigma_{trHe} + \\Sigma_{trH2O} f_{moderE} + \\Sigma_{trcm} f_{cmE}}{f_{1}}$"
      ],
      "text/plain": [
       "Eq(Sigma_tr1, (F_HE*Sigma_trHe + Sigma_trH2O*f_moderE + Sigma_trcm*f_cmE)/f_1)"
      ]
     },
     "metadata": {},
     "output_type": "display_data"
    },
    {
     "data": {
      "text/latex": [
       "$\\displaystyle \\Sigma_{tr1} = 1.0$"
      ],
      "text/plain": [
       "Eq(Sigma_tr1, 1.0)"
      ]
     },
     "metadata": {},
     "output_type": "display_data"
    },
    {
     "data": {
      "text/latex": [
       "$\\displaystyle \\eta = \\frac{\\nu_{f5} Σ_{f5} + \\nu_{f9} Σ_{f9}}{\\Sigma_{a 0}}$"
      ],
      "text/plain": [
       "Eq(eta, (nu_f5*Σ_f5 + nu_f9*Σ_f9)/Sigma_a_0)"
      ]
     },
     "metadata": {},
     "output_type": "display_data"
    },
    {
     "data": {
      "text/latex": [
       "$\\displaystyle \\eta = 1.53$"
      ],
      "text/plain": [
       "Eq(eta, 1.53)"
      ]
     },
     "metadata": {},
     "output_type": "display_data"
    },
    {
     "data": {
      "text/latex": [
       "$\\displaystyle \\epsilon = 1.04$"
      ],
      "text/plain": [
       "Eq(epsilon, 1.04)"
      ]
     },
     "metadata": {},
     "output_type": "display_data"
    },
    {
     "data": {
      "text/latex": [
       "$\\displaystyle \\varphi = 0.743$"
      ],
      "text/plain": [
       "Eq(varphi, 0.743)"
      ]
     },
     "metadata": {},
     "output_type": "display_data"
    },
    {
     "data": {
      "text/latex": [
       "$\\displaystyle A = 449.0 \\Sigma_{tr0}^{2} d_{f}^{2} + 13.535 \\Sigma_{tr0} d_{f}$"
      ],
      "text/plain": [
       "Eq(A, 449.0*Sigma_tr0**2*d_f**2 + 13.535*Sigma_tr0*d_f)"
      ]
     },
     "metadata": {},
     "output_type": "display_data"
    },
    {
     "data": {
      "text/latex": [
       "$\\displaystyle A = 0.0762$"
      ],
      "text/plain": [
       "Eq(A, 0.0762)"
      ]
     },
     "metadata": {},
     "output_type": "display_data"
    },
    {
     "data": {
      "text/latex": [
       "$\\displaystyle a_{forQ} = - 9.25 \\Sigma_{tr0}^{2} d_{f}^{2} + 3.35 \\Sigma_{tr0} d_{f}$"
      ],
      "text/plain": [
       "Eq(a_forQ, -9.25*Sigma_tr0**2*d_f**2 + 3.35*Sigma_tr0*d_f)"
      ]
     },
     "metadata": {},
     "output_type": "display_data"
    },
    {
     "data": {
      "text/latex": [
       "$\\displaystyle a_{forQ} = 0.016$"
      ],
      "text/plain": [
       "Eq(a_forQ, 0.016)"
      ]
     },
     "metadata": {},
     "output_type": "display_data"
    },
    {
     "data": {
      "text/latex": [
       "$\\displaystyle b = 0.027$"
      ],
      "text/plain": [
       "Eq(b, 0.027)"
      ]
     },
     "metadata": {},
     "output_type": "display_data"
    },
    {
     "data": {
      "text/latex": [
       "$\\displaystyle b = 0.027$"
      ],
      "text/plain": [
       "Eq(b, 0.027)"
      ]
     },
     "metadata": {},
     "output_type": "display_data"
    },
    {
     "data": {
      "text/latex": [
       "$\\displaystyle Q_{0} = \\frac{A \\Sigma_{a 0} \\left(\\frac{\\Sigma_{s 0}^{2} b}{\\Sigma_{tr0}^{2}} + \\frac{\\Sigma_{s 0} a_{forQ}}{\\Sigma_{tr0}} + 1\\right)}{\\Sigma_{tr0}} + 1$"
      ],
      "text/plain": [
       "Eq(Q_0, A*Sigma_a_0*(Sigma_s_0**2*b/Sigma_tr0**2 + Sigma_s_0*a_forQ/Sigma_tr0 + 1)/Sigma_tr0 + 1)"
      ]
     },
     "metadata": {},
     "output_type": "display_data"
    },
    {
     "data": {
      "text/latex": [
       "$\\displaystyle Q_{0} = 1.03$"
      ],
      "text/plain": [
       "Eq(Q_0, 1.03)"
      ]
     },
     "metadata": {},
     "output_type": "display_data"
    },
    {
     "data": {
      "text/latex": [
       "$\\displaystyle q_{0} = \\frac{Q_{0} \\Sigma_{a 1} f_{1}}{F_{fuel} \\Sigma_{a 0}}$"
      ],
      "text/plain": [
       "Eq(q_0, Q_0*Sigma_a_1*f_1/(F_fuel*Sigma_a_0))"
      ]
     },
     "metadata": {},
     "output_type": "display_data"
    },
    {
     "data": {
      "text/latex": [
       "$\\displaystyle q_{0} = 0.255$"
      ],
      "text/plain": [
       "Eq(q_0, 0.255)"
      ]
     },
     "metadata": {},
     "output_type": "display_data"
    },
    {
     "data": {
      "text/latex": [
       "$\\displaystyle L_{1} = \\frac{0.577350269189626}{\\sqrt{\\Sigma_{a 1}} \\sqrt{\\Sigma_{tr1}}}$"
      ],
      "text/plain": [
       "Eq(L_1, 0.577350269189626/(sqrt(Sigma_a_1)*sqrt(Sigma_tr1)))"
      ]
     },
     "metadata": {},
     "output_type": "display_data"
    },
    {
     "data": {
      "text/latex": [
       "$\\displaystyle L_{1} = 3.4$"
      ],
      "text/plain": [
       "Eq(L_1, 3.4)"
      ]
     },
     "metadata": {},
     "output_type": "display_data"
    },
    {
     "data": {
      "text/latex": [
       "$\\displaystyle \\psi = \\frac{2 R_{E}}{d_{f}}$"
      ],
      "text/plain": [
       "Eq(psi, 2*R_E/d_f)"
      ]
     },
     "metadata": {},
     "output_type": "display_data"
    },
    {
     "data": {
      "text/latex": [
       "$\\displaystyle \\psi = 1.83$"
      ],
      "text/plain": [
       "Eq(psi, 1.83)"
      ]
     },
     "metadata": {},
     "output_type": "display_data"
    },
    {
     "data": {
      "text/latex": [
       "$\\displaystyle q_{1} = \\frac{5000.0 R_{E}^{2} \\left(\\frac{\\psi^{2} \\log{\\left(\\psi \\right)}}{\\psi^{2} - 1} - 0.75 + \\frac{0.25}{\\psi}\\right)}{L_{1}^{2}}$"
      ],
      "text/plain": [
       "Eq(q_1, 5000.0*R_E**2*(psi**2*log(psi)/(psi**2 - 1) - 0.75 + 0.25/psi)/L_1**2)"
      ]
     },
     "metadata": {},
     "output_type": "display_data"
    },
    {
     "data": {
      "text/latex": [
       "$\\displaystyle q_{1} = 0.00517$"
      ],
      "text/plain": [
       "Eq(q_1, 0.00517)"
      ]
     },
     "metadata": {},
     "output_type": "display_data"
    },
    {
     "data": {
      "text/latex": [
       "$\\displaystyle q = q_{0} + q_{1}$"
      ],
      "text/plain": [
       "Eq(q, q_0 + q_1)"
      ]
     },
     "metadata": {},
     "output_type": "display_data"
    },
    {
     "data": {
      "text/latex": [
       "$\\displaystyle q = 0.26$"
      ],
      "text/plain": [
       "Eq(q, 0.26)"
      ]
     },
     "metadata": {},
     "output_type": "display_data"
    },
    {
     "data": {
      "text/latex": [
       "$\\displaystyle \\theta = \\frac{1}{q + 1}$"
      ],
      "text/plain": [
       "Eq(theta, 1/(q + 1))"
      ]
     },
     "metadata": {},
     "output_type": "display_data"
    },
    {
     "data": {
      "text/latex": [
       "$\\displaystyle \\theta = 0.793$"
      ],
      "text/plain": [
       "Eq(theta, 0.793)"
      ]
     },
     "metadata": {},
     "output_type": "display_data"
    },
    {
     "data": {
      "text/latex": [
       "$\\displaystyle K_{inf} = \\epsilon \\eta \\theta \\varphi$"
      ],
      "text/plain": [
       "Eq(K_inf, epsilon*eta*theta*varphi)"
      ]
     },
     "metadata": {},
     "output_type": "display_data"
    },
    {
     "data": {
      "text/latex": [
       "$\\displaystyle K_{inf} = 0.937$"
      ],
      "text/plain": [
       "Eq(K_inf, 0.937)"
      ]
     },
     "metadata": {},
     "output_type": "display_data"
    },
    {
     "data": {
      "text/latex": [
       "$\\displaystyle \\tau_{H2O} = 31.4$"
      ],
      "text/plain": [
       "Eq(tau_H2O, 31.4)"
      ]
     },
     "metadata": {},
     "output_type": "display_data"
    },
    {
     "data": {
      "text/latex": [
       "$\\displaystyle \\tau_{H2O} = 31.4$"
      ],
      "text/plain": [
       "Eq(tau_H2O, 31.4)"
      ]
     },
     "metadata": {},
     "output_type": "display_data"
    },
    {
     "data": {
      "text/latex": [
       "$\\displaystyle \\tau_{t} = \\frac{\\tau_{H2O} \\left(\\frac{f_{cmE}}{f_{moderE}} + 1 + \\frac{1}{W}\\right)^{2}}{\\left(\\frac{0.4 f_{cmE}}{f_{moderE}} + ρ_{H2O} + \\frac{0.82}{W}\\right)^{2}}$"
      ],
      "text/plain": [
       "Eq(tau_t, tau_H2O*(f_cmE/f_moderE + 1 + 1/W)**2/(0.4*f_cmE/f_moderE + ρ_H2O + 0.82/W)**2)"
      ]
     },
     "metadata": {},
     "output_type": "display_data"
    },
    {
     "data": {
      "text/latex": [
       "$\\displaystyle \\tau_{t} = 62.8$"
      ],
      "text/plain": [
       "Eq(tau_t, 62.8)"
      ]
     },
     "metadata": {},
     "output_type": "display_data"
    },
    {
     "data": {
      "text/latex": [
       "$\\displaystyle L_{0} = \\frac{0.577350269189626}{\\sqrt{\\Sigma_{a 0}} \\sqrt{\\Sigma_{tr0}}}$"
      ],
      "text/plain": [
       "Eq(L_0, 0.577350269189626/(sqrt(Sigma_a_0)*sqrt(Sigma_tr0)))"
      ]
     },
     "metadata": {},
     "output_type": "display_data"
    },
    {
     "data": {
      "text/latex": [
       "$\\displaystyle L_{0} = 1.38$"
      ],
      "text/plain": [
       "Eq(L_0, 1.38)"
      ]
     },
     "metadata": {},
     "output_type": "display_data"
    },
    {
     "data": {
      "text/latex": [
       "$\\displaystyle L^{2} = L_{0}^{2} \\theta + L_{1}^{2} \\cdot \\left(1 - \\theta\\right)$"
      ],
      "text/plain": [
       "Eq(L^2, L_0**2*theta + L_1**2*(1 - theta))"
      ]
     },
     "metadata": {},
     "output_type": "display_data"
    },
    {
     "data": {
      "text/latex": [
       "$\\displaystyle L^{2} = 3.91$"
      ],
      "text/plain": [
       "Eq(L^2, 3.91)"
      ]
     },
     "metadata": {},
     "output_type": "display_data"
    },
    {
     "data": {
      "text/latex": [
       "$\\displaystyle M^{2} = L^{2} + \\tau_{t}$"
      ],
      "text/plain": [
       "Eq(M^2, L^2 + tau_t)"
      ]
     },
     "metadata": {},
     "output_type": "display_data"
    },
    {
     "data": {
      "text/latex": [
       "$\\displaystyle M^{2} = 66.8$"
      ],
      "text/plain": [
       "Eq(M^2, 66.8)"
      ]
     },
     "metadata": {},
     "output_type": "display_data"
    },
    {
     "data": {
      "text/latex": [
       "$\\displaystyle \\delta_{eff} = 0.1 M^{2} + 3.2$"
      ],
      "text/plain": [
       "Eq(delta_eff, 0.1*M^2 + 3.2)"
      ]
     },
     "metadata": {},
     "output_type": "display_data"
    },
    {
     "data": {
      "text/latex": [
       "$\\displaystyle \\delta_{eff} = 9.88$"
      ],
      "text/plain": [
       "Eq(delta_eff, 9.88)"
      ]
     },
     "metadata": {},
     "output_type": "display_data"
    },
    {
     "data": {
      "text/latex": [
       "$\\displaystyle H_{eff} = 100 H + 2 \\delta_{eff}$"
      ],
      "text/plain": [
       "Eq(H_eff, 100*H + 2*delta_eff)"
      ]
     },
     "metadata": {},
     "output_type": "display_data"
    },
    {
     "data": {
      "text/latex": [
       "$\\displaystyle H_{eff} = 298.0$"
      ],
      "text/plain": [
       "Eq(H_eff, 298.0)"
      ]
     },
     "metadata": {},
     "output_type": "display_data"
    },
    {
     "data": {
      "text/latex": [
       "$\\displaystyle R_{eff} = 50 D + \\delta_{eff}$"
      ],
      "text/plain": [
       "Eq(R_eff, 50*D + delta_eff)"
      ]
     },
     "metadata": {},
     "output_type": "display_data"
    },
    {
     "data": {
      "text/latex": [
       "$\\displaystyle R_{eff} = 149.0$"
      ],
      "text/plain": [
       "Eq(R_eff, 149.0)"
      ]
     },
     "metadata": {},
     "output_type": "display_data"
    },
    {
     "data": {
      "text/latex": [
       "$\\displaystyle B^{2} = \\frac{5.784025}{R_{eff}^{2}} + \\frac{\\pi^{2}}{H_{eff}^{2}}$"
      ],
      "text/plain": [
       "Eq(B^2, 5.784025/R_eff**2 + pi**2/H_eff**2)"
      ]
     },
     "metadata": {},
     "output_type": "display_data"
    },
    {
     "data": {
      "text/latex": [
       "$\\displaystyle B^{2} = 0.000373$"
      ],
      "text/plain": [
       "Eq(B^2, 0.000373)"
      ]
     },
     "metadata": {},
     "output_type": "display_data"
    },
    {
     "data": {
      "text/latex": [
       "$\\displaystyle P_{mod} = e^{- B^{2} \\tau_{t}}$"
      ],
      "text/plain": [
       "Eq(P_mod, exp(-B^2*tau_t))"
      ]
     },
     "metadata": {},
     "output_type": "display_data"
    },
    {
     "data": {
      "text/latex": [
       "$\\displaystyle P_{mod} = 0.977$"
      ],
      "text/plain": [
       "Eq(P_mod, 0.977)"
      ]
     },
     "metadata": {},
     "output_type": "display_data"
    },
    {
     "data": {
      "text/latex": [
       "$\\displaystyle P_{dif} = \\frac{1}{B^{2} L^{2} + 1}$"
      ],
      "text/plain": [
       "Eq(P_dif, 1/(B^2*L^2 + 1))"
      ]
     },
     "metadata": {},
     "output_type": "display_data"
    },
    {
     "data": {
      "text/latex": [
       "$\\displaystyle P_{dif} = 0.999$"
      ],
      "text/plain": [
       "Eq(P_dif, 0.999)"
      ]
     },
     "metadata": {},
     "output_type": "display_data"
    },
    {
     "data": {
      "text/latex": [
       "$\\displaystyle K_{eff} = K_{inf} P_{dif} P_{mod}$"
      ],
      "text/plain": [
       "Eq(K_eff, K_inf*P_dif*P_mod)"
      ]
     },
     "metadata": {},
     "output_type": "display_data"
    },
    {
     "data": {
      "text/latex": [
       "$\\displaystyle K_{eff} = 0.913956$"
      ],
      "text/plain": [
       "Eq(K_eff, 0.913956)"
      ]
     },
     "metadata": {},
     "output_type": "display_data"
    }
   ],
   "source": [
    "TTT=g_fh[list(g_fh.keys())[-1]]\n",
    "print(list(g_sh.keys())[-28])\n",
    "epsilon=g_sh[list(g_sh.keys())[-29]]\n",
    "varphi=g_sh[list(g_sh.keys())[-24]]\n",
    "arrr=[epsilon,varphi]\n",
    "graph=graph_copy.copy()\n",
    "gr_end=main(xi=xi,TTT=TTT,Temp=True,VAR=2,cold=False,mas=arrr)"
   ]
  },
  {
   "cell_type": "markdown",
   "id": "3340842b-07c6-4f22-9a84-9f4b90a52bad",
   "metadata": {
    "tags": []
   },
   "source": [
    "# Таблица"
   ]
  },
  {
   "cell_type": "code",
   "execution_count": 9,
   "id": "b90e9bfb-d9d2-422a-9907-024ed8522325",
   "metadata": {},
   "outputs": [
    {
     "name": "stdout",
     "output_type": "stream",
     "text": [
      "      Name                   Num\n",
      "0      Q_p                  1399\n",
      "0      q_v                    83\n",
      "0      T_p                  7000\n",
      "0      P_1                    16\n",
      "0   t_aver                   580\n",
      "..     ...                   ...\n",
      "0    R_eff      148.823814037057\n",
      "0      B^2  0.000372549644841008\n",
      "0    P_mod     0.976859708953787\n",
      "0    P_dif     0.998544764120820\n",
      "0    K_eff     0.913955695920291\n",
      "\n",
      "[585 rows x 2 columns]\n"
     ]
    }
   ],
   "source": [
    "from openpyxl import load_workbook\n",
    "def write_in_excel(sheet_name,arr):\n",
    "    global data\n",
    "    book = load_workbook('demo.xlsx')\n",
    "    writer = pd.ExcelWriter('demo.xlsx', engine='openpyxl') \n",
    "    writer.book = book\n",
    "    writer.sheets = dict((ws.title, ws) for ws in book.worksheets)\n",
    "    data.to_excel(writer,sheet_name=sheet_name,columns=arr);\n",
    "    writer.save()\n",
    "write_in_excel('inv',[\"Name\",\"Num\"])\n",
    "print(data)"
   ]
  },
  {
   "cell_type": "markdown",
   "id": "17d90892-3fb1-4d12-abb0-b428daf01ec1",
   "metadata": {
    "tags": []
   },
   "source": [
    "## Подбор оптимального обогащения реактора"
   ]
  },
  {
   "cell_type": "code",
   "execution_count": 10,
   "id": "6ccd8cc4-e7fd-40b4-a144-c444f5b50098",
   "metadata": {},
   "outputs": [
    {
     "data": {
      "text/latex": [
       "$\\displaystyle X = 3.7615$"
      ],
      "text/plain": [
       "Eq(X, 3.7615)"
      ]
     },
     "metadata": {},
     "output_type": "display_data"
    },
    {
     "data": {
      "text/latex": [
       "$\\displaystyle K_{eff} = 1.0$"
      ],
      "text/plain": [
       "Eq(K_eff, 1.0)"
      ]
     },
     "metadata": {},
     "output_type": "display_data"
    }
   ],
   "source": [
    "Showing=False\n",
    "graph=graph_copy.copy()\n",
    "def find_X(x,res=False,plot=False,VAR=None):\n",
    "    try:\n",
    "        xi=float(x[0])\n",
    "        g_fh=mainfh()\n",
    "        g_sh=main2(g_fh,xi=xi,cold=False)\n",
    "        TTT=g_fh[list(g_fh.keys())[-1]]\n",
    "        epsilon=g_sh[list(g_sh.keys())[-29]]\n",
    "        varphi=g_sh[list(g_sh.keys())[-24]]\n",
    "        arrr=[epsilon,varphi]\n",
    "        Showing=False\n",
    "        gr_end=main(xi=xi,TTT=TTT,Temp=True,VAR=2,cold=False,mas=arrr)\n",
    "        K_eff=gr_end[list(gr_end.keys())[-1]]\n",
    "        if VAR==44:\n",
    "            Showing=False\n",
    "            K_1=g_sh[list(g_sh.keys())[-1]]\n",
    "            g_sc=main2(g_fh,xi=xi,cold=True)\n",
    "            K_2=g_sc[list(g_sc.keys())[-1]]\n",
    "            arrr.append(abs(K_2-K_1))\n",
    "            Showing=True\n",
    "            gr_end=main(xi=xi,TTT=TTT,Temp=True,VAR=44,cold=False,mas=arrr)\n",
    "        if res==True:\n",
    "            K=sympy.symbols(\"K_eff\")\n",
    "            disp.display(sympy.Eq(K,sympy.N(K_eff,3)))\n",
    "        if plot==False:\n",
    "            return abs(K_eff-1)\n",
    "        else:\n",
    "            return K_eff\n",
    "    except Exception:\n",
    "        return 1e10\n",
    "import scipy.optimize as opt\n",
    "bounds = [[0.02,0.8]]\n",
    "x0=[0.03]\n",
    "result = opt.minimize(find_X,x0, bounds=bounds)\n",
    "ans=result.x[0]\n",
    "X=sympy.symbols(\"X\")\n",
    "disp.display(sympy.Eq(X,sympy.N(ans*100,5)))\n",
    "a=find_X([ans],res=True)"
   ]
  }
 ],
 "metadata": {
  "kernelspec": {
   "display_name": "Python 3 (ipykernel)",
   "language": "python",
   "name": "python3"
  },
  "language_info": {
   "codemirror_mode": {
    "name": "ipython",
    "version": 3
   },
   "file_extension": ".py",
   "mimetype": "text/x-python",
   "name": "python",
   "nbconvert_exporter": "python",
   "pygments_lexer": "ipython3",
   "version": "3.8.7"
  },
  "toc-autonumbering": false,
  "toc-showcode": true,
  "toc-showmarkdowntxt": false
 },
 "nbformat": 4,
 "nbformat_minor": 5
}
